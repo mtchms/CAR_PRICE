{
 "cells": [
  {
   "cell_type": "markdown",
   "metadata": {},
   "source": [
    "# Стоимость автомобилей"
   ]
  },
  {
   "cell_type": "markdown",
   "metadata": {},
   "source": [
    "Есть датасет с историческими данными: технические характеристики, комплектации и цены автомобилей. Нужно построить модель для определения стоимости. \n",
    "\n",
    "Заказчику важны:\n",
    "\n",
    "- качество предсказания;\n",
    "- скорость предсказания;\n",
    "- время обучения."
   ]
  },
  {
   "cell_type": "markdown",
   "metadata": {},
   "source": [
    "## Подготовка данных"
   ]
  },
  {
   "cell_type": "code",
   "execution_count": 1,
   "metadata": {},
   "outputs": [],
   "source": [
    "!pip install -q phik"
   ]
  },
  {
   "cell_type": "code",
   "execution_count": 2,
   "metadata": {},
   "outputs": [],
   "source": [
    "import pandas as pd\n",
    "import numpy as np\n",
    "import sklearn as sk\n",
    "from sklearn.model_selection import train_test_split\n",
    "from sklearn.pipeline import Pipeline\n",
    "from sklearn.preprocessing import OneHotEncoder, OrdinalEncoder, StandardScaler, MinMaxScaler, RobustScaler\n",
    "from sklearn.compose import ColumnTransformer\n",
    "from sklearn.impute import SimpleImputer\n",
    "from sklearn.metrics import roc_auc_score, make_scorer\n",
    "from sklearn.model_selection import GridSearchCV\n",
    "from sklearn.linear_model import Ridge\n",
    "from sklearn.tree import DecisionTreeRegressor\n",
    "from warnings import simplefilter\n",
    "from sklearn.preprocessing import LabelEncoder\n",
    "from sklearn.model_selection import RandomizedSearchCV\n",
    "import lightgbm as lgb\n",
    "import warnings\n",
    "from scipy.stats import randint, uniform\n",
    "from sklearn.metrics import mean_squared_error\n",
    "from sklearn.metrics import r2_score\n",
    "from lightgbm import LGBMRegressor\n",
    "import phik\n",
    "import seaborn as sns\n",
    "import matplotlib.pyplot as plt"
   ]
  },
  {
   "cell_type": "code",
   "execution_count": 3,
   "metadata": {},
   "outputs": [],
   "source": [
    "warnings.filterwarnings(\"ignore\")"
   ]
  },
  {
   "cell_type": "code",
   "execution_count": 4,
   "metadata": {},
   "outputs": [],
   "source": [
    "autos_data = pd.read_csv('/datasets/autos.csv')"
   ]
  },
  {
   "cell_type": "code",
   "execution_count": 5,
   "metadata": {},
   "outputs": [
    {
     "data": {
      "text/html": [
       "<div>\n",
       "<style scoped>\n",
       "    .dataframe tbody tr th:only-of-type {\n",
       "        vertical-align: middle;\n",
       "    }\n",
       "\n",
       "    .dataframe tbody tr th {\n",
       "        vertical-align: top;\n",
       "    }\n",
       "\n",
       "    .dataframe thead th {\n",
       "        text-align: right;\n",
       "    }\n",
       "</style>\n",
       "<table border=\"1\" class=\"dataframe\">\n",
       "  <thead>\n",
       "    <tr style=\"text-align: right;\">\n",
       "      <th></th>\n",
       "      <th>DateCrawled</th>\n",
       "      <th>Price</th>\n",
       "      <th>VehicleType</th>\n",
       "      <th>RegistrationYear</th>\n",
       "      <th>Gearbox</th>\n",
       "      <th>Power</th>\n",
       "      <th>Model</th>\n",
       "      <th>Kilometer</th>\n",
       "      <th>RegistrationMonth</th>\n",
       "      <th>FuelType</th>\n",
       "      <th>Brand</th>\n",
       "      <th>Repaired</th>\n",
       "      <th>DateCreated</th>\n",
       "      <th>NumberOfPictures</th>\n",
       "      <th>PostalCode</th>\n",
       "      <th>LastSeen</th>\n",
       "    </tr>\n",
       "  </thead>\n",
       "  <tbody>\n",
       "    <tr>\n",
       "      <th>0</th>\n",
       "      <td>2016-03-24 11:52:17</td>\n",
       "      <td>480</td>\n",
       "      <td>NaN</td>\n",
       "      <td>1993</td>\n",
       "      <td>manual</td>\n",
       "      <td>0</td>\n",
       "      <td>golf</td>\n",
       "      <td>150000</td>\n",
       "      <td>0</td>\n",
       "      <td>petrol</td>\n",
       "      <td>volkswagen</td>\n",
       "      <td>NaN</td>\n",
       "      <td>2016-03-24 00:00:00</td>\n",
       "      <td>0</td>\n",
       "      <td>70435</td>\n",
       "      <td>2016-04-07 03:16:57</td>\n",
       "    </tr>\n",
       "    <tr>\n",
       "      <th>1</th>\n",
       "      <td>2016-03-24 10:58:45</td>\n",
       "      <td>18300</td>\n",
       "      <td>coupe</td>\n",
       "      <td>2011</td>\n",
       "      <td>manual</td>\n",
       "      <td>190</td>\n",
       "      <td>NaN</td>\n",
       "      <td>125000</td>\n",
       "      <td>5</td>\n",
       "      <td>gasoline</td>\n",
       "      <td>audi</td>\n",
       "      <td>yes</td>\n",
       "      <td>2016-03-24 00:00:00</td>\n",
       "      <td>0</td>\n",
       "      <td>66954</td>\n",
       "      <td>2016-04-07 01:46:50</td>\n",
       "    </tr>\n",
       "    <tr>\n",
       "      <th>2</th>\n",
       "      <td>2016-03-14 12:52:21</td>\n",
       "      <td>9800</td>\n",
       "      <td>suv</td>\n",
       "      <td>2004</td>\n",
       "      <td>auto</td>\n",
       "      <td>163</td>\n",
       "      <td>grand</td>\n",
       "      <td>125000</td>\n",
       "      <td>8</td>\n",
       "      <td>gasoline</td>\n",
       "      <td>jeep</td>\n",
       "      <td>NaN</td>\n",
       "      <td>2016-03-14 00:00:00</td>\n",
       "      <td>0</td>\n",
       "      <td>90480</td>\n",
       "      <td>2016-04-05 12:47:46</td>\n",
       "    </tr>\n",
       "    <tr>\n",
       "      <th>3</th>\n",
       "      <td>2016-03-17 16:54:04</td>\n",
       "      <td>1500</td>\n",
       "      <td>small</td>\n",
       "      <td>2001</td>\n",
       "      <td>manual</td>\n",
       "      <td>75</td>\n",
       "      <td>golf</td>\n",
       "      <td>150000</td>\n",
       "      <td>6</td>\n",
       "      <td>petrol</td>\n",
       "      <td>volkswagen</td>\n",
       "      <td>no</td>\n",
       "      <td>2016-03-17 00:00:00</td>\n",
       "      <td>0</td>\n",
       "      <td>91074</td>\n",
       "      <td>2016-03-17 17:40:17</td>\n",
       "    </tr>\n",
       "    <tr>\n",
       "      <th>4</th>\n",
       "      <td>2016-03-31 17:25:20</td>\n",
       "      <td>3600</td>\n",
       "      <td>small</td>\n",
       "      <td>2008</td>\n",
       "      <td>manual</td>\n",
       "      <td>69</td>\n",
       "      <td>fabia</td>\n",
       "      <td>90000</td>\n",
       "      <td>7</td>\n",
       "      <td>gasoline</td>\n",
       "      <td>skoda</td>\n",
       "      <td>no</td>\n",
       "      <td>2016-03-31 00:00:00</td>\n",
       "      <td>0</td>\n",
       "      <td>60437</td>\n",
       "      <td>2016-04-06 10:17:21</td>\n",
       "    </tr>\n",
       "    <tr>\n",
       "      <th>5</th>\n",
       "      <td>2016-04-04 17:36:23</td>\n",
       "      <td>650</td>\n",
       "      <td>sedan</td>\n",
       "      <td>1995</td>\n",
       "      <td>manual</td>\n",
       "      <td>102</td>\n",
       "      <td>3er</td>\n",
       "      <td>150000</td>\n",
       "      <td>10</td>\n",
       "      <td>petrol</td>\n",
       "      <td>bmw</td>\n",
       "      <td>yes</td>\n",
       "      <td>2016-04-04 00:00:00</td>\n",
       "      <td>0</td>\n",
       "      <td>33775</td>\n",
       "      <td>2016-04-06 19:17:07</td>\n",
       "    </tr>\n",
       "    <tr>\n",
       "      <th>6</th>\n",
       "      <td>2016-04-01 20:48:51</td>\n",
       "      <td>2200</td>\n",
       "      <td>convertible</td>\n",
       "      <td>2004</td>\n",
       "      <td>manual</td>\n",
       "      <td>109</td>\n",
       "      <td>2_reihe</td>\n",
       "      <td>150000</td>\n",
       "      <td>8</td>\n",
       "      <td>petrol</td>\n",
       "      <td>peugeot</td>\n",
       "      <td>no</td>\n",
       "      <td>2016-04-01 00:00:00</td>\n",
       "      <td>0</td>\n",
       "      <td>67112</td>\n",
       "      <td>2016-04-05 18:18:39</td>\n",
       "    </tr>\n",
       "    <tr>\n",
       "      <th>7</th>\n",
       "      <td>2016-03-21 18:54:38</td>\n",
       "      <td>0</td>\n",
       "      <td>sedan</td>\n",
       "      <td>1980</td>\n",
       "      <td>manual</td>\n",
       "      <td>50</td>\n",
       "      <td>other</td>\n",
       "      <td>40000</td>\n",
       "      <td>7</td>\n",
       "      <td>petrol</td>\n",
       "      <td>volkswagen</td>\n",
       "      <td>no</td>\n",
       "      <td>2016-03-21 00:00:00</td>\n",
       "      <td>0</td>\n",
       "      <td>19348</td>\n",
       "      <td>2016-03-25 16:47:58</td>\n",
       "    </tr>\n",
       "    <tr>\n",
       "      <th>8</th>\n",
       "      <td>2016-04-04 23:42:13</td>\n",
       "      <td>14500</td>\n",
       "      <td>bus</td>\n",
       "      <td>2014</td>\n",
       "      <td>manual</td>\n",
       "      <td>125</td>\n",
       "      <td>c_max</td>\n",
       "      <td>30000</td>\n",
       "      <td>8</td>\n",
       "      <td>petrol</td>\n",
       "      <td>ford</td>\n",
       "      <td>NaN</td>\n",
       "      <td>2016-04-04 00:00:00</td>\n",
       "      <td>0</td>\n",
       "      <td>94505</td>\n",
       "      <td>2016-04-04 23:42:13</td>\n",
       "    </tr>\n",
       "    <tr>\n",
       "      <th>9</th>\n",
       "      <td>2016-03-17 10:53:50</td>\n",
       "      <td>999</td>\n",
       "      <td>small</td>\n",
       "      <td>1998</td>\n",
       "      <td>manual</td>\n",
       "      <td>101</td>\n",
       "      <td>golf</td>\n",
       "      <td>150000</td>\n",
       "      <td>0</td>\n",
       "      <td>NaN</td>\n",
       "      <td>volkswagen</td>\n",
       "      <td>NaN</td>\n",
       "      <td>2016-03-17 00:00:00</td>\n",
       "      <td>0</td>\n",
       "      <td>27472</td>\n",
       "      <td>2016-03-31 17:17:06</td>\n",
       "    </tr>\n",
       "    <tr>\n",
       "      <th>10</th>\n",
       "      <td>2016-03-26 19:54:18</td>\n",
       "      <td>2000</td>\n",
       "      <td>sedan</td>\n",
       "      <td>2004</td>\n",
       "      <td>manual</td>\n",
       "      <td>105</td>\n",
       "      <td>3_reihe</td>\n",
       "      <td>150000</td>\n",
       "      <td>12</td>\n",
       "      <td>petrol</td>\n",
       "      <td>mazda</td>\n",
       "      <td>no</td>\n",
       "      <td>2016-03-26 00:00:00</td>\n",
       "      <td>0</td>\n",
       "      <td>96224</td>\n",
       "      <td>2016-04-06 10:45:34</td>\n",
       "    </tr>\n",
       "    <tr>\n",
       "      <th>11</th>\n",
       "      <td>2016-04-07 10:06:22</td>\n",
       "      <td>2799</td>\n",
       "      <td>wagon</td>\n",
       "      <td>2005</td>\n",
       "      <td>manual</td>\n",
       "      <td>140</td>\n",
       "      <td>passat</td>\n",
       "      <td>150000</td>\n",
       "      <td>12</td>\n",
       "      <td>gasoline</td>\n",
       "      <td>volkswagen</td>\n",
       "      <td>yes</td>\n",
       "      <td>2016-04-07 00:00:00</td>\n",
       "      <td>0</td>\n",
       "      <td>57290</td>\n",
       "      <td>2016-04-07 10:25:17</td>\n",
       "    </tr>\n",
       "    <tr>\n",
       "      <th>12</th>\n",
       "      <td>2016-03-15 22:49:09</td>\n",
       "      <td>999</td>\n",
       "      <td>wagon</td>\n",
       "      <td>1995</td>\n",
       "      <td>manual</td>\n",
       "      <td>115</td>\n",
       "      <td>passat</td>\n",
       "      <td>150000</td>\n",
       "      <td>11</td>\n",
       "      <td>petrol</td>\n",
       "      <td>volkswagen</td>\n",
       "      <td>NaN</td>\n",
       "      <td>2016-03-15 00:00:00</td>\n",
       "      <td>0</td>\n",
       "      <td>37269</td>\n",
       "      <td>2016-04-01 13:16:16</td>\n",
       "    </tr>\n",
       "    <tr>\n",
       "      <th>13</th>\n",
       "      <td>2016-03-21 21:37:40</td>\n",
       "      <td>2500</td>\n",
       "      <td>wagon</td>\n",
       "      <td>2004</td>\n",
       "      <td>manual</td>\n",
       "      <td>131</td>\n",
       "      <td>passat</td>\n",
       "      <td>150000</td>\n",
       "      <td>2</td>\n",
       "      <td>NaN</td>\n",
       "      <td>volkswagen</td>\n",
       "      <td>no</td>\n",
       "      <td>2016-03-21 00:00:00</td>\n",
       "      <td>0</td>\n",
       "      <td>90762</td>\n",
       "      <td>2016-03-23 02:50:54</td>\n",
       "    </tr>\n",
       "    <tr>\n",
       "      <th>14</th>\n",
       "      <td>2016-03-21 12:57:01</td>\n",
       "      <td>17999</td>\n",
       "      <td>suv</td>\n",
       "      <td>2011</td>\n",
       "      <td>manual</td>\n",
       "      <td>190</td>\n",
       "      <td>navara</td>\n",
       "      <td>70000</td>\n",
       "      <td>3</td>\n",
       "      <td>gasoline</td>\n",
       "      <td>nissan</td>\n",
       "      <td>no</td>\n",
       "      <td>2016-03-21 00:00:00</td>\n",
       "      <td>0</td>\n",
       "      <td>4177</td>\n",
       "      <td>2016-04-06 07:45:42</td>\n",
       "    </tr>\n",
       "    <tr>\n",
       "      <th>15</th>\n",
       "      <td>2016-03-11 21:39:15</td>\n",
       "      <td>450</td>\n",
       "      <td>small</td>\n",
       "      <td>1910</td>\n",
       "      <td>NaN</td>\n",
       "      <td>0</td>\n",
       "      <td>ka</td>\n",
       "      <td>5000</td>\n",
       "      <td>0</td>\n",
       "      <td>petrol</td>\n",
       "      <td>ford</td>\n",
       "      <td>NaN</td>\n",
       "      <td>2016-03-11 00:00:00</td>\n",
       "      <td>0</td>\n",
       "      <td>24148</td>\n",
       "      <td>2016-03-19 08:46:47</td>\n",
       "    </tr>\n",
       "    <tr>\n",
       "      <th>16</th>\n",
       "      <td>2016-04-01 12:46:46</td>\n",
       "      <td>300</td>\n",
       "      <td>NaN</td>\n",
       "      <td>2016</td>\n",
       "      <td>NaN</td>\n",
       "      <td>60</td>\n",
       "      <td>polo</td>\n",
       "      <td>150000</td>\n",
       "      <td>0</td>\n",
       "      <td>petrol</td>\n",
       "      <td>volkswagen</td>\n",
       "      <td>NaN</td>\n",
       "      <td>2016-04-01 00:00:00</td>\n",
       "      <td>0</td>\n",
       "      <td>38871</td>\n",
       "      <td>2016-04-01 12:46:46</td>\n",
       "    </tr>\n",
       "    <tr>\n",
       "      <th>17</th>\n",
       "      <td>2016-03-20 10:25:19</td>\n",
       "      <td>1750</td>\n",
       "      <td>small</td>\n",
       "      <td>2004</td>\n",
       "      <td>auto</td>\n",
       "      <td>75</td>\n",
       "      <td>twingo</td>\n",
       "      <td>150000</td>\n",
       "      <td>2</td>\n",
       "      <td>petrol</td>\n",
       "      <td>renault</td>\n",
       "      <td>no</td>\n",
       "      <td>2016-03-20 00:00:00</td>\n",
       "      <td>0</td>\n",
       "      <td>65599</td>\n",
       "      <td>2016-04-06 13:16:07</td>\n",
       "    </tr>\n",
       "    <tr>\n",
       "      <th>18</th>\n",
       "      <td>2016-03-23 15:48:05</td>\n",
       "      <td>7550</td>\n",
       "      <td>bus</td>\n",
       "      <td>2007</td>\n",
       "      <td>manual</td>\n",
       "      <td>136</td>\n",
       "      <td>c_max</td>\n",
       "      <td>150000</td>\n",
       "      <td>6</td>\n",
       "      <td>gasoline</td>\n",
       "      <td>ford</td>\n",
       "      <td>no</td>\n",
       "      <td>2016-03-23 00:00:00</td>\n",
       "      <td>0</td>\n",
       "      <td>88361</td>\n",
       "      <td>2016-04-05 18:45:11</td>\n",
       "    </tr>\n",
       "    <tr>\n",
       "      <th>19</th>\n",
       "      <td>2016-04-01 22:55:47</td>\n",
       "      <td>1850</td>\n",
       "      <td>bus</td>\n",
       "      <td>2004</td>\n",
       "      <td>manual</td>\n",
       "      <td>102</td>\n",
       "      <td>a_klasse</td>\n",
       "      <td>150000</td>\n",
       "      <td>1</td>\n",
       "      <td>petrol</td>\n",
       "      <td>mercedes_benz</td>\n",
       "      <td>no</td>\n",
       "      <td>2016-04-01 00:00:00</td>\n",
       "      <td>0</td>\n",
       "      <td>49565</td>\n",
       "      <td>2016-04-05 22:46:05</td>\n",
       "    </tr>\n",
       "    <tr>\n",
       "      <th>20</th>\n",
       "      <td>2016-04-01 19:56:48</td>\n",
       "      <td>10400</td>\n",
       "      <td>coupe</td>\n",
       "      <td>2009</td>\n",
       "      <td>manual</td>\n",
       "      <td>160</td>\n",
       "      <td>scirocco</td>\n",
       "      <td>100000</td>\n",
       "      <td>4</td>\n",
       "      <td>petrol</td>\n",
       "      <td>volkswagen</td>\n",
       "      <td>no</td>\n",
       "      <td>2016-04-01 00:00:00</td>\n",
       "      <td>0</td>\n",
       "      <td>75365</td>\n",
       "      <td>2016-04-05 16:45:49</td>\n",
       "    </tr>\n",
       "    <tr>\n",
       "      <th>21</th>\n",
       "      <td>2016-03-27 11:38:00</td>\n",
       "      <td>3699</td>\n",
       "      <td>sedan</td>\n",
       "      <td>2002</td>\n",
       "      <td>auto</td>\n",
       "      <td>231</td>\n",
       "      <td>5er</td>\n",
       "      <td>150000</td>\n",
       "      <td>7</td>\n",
       "      <td>petrol</td>\n",
       "      <td>bmw</td>\n",
       "      <td>no</td>\n",
       "      <td>2016-03-27 00:00:00</td>\n",
       "      <td>0</td>\n",
       "      <td>68309</td>\n",
       "      <td>2016-04-07 06:44:26</td>\n",
       "    </tr>\n",
       "    <tr>\n",
       "      <th>22</th>\n",
       "      <td>2016-03-23 14:52:51</td>\n",
       "      <td>2900</td>\n",
       "      <td>NaN</td>\n",
       "      <td>2018</td>\n",
       "      <td>manual</td>\n",
       "      <td>90</td>\n",
       "      <td>meriva</td>\n",
       "      <td>150000</td>\n",
       "      <td>5</td>\n",
       "      <td>petrol</td>\n",
       "      <td>opel</td>\n",
       "      <td>no</td>\n",
       "      <td>2016-03-23 00:00:00</td>\n",
       "      <td>0</td>\n",
       "      <td>49716</td>\n",
       "      <td>2016-03-31 01:16:33</td>\n",
       "    </tr>\n",
       "    <tr>\n",
       "      <th>23</th>\n",
       "      <td>2016-03-12 19:43:07</td>\n",
       "      <td>450</td>\n",
       "      <td>small</td>\n",
       "      <td>1997</td>\n",
       "      <td>manual</td>\n",
       "      <td>50</td>\n",
       "      <td>arosa</td>\n",
       "      <td>150000</td>\n",
       "      <td>5</td>\n",
       "      <td>petrol</td>\n",
       "      <td>seat</td>\n",
       "      <td>no</td>\n",
       "      <td>2016-03-12 00:00:00</td>\n",
       "      <td>0</td>\n",
       "      <td>9526</td>\n",
       "      <td>2016-03-21 01:46:11</td>\n",
       "    </tr>\n",
       "    <tr>\n",
       "      <th>24</th>\n",
       "      <td>2016-03-13 20:40:49</td>\n",
       "      <td>500</td>\n",
       "      <td>sedan</td>\n",
       "      <td>1990</td>\n",
       "      <td>manual</td>\n",
       "      <td>118</td>\n",
       "      <td>other</td>\n",
       "      <td>150000</td>\n",
       "      <td>10</td>\n",
       "      <td>petrol</td>\n",
       "      <td>mercedes_benz</td>\n",
       "      <td>yes</td>\n",
       "      <td>2016-03-13 00:00:00</td>\n",
       "      <td>0</td>\n",
       "      <td>35390</td>\n",
       "      <td>2016-03-13 20:40:49</td>\n",
       "    </tr>\n",
       "    <tr>\n",
       "      <th>25</th>\n",
       "      <td>2016-03-18 21:44:09</td>\n",
       "      <td>2500</td>\n",
       "      <td>wagon</td>\n",
       "      <td>2002</td>\n",
       "      <td>auto</td>\n",
       "      <td>193</td>\n",
       "      <td>5er</td>\n",
       "      <td>150000</td>\n",
       "      <td>9</td>\n",
       "      <td>gasoline</td>\n",
       "      <td>bmw</td>\n",
       "      <td>yes</td>\n",
       "      <td>2016-03-18 00:00:00</td>\n",
       "      <td>0</td>\n",
       "      <td>73765</td>\n",
       "      <td>2016-03-18 21:44:09</td>\n",
       "    </tr>\n",
       "    <tr>\n",
       "      <th>26</th>\n",
       "      <td>2016-03-10 19:38:18</td>\n",
       "      <td>5555</td>\n",
       "      <td>NaN</td>\n",
       "      <td>2017</td>\n",
       "      <td>manual</td>\n",
       "      <td>125</td>\n",
       "      <td>c4</td>\n",
       "      <td>125000</td>\n",
       "      <td>4</td>\n",
       "      <td>NaN</td>\n",
       "      <td>citroen</td>\n",
       "      <td>no</td>\n",
       "      <td>2016-03-10 00:00:00</td>\n",
       "      <td>0</td>\n",
       "      <td>31139</td>\n",
       "      <td>2016-03-16 09:16:46</td>\n",
       "    </tr>\n",
       "    <tr>\n",
       "      <th>27</th>\n",
       "      <td>2016-03-07 12:51:23</td>\n",
       "      <td>6900</td>\n",
       "      <td>sedan</td>\n",
       "      <td>2008</td>\n",
       "      <td>manual</td>\n",
       "      <td>99</td>\n",
       "      <td>civic</td>\n",
       "      <td>60000</td>\n",
       "      <td>11</td>\n",
       "      <td>petrol</td>\n",
       "      <td>honda</td>\n",
       "      <td>no</td>\n",
       "      <td>2016-03-07 00:00:00</td>\n",
       "      <td>0</td>\n",
       "      <td>12621</td>\n",
       "      <td>2016-03-26 09:44:53</td>\n",
       "    </tr>\n",
       "    <tr>\n",
       "      <th>28</th>\n",
       "      <td>2016-03-09 11:56:38</td>\n",
       "      <td>1990</td>\n",
       "      <td>bus</td>\n",
       "      <td>1981</td>\n",
       "      <td>manual</td>\n",
       "      <td>50</td>\n",
       "      <td>transporter</td>\n",
       "      <td>5000</td>\n",
       "      <td>1</td>\n",
       "      <td>petrol</td>\n",
       "      <td>volkswagen</td>\n",
       "      <td>no</td>\n",
       "      <td>2016-03-09 00:00:00</td>\n",
       "      <td>0</td>\n",
       "      <td>87471</td>\n",
       "      <td>2016-03-10 07:44:33</td>\n",
       "    </tr>\n",
       "    <tr>\n",
       "      <th>29</th>\n",
       "      <td>2016-03-08 19:55:19</td>\n",
       "      <td>690</td>\n",
       "      <td>small</td>\n",
       "      <td>2003</td>\n",
       "      <td>manual</td>\n",
       "      <td>60</td>\n",
       "      <td>punto</td>\n",
       "      <td>150000</td>\n",
       "      <td>3</td>\n",
       "      <td>petrol</td>\n",
       "      <td>fiat</td>\n",
       "      <td>no</td>\n",
       "      <td>2016-03-08 00:00:00</td>\n",
       "      <td>0</td>\n",
       "      <td>86199</td>\n",
       "      <td>2016-03-09 11:45:28</td>\n",
       "    </tr>\n",
       "    <tr>\n",
       "      <th>30</th>\n",
       "      <td>2016-04-03 15:48:11</td>\n",
       "      <td>3300</td>\n",
       "      <td>sedan</td>\n",
       "      <td>1995</td>\n",
       "      <td>auto</td>\n",
       "      <td>113</td>\n",
       "      <td>e_klasse</td>\n",
       "      <td>150000</td>\n",
       "      <td>1</td>\n",
       "      <td>gasoline</td>\n",
       "      <td>mercedes_benz</td>\n",
       "      <td>no</td>\n",
       "      <td>2016-04-03 00:00:00</td>\n",
       "      <td>0</td>\n",
       "      <td>53879</td>\n",
       "      <td>2016-04-05 15:16:05</td>\n",
       "    </tr>\n",
       "    <tr>\n",
       "      <th>31</th>\n",
       "      <td>2016-03-29 16:57:02</td>\n",
       "      <td>899</td>\n",
       "      <td>NaN</td>\n",
       "      <td>2016</td>\n",
       "      <td>manual</td>\n",
       "      <td>60</td>\n",
       "      <td>clio</td>\n",
       "      <td>150000</td>\n",
       "      <td>6</td>\n",
       "      <td>petrol</td>\n",
       "      <td>renault</td>\n",
       "      <td>NaN</td>\n",
       "      <td>2016-03-29 00:00:00</td>\n",
       "      <td>0</td>\n",
       "      <td>37075</td>\n",
       "      <td>2016-03-29 17:43:07</td>\n",
       "    </tr>\n",
       "    <tr>\n",
       "      <th>32</th>\n",
       "      <td>2016-03-15 20:59:01</td>\n",
       "      <td>245</td>\n",
       "      <td>sedan</td>\n",
       "      <td>1994</td>\n",
       "      <td>NaN</td>\n",
       "      <td>0</td>\n",
       "      <td>golf</td>\n",
       "      <td>150000</td>\n",
       "      <td>2</td>\n",
       "      <td>petrol</td>\n",
       "      <td>volkswagen</td>\n",
       "      <td>no</td>\n",
       "      <td>2016-03-15 00:00:00</td>\n",
       "      <td>0</td>\n",
       "      <td>44145</td>\n",
       "      <td>2016-03-17 18:17:43</td>\n",
       "    </tr>\n",
       "    <tr>\n",
       "      <th>33</th>\n",
       "      <td>2016-03-25 21:48:47</td>\n",
       "      <td>18000</td>\n",
       "      <td>sedan</td>\n",
       "      <td>2007</td>\n",
       "      <td>auto</td>\n",
       "      <td>218</td>\n",
       "      <td>3er</td>\n",
       "      <td>20000</td>\n",
       "      <td>5</td>\n",
       "      <td>petrol</td>\n",
       "      <td>bmw</td>\n",
       "      <td>no</td>\n",
       "      <td>2016-03-25 00:00:00</td>\n",
       "      <td>0</td>\n",
       "      <td>39179</td>\n",
       "      <td>2016-04-07 04:45:21</td>\n",
       "    </tr>\n",
       "    <tr>\n",
       "      <th>34</th>\n",
       "      <td>2016-03-17 18:55:12</td>\n",
       "      <td>3500</td>\n",
       "      <td>sedan</td>\n",
       "      <td>2004</td>\n",
       "      <td>auto</td>\n",
       "      <td>122</td>\n",
       "      <td>e_klasse</td>\n",
       "      <td>150000</td>\n",
       "      <td>11</td>\n",
       "      <td>gasoline</td>\n",
       "      <td>mercedes_benz</td>\n",
       "      <td>no</td>\n",
       "      <td>2016-03-17 00:00:00</td>\n",
       "      <td>0</td>\n",
       "      <td>67071</td>\n",
       "      <td>2016-03-30 15:46:10</td>\n",
       "    </tr>\n",
       "    <tr>\n",
       "      <th>35</th>\n",
       "      <td>2016-03-08 07:54:46</td>\n",
       "      <td>350</td>\n",
       "      <td>NaN</td>\n",
       "      <td>2016</td>\n",
       "      <td>manual</td>\n",
       "      <td>75</td>\n",
       "      <td>golf</td>\n",
       "      <td>150000</td>\n",
       "      <td>4</td>\n",
       "      <td>petrol</td>\n",
       "      <td>volkswagen</td>\n",
       "      <td>no</td>\n",
       "      <td>2016-03-08 00:00:00</td>\n",
       "      <td>0</td>\n",
       "      <td>19386</td>\n",
       "      <td>2016-03-08 09:44:50</td>\n",
       "    </tr>\n",
       "    <tr>\n",
       "      <th>36</th>\n",
       "      <td>2016-03-11 11:50:37</td>\n",
       "      <td>1600</td>\n",
       "      <td>other</td>\n",
       "      <td>1991</td>\n",
       "      <td>manual</td>\n",
       "      <td>75</td>\n",
       "      <td>kadett</td>\n",
       "      <td>70000</td>\n",
       "      <td>0</td>\n",
       "      <td>NaN</td>\n",
       "      <td>opel</td>\n",
       "      <td>NaN</td>\n",
       "      <td>2016-03-11 00:00:00</td>\n",
       "      <td>0</td>\n",
       "      <td>2943</td>\n",
       "      <td>2016-04-07 03:46:09</td>\n",
       "    </tr>\n",
       "    <tr>\n",
       "      <th>37</th>\n",
       "      <td>2016-03-28 17:50:15</td>\n",
       "      <td>1500</td>\n",
       "      <td>NaN</td>\n",
       "      <td>2016</td>\n",
       "      <td>NaN</td>\n",
       "      <td>0</td>\n",
       "      <td>kangoo</td>\n",
       "      <td>150000</td>\n",
       "      <td>1</td>\n",
       "      <td>gasoline</td>\n",
       "      <td>renault</td>\n",
       "      <td>no</td>\n",
       "      <td>2016-03-28 00:00:00</td>\n",
       "      <td>0</td>\n",
       "      <td>46483</td>\n",
       "      <td>2016-03-30 09:18:02</td>\n",
       "    </tr>\n",
       "    <tr>\n",
       "      <th>38</th>\n",
       "      <td>2016-04-01 17:45:07</td>\n",
       "      <td>11900</td>\n",
       "      <td>other</td>\n",
       "      <td>2002</td>\n",
       "      <td>manual</td>\n",
       "      <td>129</td>\n",
       "      <td>other</td>\n",
       "      <td>150000</td>\n",
       "      <td>11</td>\n",
       "      <td>gasoline</td>\n",
       "      <td>volkswagen</td>\n",
       "      <td>no</td>\n",
       "      <td>2016-04-01 00:00:00</td>\n",
       "      <td>0</td>\n",
       "      <td>10551</td>\n",
       "      <td>2016-04-05 12:47:30</td>\n",
       "    </tr>\n",
       "    <tr>\n",
       "      <th>39</th>\n",
       "      <td>2016-03-25 15:50:30</td>\n",
       "      <td>1500</td>\n",
       "      <td>bus</td>\n",
       "      <td>1984</td>\n",
       "      <td>manual</td>\n",
       "      <td>70</td>\n",
       "      <td>other</td>\n",
       "      <td>150000</td>\n",
       "      <td>8</td>\n",
       "      <td>gasoline</td>\n",
       "      <td>mercedes_benz</td>\n",
       "      <td>no</td>\n",
       "      <td>2016-03-25 00:00:00</td>\n",
       "      <td>0</td>\n",
       "      <td>22767</td>\n",
       "      <td>2016-03-27 03:17:02</td>\n",
       "    </tr>\n",
       "  </tbody>\n",
       "</table>\n",
       "</div>"
      ],
      "text/plain": [
       "            DateCrawled  Price  VehicleType  RegistrationYear Gearbox  Power  \\\n",
       "0   2016-03-24 11:52:17    480          NaN              1993  manual      0   \n",
       "1   2016-03-24 10:58:45  18300        coupe              2011  manual    190   \n",
       "2   2016-03-14 12:52:21   9800          suv              2004    auto    163   \n",
       "3   2016-03-17 16:54:04   1500        small              2001  manual     75   \n",
       "4   2016-03-31 17:25:20   3600        small              2008  manual     69   \n",
       "5   2016-04-04 17:36:23    650        sedan              1995  manual    102   \n",
       "6   2016-04-01 20:48:51   2200  convertible              2004  manual    109   \n",
       "7   2016-03-21 18:54:38      0        sedan              1980  manual     50   \n",
       "8   2016-04-04 23:42:13  14500          bus              2014  manual    125   \n",
       "9   2016-03-17 10:53:50    999        small              1998  manual    101   \n",
       "10  2016-03-26 19:54:18   2000        sedan              2004  manual    105   \n",
       "11  2016-04-07 10:06:22   2799        wagon              2005  manual    140   \n",
       "12  2016-03-15 22:49:09    999        wagon              1995  manual    115   \n",
       "13  2016-03-21 21:37:40   2500        wagon              2004  manual    131   \n",
       "14  2016-03-21 12:57:01  17999          suv              2011  manual    190   \n",
       "15  2016-03-11 21:39:15    450        small              1910     NaN      0   \n",
       "16  2016-04-01 12:46:46    300          NaN              2016     NaN     60   \n",
       "17  2016-03-20 10:25:19   1750        small              2004    auto     75   \n",
       "18  2016-03-23 15:48:05   7550          bus              2007  manual    136   \n",
       "19  2016-04-01 22:55:47   1850          bus              2004  manual    102   \n",
       "20  2016-04-01 19:56:48  10400        coupe              2009  manual    160   \n",
       "21  2016-03-27 11:38:00   3699        sedan              2002    auto    231   \n",
       "22  2016-03-23 14:52:51   2900          NaN              2018  manual     90   \n",
       "23  2016-03-12 19:43:07    450        small              1997  manual     50   \n",
       "24  2016-03-13 20:40:49    500        sedan              1990  manual    118   \n",
       "25  2016-03-18 21:44:09   2500        wagon              2002    auto    193   \n",
       "26  2016-03-10 19:38:18   5555          NaN              2017  manual    125   \n",
       "27  2016-03-07 12:51:23   6900        sedan              2008  manual     99   \n",
       "28  2016-03-09 11:56:38   1990          bus              1981  manual     50   \n",
       "29  2016-03-08 19:55:19    690        small              2003  manual     60   \n",
       "30  2016-04-03 15:48:11   3300        sedan              1995    auto    113   \n",
       "31  2016-03-29 16:57:02    899          NaN              2016  manual     60   \n",
       "32  2016-03-15 20:59:01    245        sedan              1994     NaN      0   \n",
       "33  2016-03-25 21:48:47  18000        sedan              2007    auto    218   \n",
       "34  2016-03-17 18:55:12   3500        sedan              2004    auto    122   \n",
       "35  2016-03-08 07:54:46    350          NaN              2016  manual     75   \n",
       "36  2016-03-11 11:50:37   1600        other              1991  manual     75   \n",
       "37  2016-03-28 17:50:15   1500          NaN              2016     NaN      0   \n",
       "38  2016-04-01 17:45:07  11900        other              2002  manual    129   \n",
       "39  2016-03-25 15:50:30   1500          bus              1984  manual     70   \n",
       "\n",
       "          Model  Kilometer  RegistrationMonth  FuelType          Brand  \\\n",
       "0          golf     150000                  0    petrol     volkswagen   \n",
       "1           NaN     125000                  5  gasoline           audi   \n",
       "2         grand     125000                  8  gasoline           jeep   \n",
       "3          golf     150000                  6    petrol     volkswagen   \n",
       "4         fabia      90000                  7  gasoline          skoda   \n",
       "5           3er     150000                 10    petrol            bmw   \n",
       "6       2_reihe     150000                  8    petrol        peugeot   \n",
       "7         other      40000                  7    petrol     volkswagen   \n",
       "8         c_max      30000                  8    petrol           ford   \n",
       "9          golf     150000                  0       NaN     volkswagen   \n",
       "10      3_reihe     150000                 12    petrol          mazda   \n",
       "11       passat     150000                 12  gasoline     volkswagen   \n",
       "12       passat     150000                 11    petrol     volkswagen   \n",
       "13       passat     150000                  2       NaN     volkswagen   \n",
       "14       navara      70000                  3  gasoline         nissan   \n",
       "15           ka       5000                  0    petrol           ford   \n",
       "16         polo     150000                  0    petrol     volkswagen   \n",
       "17       twingo     150000                  2    petrol        renault   \n",
       "18        c_max     150000                  6  gasoline           ford   \n",
       "19     a_klasse     150000                  1    petrol  mercedes_benz   \n",
       "20     scirocco     100000                  4    petrol     volkswagen   \n",
       "21          5er     150000                  7    petrol            bmw   \n",
       "22       meriva     150000                  5    petrol           opel   \n",
       "23        arosa     150000                  5    petrol           seat   \n",
       "24        other     150000                 10    petrol  mercedes_benz   \n",
       "25          5er     150000                  9  gasoline            bmw   \n",
       "26           c4     125000                  4       NaN        citroen   \n",
       "27        civic      60000                 11    petrol          honda   \n",
       "28  transporter       5000                  1    petrol     volkswagen   \n",
       "29        punto     150000                  3    petrol           fiat   \n",
       "30     e_klasse     150000                  1  gasoline  mercedes_benz   \n",
       "31         clio     150000                  6    petrol        renault   \n",
       "32         golf     150000                  2    petrol     volkswagen   \n",
       "33          3er      20000                  5    petrol            bmw   \n",
       "34     e_klasse     150000                 11  gasoline  mercedes_benz   \n",
       "35         golf     150000                  4    petrol     volkswagen   \n",
       "36       kadett      70000                  0       NaN           opel   \n",
       "37       kangoo     150000                  1  gasoline        renault   \n",
       "38        other     150000                 11  gasoline     volkswagen   \n",
       "39        other     150000                  8  gasoline  mercedes_benz   \n",
       "\n",
       "   Repaired          DateCreated  NumberOfPictures  PostalCode  \\\n",
       "0       NaN  2016-03-24 00:00:00                 0       70435   \n",
       "1       yes  2016-03-24 00:00:00                 0       66954   \n",
       "2       NaN  2016-03-14 00:00:00                 0       90480   \n",
       "3        no  2016-03-17 00:00:00                 0       91074   \n",
       "4        no  2016-03-31 00:00:00                 0       60437   \n",
       "5       yes  2016-04-04 00:00:00                 0       33775   \n",
       "6        no  2016-04-01 00:00:00                 0       67112   \n",
       "7        no  2016-03-21 00:00:00                 0       19348   \n",
       "8       NaN  2016-04-04 00:00:00                 0       94505   \n",
       "9       NaN  2016-03-17 00:00:00                 0       27472   \n",
       "10       no  2016-03-26 00:00:00                 0       96224   \n",
       "11      yes  2016-04-07 00:00:00                 0       57290   \n",
       "12      NaN  2016-03-15 00:00:00                 0       37269   \n",
       "13       no  2016-03-21 00:00:00                 0       90762   \n",
       "14       no  2016-03-21 00:00:00                 0        4177   \n",
       "15      NaN  2016-03-11 00:00:00                 0       24148   \n",
       "16      NaN  2016-04-01 00:00:00                 0       38871   \n",
       "17       no  2016-03-20 00:00:00                 0       65599   \n",
       "18       no  2016-03-23 00:00:00                 0       88361   \n",
       "19       no  2016-04-01 00:00:00                 0       49565   \n",
       "20       no  2016-04-01 00:00:00                 0       75365   \n",
       "21       no  2016-03-27 00:00:00                 0       68309   \n",
       "22       no  2016-03-23 00:00:00                 0       49716   \n",
       "23       no  2016-03-12 00:00:00                 0        9526   \n",
       "24      yes  2016-03-13 00:00:00                 0       35390   \n",
       "25      yes  2016-03-18 00:00:00                 0       73765   \n",
       "26       no  2016-03-10 00:00:00                 0       31139   \n",
       "27       no  2016-03-07 00:00:00                 0       12621   \n",
       "28       no  2016-03-09 00:00:00                 0       87471   \n",
       "29       no  2016-03-08 00:00:00                 0       86199   \n",
       "30       no  2016-04-03 00:00:00                 0       53879   \n",
       "31      NaN  2016-03-29 00:00:00                 0       37075   \n",
       "32       no  2016-03-15 00:00:00                 0       44145   \n",
       "33       no  2016-03-25 00:00:00                 0       39179   \n",
       "34       no  2016-03-17 00:00:00                 0       67071   \n",
       "35       no  2016-03-08 00:00:00                 0       19386   \n",
       "36      NaN  2016-03-11 00:00:00                 0        2943   \n",
       "37       no  2016-03-28 00:00:00                 0       46483   \n",
       "38       no  2016-04-01 00:00:00                 0       10551   \n",
       "39       no  2016-03-25 00:00:00                 0       22767   \n",
       "\n",
       "               LastSeen  \n",
       "0   2016-04-07 03:16:57  \n",
       "1   2016-04-07 01:46:50  \n",
       "2   2016-04-05 12:47:46  \n",
       "3   2016-03-17 17:40:17  \n",
       "4   2016-04-06 10:17:21  \n",
       "5   2016-04-06 19:17:07  \n",
       "6   2016-04-05 18:18:39  \n",
       "7   2016-03-25 16:47:58  \n",
       "8   2016-04-04 23:42:13  \n",
       "9   2016-03-31 17:17:06  \n",
       "10  2016-04-06 10:45:34  \n",
       "11  2016-04-07 10:25:17  \n",
       "12  2016-04-01 13:16:16  \n",
       "13  2016-03-23 02:50:54  \n",
       "14  2016-04-06 07:45:42  \n",
       "15  2016-03-19 08:46:47  \n",
       "16  2016-04-01 12:46:46  \n",
       "17  2016-04-06 13:16:07  \n",
       "18  2016-04-05 18:45:11  \n",
       "19  2016-04-05 22:46:05  \n",
       "20  2016-04-05 16:45:49  \n",
       "21  2016-04-07 06:44:26  \n",
       "22  2016-03-31 01:16:33  \n",
       "23  2016-03-21 01:46:11  \n",
       "24  2016-03-13 20:40:49  \n",
       "25  2016-03-18 21:44:09  \n",
       "26  2016-03-16 09:16:46  \n",
       "27  2016-03-26 09:44:53  \n",
       "28  2016-03-10 07:44:33  \n",
       "29  2016-03-09 11:45:28  \n",
       "30  2016-04-05 15:16:05  \n",
       "31  2016-03-29 17:43:07  \n",
       "32  2016-03-17 18:17:43  \n",
       "33  2016-04-07 04:45:21  \n",
       "34  2016-03-30 15:46:10  \n",
       "35  2016-03-08 09:44:50  \n",
       "36  2016-04-07 03:46:09  \n",
       "37  2016-03-30 09:18:02  \n",
       "38  2016-04-05 12:47:30  \n",
       "39  2016-03-27 03:17:02  "
      ]
     },
     "execution_count": 5,
     "metadata": {},
     "output_type": "execute_result"
    }
   ],
   "source": [
    "autos_data.head(40)"
   ]
  },
  {
   "cell_type": "code",
   "execution_count": 6,
   "metadata": {
    "scrolled": true
   },
   "outputs": [
    {
     "name": "stdout",
     "output_type": "stream",
     "text": [
      "<class 'pandas.core.frame.DataFrame'>\n",
      "RangeIndex: 354369 entries, 0 to 354368\n",
      "Data columns (total 16 columns):\n",
      " #   Column             Non-Null Count   Dtype \n",
      "---  ------             --------------   ----- \n",
      " 0   DateCrawled        354369 non-null  object\n",
      " 1   Price              354369 non-null  int64 \n",
      " 2   VehicleType        316879 non-null  object\n",
      " 3   RegistrationYear   354369 non-null  int64 \n",
      " 4   Gearbox            334536 non-null  object\n",
      " 5   Power              354369 non-null  int64 \n",
      " 6   Model              334664 non-null  object\n",
      " 7   Kilometer          354369 non-null  int64 \n",
      " 8   RegistrationMonth  354369 non-null  int64 \n",
      " 9   FuelType           321474 non-null  object\n",
      " 10  Brand              354369 non-null  object\n",
      " 11  Repaired           283215 non-null  object\n",
      " 12  DateCreated        354369 non-null  object\n",
      " 13  NumberOfPictures   354369 non-null  int64 \n",
      " 14  PostalCode         354369 non-null  int64 \n",
      " 15  LastSeen           354369 non-null  object\n",
      "dtypes: int64(7), object(9)\n",
      "memory usage: 43.3+ MB\n"
     ]
    }
   ],
   "source": [
    "autos_data.info()"
   ]
  },
  {
   "cell_type": "code",
   "execution_count": 7,
   "metadata": {},
   "outputs": [],
   "source": [
    "autos_data.columns = autos_data.columns.str.lower()\n",
    "autos_data = autos_data.rename(columns={'datecrawled':'date_crawled', \n",
    "                        'vehicletype':'vehicle_type', \n",
    "                        'registrationyear':'registration_year', \n",
    "                        'registrationmonth':'registration_month', \n",
    "                        'fueltype':'fuel_type', \n",
    "                        'notrepaired':'not_repaired', \n",
    "                        'datecreated':'date_created',\n",
    "                        'numberofpictures': 'number_of_pictures',\n",
    "                        'postalcode':'postal_code',\n",
    "                        'lastseen':'last_seen'})"
   ]
  },
  {
   "cell_type": "markdown",
   "metadata": {},
   "source": [
    "Удалю неинформативные стобцы:"
   ]
  },
  {
   "cell_type": "code",
   "execution_count": 8,
   "metadata": {},
   "outputs": [],
   "source": [
    "autos_data = autos_data.drop(['date_crawled', 'date_created', 'number_of_pictures', 'postal_code', 'last_seen'], axis=1)"
   ]
  },
  {
   "cell_type": "markdown",
   "metadata": {},
   "source": [
    "gasoline и petrol - это одно и то же, заменю соответствующие значения в колонке fuel_type"
   ]
  },
  {
   "cell_type": "code",
   "execution_count": 9,
   "metadata": {},
   "outputs": [],
   "source": [
    "autos_data['fuel_type'] = autos_data['fuel_type'].replace(['petrol'], 'gasoline')"
   ]
  },
  {
   "cell_type": "code",
   "execution_count": 10,
   "metadata": {},
   "outputs": [
    {
     "data": {
      "text/plain": [
       "price                     0\n",
       "vehicle_type          37490\n",
       "registration_year         0\n",
       "gearbox               19833\n",
       "power                     0\n",
       "model                 19705\n",
       "kilometer                 0\n",
       "registration_month        0\n",
       "fuel_type             32895\n",
       "brand                     0\n",
       "repaired              71154\n",
       "dtype: int64"
      ]
     },
     "execution_count": 10,
     "metadata": {},
     "output_type": "execute_result"
    }
   ],
   "source": [
    "autos_data.isna().sum()"
   ]
  },
  {
   "cell_type": "markdown",
   "metadata": {},
   "source": [
    "В данных очень много пропусков, в столбце repaired лучше всего будет заменить пропущенные значения на \"no\", в остальных заменю на \"unknown\""
   ]
  },
  {
   "cell_type": "code",
   "execution_count": 11,
   "metadata": {},
   "outputs": [],
   "source": [
    "autos_data['repaired'].fillna('no', inplace=True)"
   ]
  },
  {
   "cell_type": "code",
   "execution_count": 12,
   "metadata": {},
   "outputs": [],
   "source": [
    "autos_data.fillna('unknown', inplace=True)"
   ]
  },
  {
   "cell_type": "code",
   "execution_count": 13,
   "metadata": {},
   "outputs": [
    {
     "name": "stdout",
     "output_type": "stream",
     "text": [
      "<class 'pandas.core.frame.DataFrame'>\n",
      "RangeIndex: 354369 entries, 0 to 354368\n",
      "Data columns (total 11 columns):\n",
      " #   Column              Non-Null Count   Dtype \n",
      "---  ------              --------------   ----- \n",
      " 0   price               354369 non-null  int64 \n",
      " 1   vehicle_type        354369 non-null  object\n",
      " 2   registration_year   354369 non-null  int64 \n",
      " 3   gearbox             354369 non-null  object\n",
      " 4   power               354369 non-null  int64 \n",
      " 5   model               354369 non-null  object\n",
      " 6   kilometer           354369 non-null  int64 \n",
      " 7   registration_month  354369 non-null  int64 \n",
      " 8   fuel_type           354369 non-null  object\n",
      " 9   brand               354369 non-null  object\n",
      " 10  repaired            354369 non-null  object\n",
      "dtypes: int64(5), object(6)\n",
      "memory usage: 29.7+ MB\n"
     ]
    }
   ],
   "source": [
    "autos_data.info()"
   ]
  },
  {
   "cell_type": "markdown",
   "metadata": {},
   "source": [
    "Типы данных расставлены верно."
   ]
  },
  {
   "cell_type": "code",
   "execution_count": 14,
   "metadata": {},
   "outputs": [
    {
     "data": {
      "text/html": [
       "<div>\n",
       "<style scoped>\n",
       "    .dataframe tbody tr th:only-of-type {\n",
       "        vertical-align: middle;\n",
       "    }\n",
       "\n",
       "    .dataframe tbody tr th {\n",
       "        vertical-align: top;\n",
       "    }\n",
       "\n",
       "    .dataframe thead th {\n",
       "        text-align: right;\n",
       "    }\n",
       "</style>\n",
       "<table border=\"1\" class=\"dataframe\">\n",
       "  <thead>\n",
       "    <tr style=\"text-align: right;\">\n",
       "      <th></th>\n",
       "      <th>price</th>\n",
       "      <th>registration_year</th>\n",
       "      <th>power</th>\n",
       "      <th>kilometer</th>\n",
       "      <th>registration_month</th>\n",
       "    </tr>\n",
       "  </thead>\n",
       "  <tbody>\n",
       "    <tr>\n",
       "      <th>count</th>\n",
       "      <td>354369.000000</td>\n",
       "      <td>354369.000000</td>\n",
       "      <td>354369.000000</td>\n",
       "      <td>354369.000000</td>\n",
       "      <td>354369.000000</td>\n",
       "    </tr>\n",
       "    <tr>\n",
       "      <th>mean</th>\n",
       "      <td>4416.656776</td>\n",
       "      <td>2004.234448</td>\n",
       "      <td>110.094337</td>\n",
       "      <td>128211.172535</td>\n",
       "      <td>5.714645</td>\n",
       "    </tr>\n",
       "    <tr>\n",
       "      <th>std</th>\n",
       "      <td>4514.158514</td>\n",
       "      <td>90.227958</td>\n",
       "      <td>189.850405</td>\n",
       "      <td>37905.341530</td>\n",
       "      <td>3.726421</td>\n",
       "    </tr>\n",
       "    <tr>\n",
       "      <th>min</th>\n",
       "      <td>0.000000</td>\n",
       "      <td>1000.000000</td>\n",
       "      <td>0.000000</td>\n",
       "      <td>5000.000000</td>\n",
       "      <td>0.000000</td>\n",
       "    </tr>\n",
       "    <tr>\n",
       "      <th>25%</th>\n",
       "      <td>1050.000000</td>\n",
       "      <td>1999.000000</td>\n",
       "      <td>69.000000</td>\n",
       "      <td>125000.000000</td>\n",
       "      <td>3.000000</td>\n",
       "    </tr>\n",
       "    <tr>\n",
       "      <th>50%</th>\n",
       "      <td>2700.000000</td>\n",
       "      <td>2003.000000</td>\n",
       "      <td>105.000000</td>\n",
       "      <td>150000.000000</td>\n",
       "      <td>6.000000</td>\n",
       "    </tr>\n",
       "    <tr>\n",
       "      <th>75%</th>\n",
       "      <td>6400.000000</td>\n",
       "      <td>2008.000000</td>\n",
       "      <td>143.000000</td>\n",
       "      <td>150000.000000</td>\n",
       "      <td>9.000000</td>\n",
       "    </tr>\n",
       "    <tr>\n",
       "      <th>max</th>\n",
       "      <td>20000.000000</td>\n",
       "      <td>9999.000000</td>\n",
       "      <td>20000.000000</td>\n",
       "      <td>150000.000000</td>\n",
       "      <td>12.000000</td>\n",
       "    </tr>\n",
       "  </tbody>\n",
       "</table>\n",
       "</div>"
      ],
      "text/plain": [
       "               price  registration_year          power      kilometer  \\\n",
       "count  354369.000000      354369.000000  354369.000000  354369.000000   \n",
       "mean     4416.656776        2004.234448     110.094337  128211.172535   \n",
       "std      4514.158514          90.227958     189.850405   37905.341530   \n",
       "min         0.000000        1000.000000       0.000000    5000.000000   \n",
       "25%      1050.000000        1999.000000      69.000000  125000.000000   \n",
       "50%      2700.000000        2003.000000     105.000000  150000.000000   \n",
       "75%      6400.000000        2008.000000     143.000000  150000.000000   \n",
       "max     20000.000000        9999.000000   20000.000000  150000.000000   \n",
       "\n",
       "       registration_month  \n",
       "count       354369.000000  \n",
       "mean             5.714645  \n",
       "std              3.726421  \n",
       "min              0.000000  \n",
       "25%              3.000000  \n",
       "50%              6.000000  \n",
       "75%              9.000000  \n",
       "max             12.000000  "
      ]
     },
     "execution_count": 14,
     "metadata": {},
     "output_type": "execute_result"
    }
   ],
   "source": [
    "autos_data.describe()"
   ]
  },
  {
   "cell_type": "code",
   "execution_count": 15,
   "metadata": {},
   "outputs": [
    {
     "name": "stdout",
     "output_type": "stream",
     "text": [
      "price\n",
      "[  480 18300  9800 ... 12395 18429 10985]\n",
      "\n",
      "registration_year\n",
      "[1993 2011 2004 2001 2008 1995 1980 2014 1998 2005 1910 2016 2007 2009\n",
      " 2002 2018 1997 1990 2017 1981 2003 1994 1991 1984 2006 1999 2012 2010\n",
      " 2000 1992 2013 1996 1985 1989 2015 1982 1976 1983 1973 1111 1969 1971\n",
      " 1987 1986 1988 1970 1965 1945 1925 1974 1979 1955 1978 1972 1968 1977\n",
      " 1961 1960 1966 1975 1963 1964 5000 1954 1958 1967 1959 9999 1956 3200\n",
      " 1000 1941 8888 1500 2200 4100 1962 1929 1957 1940 3000 2066 1949 2019\n",
      " 1937 1951 1800 1953 1234 8000 5300 9000 2900 6000 5900 5911 1933 1400\n",
      " 1950 4000 1948 1952 1200 8500 1932 1255 3700 3800 4800 1942 7000 1935\n",
      " 1936 6500 1923 2290 2500 1930 1001 9450 1944 1943 1934 1938 1688 2800\n",
      " 1253 1928 1919 5555 5600 1600 2222 1039 9996 1300 8455 1931 1915 4500\n",
      " 1920 1602 7800 9229 1947 1927 7100 8200 1946 7500 3500]\n",
      "\n",
      "power\n",
      "[    0   190   163    75    69   102   109    50   125   101   105   140\n",
      "   115   131    60   136   160   231    90   118   193    99   113   218\n",
      "   122   129    70   306    95    61   177    80   170    55   143    64\n",
      "   286   232   150   156    82   155    54   185    87   180    86    84\n",
      "   224   235   200   178   265    77   110   144   120   116   184   126\n",
      "   204    88   194   305   197   179   250    45   313    41   165    98\n",
      "   130   114   211    56   201   213    58   107    83   174   100   220\n",
      "    85    73   192    68    66   299    74    52   147    65   310    71\n",
      "    97   239   203     5   300   103   258   320    63    81   148    44\n",
      "   145   230   280   260   104   188   333   186   117   141    59   132\n",
      "   234   158    39    92    51   135    53   209    43   146    67   106\n",
      "   166   276   344    72   249   237   245   111   326   279    23   138\n",
      "   175    96   226    26    37   301   334   128   133   124    33   219\n",
      "   241   167    94   182   196   238  1398   228   112    48   272   139\n",
      "  1799    40   240    79   256   360   243   375   252   396   340   108\n",
      "   121   345   187   289   222   198   284   450   233   387   152   347\n",
      "   172    57   137   212   476   314    30     7    47   173   290   207\n",
      "   205   171   750    78    91    89   349   325    76   151   350   953\n",
      "    93   142   500   343   199   119   164    16   264   367   208   210\n",
      "    46   435  1001   225   127   176   161   603   307   354    35   206\n",
      "   771   355   273   223   255   123   154   149  7515  1400   268   620\n",
      "   169   400   275    34     2   242  1779   285   162   328  1753   329\n",
      "   134   420   247   168 10317   215    18   330   283    62    10   214\n",
      "   183   254    15   321   322   315   952   600   181   426   599   379\n",
      "   999    22   157    42   195   553     4   309   507   381   271   440\n",
      "   189   401  1111  2729    21   236  1240  1704   521     1  1900   270\n",
      "    24   159   292   808   515  1200   303    29    38  1993    14   216\n",
      "   610   504    49   267   331   363   261   385  1011   253   696 10520\n",
      "   376   227   311    27   217    20  1999    11  1056    25   394    12\n",
      "   298   296  1659   294   551  6920   246    17  1800  1625   368   390\n",
      "   221  1367   259   606   327  2017  1597   266   374   392     9   405\n",
      "    13   262   601   430   295     8   411   900   541  7512   382 10218\n",
      "  7544  1102   287    19   751   297  1090   457   282   602   388     6\n",
      "  1000  5411   335  1360   202  3750   805  1062  1024 11530   364  1796\n",
      "  5000   269   460  1002   288  1780 12012 17932   316  2005  1399   191\n",
      "   278  1300   380   257   449  1256   153  1653   520   560   281 12510\n",
      "     3  1500   386    32  1202  2016  1436  1405   671   274  1288  1055\n",
      " 10912 15016  6226  1115   277  1105   341  1223  2340  8404  1968   338\n",
      "   445  1920   370   517  4400 10710 10522  9010   431  1164 11509   371\n",
      "  1501   428 11635    36   304   348  1703  1910  1995   579 10000   580\n",
      "   408    31  1005   358  1403   489  5575 19211   585   960   365   353\n",
      "   490   352  1801   346   550  3199   800  7508  1312   357  1937   950\n",
      "  4700  1600  3454 19208   251   850   337   700  8011  2331  2789   487\n",
      "   519  2461  6006  3500  5815  6018  1781  1503   612  1596   229  1506\n",
      "  5809 15020  5867  2172  1598 17410  1363   584  1054   851  1339   318\n",
      "   510   525  1700    28  1151   685  6011   317   703  1771 15001   514\n",
      "   362   332   324  6045   530   425   308  6010   475   903   640  2000\n",
      "   248   651  2799 17011   505  1103  1521   351 16051   398  9000  1998\n",
      " 10311   409  1230 17019 12684  8259  1895   901  1317   871   909  2201\n",
      "  1595   776 17700 11011  1199   459  1162  1120 15033  1896   339   361\n",
      "   574  6512   454   650 13616   604   607 16312  1082   336 20000   416\n",
      "   678  6012  1401  1021  1870 13636  1250  9710   323  1158  2009   902\n",
      "  6062  1275   572   244   399  1016   743  1221  2402 16011  1362   544\n",
      "   645   907   702 12512  1986  1003  1432  9013  9011   442  1017  1394\n",
      " 15017 10910  1992   540  2018 11025  1433  1701  2792  1502  1239  1390\n",
      " 14009  1160  1351 11111  1783  9007   923  1149   754  1988   402  2004\n",
      "  5420  1793  1324   356  7511  1299   293 19312  1079  1689   998  1100\n",
      "  9012  1933   508 16311   682  1252  1922  7529   732  2389  2200  1707\n",
      "  1416  8500  1012   485  3000 10110   421  4507  1631  7518   377  1004\n",
      "  2007  2598  1548  1241]\n",
      "\n",
      "kilometer\n",
      "[150000 125000  90000  40000  30000  70000   5000 100000  60000  20000\n",
      "  80000  50000  10000]\n",
      "\n"
     ]
    }
   ],
   "source": [
    "for i in ['price', 'registration_year', 'power', 'kilometer']:\n",
    "    print(i)\n",
    "    print(autos_data[i].unique())\n",
    "    print()"
   ]
  },
  {
   "cell_type": "markdown",
   "metadata": {},
   "source": [
    "Поработаю с аномальными значениями:"
   ]
  },
  {
   "cell_type": "code",
   "execution_count": 16,
   "metadata": {},
   "outputs": [],
   "source": [
    "autos_data = autos_data.query('price > 0')\n",
    "autos_data = autos_data.query('(registration_year < 2016) or ((registration_year == 2016) and (registration_month < 4))')\n",
    "autos_data = autos_data.query('(power > 0) & (power < 1000)')\n"
   ]
  },
  {
   "cell_type": "code",
   "execution_count": 17,
   "metadata": {},
   "outputs": [],
   "source": [
    "autos_data = autos_data.drop(['registration_month'], axis=1)"
   ]
  },
  {
   "cell_type": "markdown",
   "metadata": {},
   "source": [
    "***Вывод***\n",
    "\n",
    "Обработаны пропуски, аномалии в данных, удалены ненужные столбцы - данные подготовлены."
   ]
  },
  {
   "cell_type": "markdown",
   "metadata": {},
   "source": [
    "## Обучение моделей"
   ]
  },
  {
   "cell_type": "markdown",
   "metadata": {},
   "source": [
    "Разделю данные на выборки и обучу три модели: DecisionTreeRegressor, Ridge, LightGBM:"
   ]
  },
  {
   "cell_type": "code",
   "execution_count": 18,
   "metadata": {},
   "outputs": [
    {
     "data": {
      "text/html": [
       "<div>\n",
       "<style scoped>\n",
       "    .dataframe tbody tr th:only-of-type {\n",
       "        vertical-align: middle;\n",
       "    }\n",
       "\n",
       "    .dataframe tbody tr th {\n",
       "        vertical-align: top;\n",
       "    }\n",
       "\n",
       "    .dataframe thead th {\n",
       "        text-align: right;\n",
       "    }\n",
       "</style>\n",
       "<table border=\"1\" class=\"dataframe\">\n",
       "  <thead>\n",
       "    <tr style=\"text-align: right;\">\n",
       "      <th></th>\n",
       "      <th>price</th>\n",
       "      <th>vehicle_type</th>\n",
       "      <th>registration_year</th>\n",
       "      <th>gearbox</th>\n",
       "      <th>power</th>\n",
       "      <th>model</th>\n",
       "      <th>kilometer</th>\n",
       "      <th>fuel_type</th>\n",
       "      <th>brand</th>\n",
       "      <th>repaired</th>\n",
       "    </tr>\n",
       "  </thead>\n",
       "  <tbody>\n",
       "    <tr>\n",
       "      <th>1</th>\n",
       "      <td>18300</td>\n",
       "      <td>coupe</td>\n",
       "      <td>2011</td>\n",
       "      <td>manual</td>\n",
       "      <td>190</td>\n",
       "      <td>unknown</td>\n",
       "      <td>125000</td>\n",
       "      <td>gasoline</td>\n",
       "      <td>audi</td>\n",
       "      <td>yes</td>\n",
       "    </tr>\n",
       "    <tr>\n",
       "      <th>2</th>\n",
       "      <td>9800</td>\n",
       "      <td>suv</td>\n",
       "      <td>2004</td>\n",
       "      <td>auto</td>\n",
       "      <td>163</td>\n",
       "      <td>grand</td>\n",
       "      <td>125000</td>\n",
       "      <td>gasoline</td>\n",
       "      <td>jeep</td>\n",
       "      <td>no</td>\n",
       "    </tr>\n",
       "    <tr>\n",
       "      <th>3</th>\n",
       "      <td>1500</td>\n",
       "      <td>small</td>\n",
       "      <td>2001</td>\n",
       "      <td>manual</td>\n",
       "      <td>75</td>\n",
       "      <td>golf</td>\n",
       "      <td>150000</td>\n",
       "      <td>gasoline</td>\n",
       "      <td>volkswagen</td>\n",
       "      <td>no</td>\n",
       "    </tr>\n",
       "    <tr>\n",
       "      <th>4</th>\n",
       "      <td>3600</td>\n",
       "      <td>small</td>\n",
       "      <td>2008</td>\n",
       "      <td>manual</td>\n",
       "      <td>69</td>\n",
       "      <td>fabia</td>\n",
       "      <td>90000</td>\n",
       "      <td>gasoline</td>\n",
       "      <td>skoda</td>\n",
       "      <td>no</td>\n",
       "    </tr>\n",
       "    <tr>\n",
       "      <th>5</th>\n",
       "      <td>650</td>\n",
       "      <td>sedan</td>\n",
       "      <td>1995</td>\n",
       "      <td>manual</td>\n",
       "      <td>102</td>\n",
       "      <td>3er</td>\n",
       "      <td>150000</td>\n",
       "      <td>gasoline</td>\n",
       "      <td>bmw</td>\n",
       "      <td>yes</td>\n",
       "    </tr>\n",
       "  </tbody>\n",
       "</table>\n",
       "</div>"
      ],
      "text/plain": [
       "   price vehicle_type  registration_year gearbox  power    model  kilometer  \\\n",
       "1  18300        coupe               2011  manual    190  unknown     125000   \n",
       "2   9800          suv               2004    auto    163    grand     125000   \n",
       "3   1500        small               2001  manual     75     golf     150000   \n",
       "4   3600        small               2008  manual     69    fabia      90000   \n",
       "5    650        sedan               1995  manual    102      3er     150000   \n",
       "\n",
       "  fuel_type       brand repaired  \n",
       "1  gasoline        audi      yes  \n",
       "2  gasoline        jeep       no  \n",
       "3  gasoline  volkswagen       no  \n",
       "4  gasoline       skoda       no  \n",
       "5  gasoline         bmw      yes  "
      ]
     },
     "execution_count": 18,
     "metadata": {},
     "output_type": "execute_result"
    }
   ],
   "source": [
    "autos_data.head()"
   ]
  },
  {
   "cell_type": "markdown",
   "metadata": {},
   "source": [
    "Разделю данные по выборкам:"
   ]
  },
  {
   "cell_type": "code",
   "execution_count": 19,
   "metadata": {},
   "outputs": [],
   "source": [
    "RANDOM_STATE = 42\n",
    "X = autos_data.drop(columns=['price'])\n",
    "y = autos_data['price']\n",
    "X_train, X_test, y_train, y_test = train_test_split(X, \n",
    "                                    y, \n",
    "                                    random_state=RANDOM_STATE)"
   ]
  },
  {
   "cell_type": "markdown",
   "metadata": {},
   "source": [
    "Составлю списки признаков и создам нужные пайплайны:"
   ]
  },
  {
   "cell_type": "code",
   "execution_count": 20,
   "metadata": {},
   "outputs": [],
   "source": [
    "num_features = ['registration_year', 'power', 'kilometer']\n",
    "cat_features_ohe = ['vehicle_type', 'gearbox', 'model', 'brand', 'fuel_type']\n",
    "cat_features_ord = ['repaired']"
   ]
  },
  {
   "cell_type": "code",
   "execution_count": 21,
   "metadata": {},
   "outputs": [],
   "source": [
    "num_transformer = Pipeline([\n",
    "    ('imputer', SimpleImputer(strategy='median')),\n",
    "    ('scaler', StandardScaler())\n",
    "])\n",
    "\n",
    "cat_transformer_ohe = Pipeline([\n",
    "    ('imputer', SimpleImputer(strategy='most_frequent')),\n",
    "    ('encoder', OneHotEncoder(handle_unknown='error', drop='first'))\n",
    "])\n",
    "\n",
    "cat_transformer_ord = Pipeline([\n",
    "    ('imputer', SimpleImputer(strategy='most_frequent')),\n",
    "    ('encoder', OrdinalEncoder(handle_unknown='use_encoded_value', unknown_value=np.nan, categories=[['no', 'yes']]))\n",
    "])"
   ]
  },
  {
   "cell_type": "code",
   "execution_count": 22,
   "metadata": {},
   "outputs": [],
   "source": [
    "preprocessor = ColumnTransformer([\n",
    "    ('num', num_transformer, num_features),\n",
    "    ('cat_ohe', cat_transformer_ohe, cat_features_ohe),\n",
    "    ('cat_ord', cat_transformer_ord, cat_features_ord)],\n",
    "    remainder='passthrough')"
   ]
  },
  {
   "cell_type": "markdown",
   "metadata": {},
   "source": [
    "Создам три пайплайна с моделями и три словаря гиперпараметров для каждой"
   ]
  },
  {
   "cell_type": "code",
   "execution_count": 23,
   "metadata": {},
   "outputs": [],
   "source": [
    "tree_reg = Pipeline([\n",
    "    ('preprocessor', preprocessor),\n",
    "    ('model', DecisionTreeRegressor(random_state=RANDOM_STATE))\n",
    "])\n",
    "\n",
    "ridge_reg = Pipeline([\n",
    "    ('preprocessor', preprocessor),\n",
    "    ('model', Ridge())\n",
    "])\n",
    "\n",
    "lgb_pipe = Pipeline([\n",
    "    ('preprocessor', preprocessor),\n",
    "    ('model', LGBMRegressor(random_state=RANDOM_STATE))\n",
    "])\n",
    "\n",
    "param_grid = {\n",
    "    'model__max_depth': [3, 5, 7, 10, 15, None],\n",
    "    'model__min_samples_split': randint(2, 11),\n",
    "    'model__min_samples_leaf': randint(1, 6),\n",
    "    'model__ccp_alpha': uniform(0.0, 0.05)\n",
    "}\n",
    "\n",
    "param_grid_1 = {\n",
    "    'model__alpha': uniform(0.0, 10.0),\n",
    "    'model__fit_intercept': [True, False],\n",
    "    'model__copy_X': [True, False]\n",
    "}\n",
    "\n",
    "param_grid_2 = {\n",
    "    'model__num_leaves': randint(20, 150),\n",
    "    'model__max_depth': randint(3, 12),\n",
    "    'model__learning_rate': uniform(0.01, 0.29)\n",
    "}"
   ]
  },
  {
   "cell_type": "markdown",
   "metadata": {},
   "source": [
    "Проведу кросс-валидацию трех моделей и получу результаты:"
   ]
  },
  {
   "cell_type": "code",
   "execution_count": 24,
   "metadata": {},
   "outputs": [],
   "source": [
    "random_search = RandomizedSearchCV(\n",
    "    tree_reg,\n",
    "    param_distributions=param_grid,\n",
    "    n_iter=5,        \n",
    "    scoring='neg_root_mean_squared_error',\n",
    "    cv=5,\n",
    "    n_jobs=-1,\n",
    "    random_state=42,\n",
    "    verbose=1\n",
    ")"
   ]
  },
  {
   "cell_type": "code",
   "execution_count": 25,
   "metadata": {},
   "outputs": [
    {
     "name": "stdout",
     "output_type": "stream",
     "text": [
      "Fitting 5 folds for each of 5 candidates, totalling 25 fits\n"
     ]
    }
   ],
   "source": [
    "random_search.fit(X_train, y_train)\n",
    "best_model = random_search.best_estimator_"
   ]
  },
  {
   "cell_type": "code",
   "execution_count": 26,
   "metadata": {},
   "outputs": [
    {
     "name": "stdout",
     "output_type": "stream",
     "text": [
      "Время обучения модели: 12.613421201705933\n",
      "Время предсказания модели: 0.10892210006713868\n"
     ]
    }
   ],
   "source": [
    "print('Время обучения модели:', random_search.cv_results_['mean_fit_time'][random_search.best_index_])\n",
    "print('Время предсказания модели:', random_search.cv_results_['mean_score_time'][random_search.best_index_])"
   ]
  },
  {
   "cell_type": "code",
   "execution_count": 27,
   "metadata": {},
   "outputs": [
    {
     "data": {
      "text/plain": [
       "1750.8016239722087"
      ]
     },
     "execution_count": 27,
     "metadata": {},
     "output_type": "execute_result"
    }
   ],
   "source": [
    "-random_search.best_score_"
   ]
  },
  {
   "cell_type": "markdown",
   "metadata": {},
   "source": [
    "DecisionTreeRegressor показал хороший результат RMSE = 1750, что уже подходит под критерий, что RMSE должно быть меньше 2500. Обучу другие модели."
   ]
  },
  {
   "cell_type": "code",
   "execution_count": 28,
   "metadata": {},
   "outputs": [],
   "source": [
    "random_search_1 = RandomizedSearchCV(\n",
    "    ridge_reg,\n",
    "    param_distributions=param_grid_1,\n",
    "    n_iter=5,        \n",
    "    scoring='neg_root_mean_squared_error',\n",
    "    cv=5,\n",
    "    n_jobs=-1,\n",
    "    random_state=42,\n",
    "    verbose=1\n",
    ")"
   ]
  },
  {
   "cell_type": "code",
   "execution_count": 29,
   "metadata": {},
   "outputs": [
    {
     "name": "stdout",
     "output_type": "stream",
     "text": [
      "Fitting 5 folds for each of 5 candidates, totalling 25 fits\n"
     ]
    }
   ],
   "source": [
    "random_search_1.fit(X_train, y_train)\n",
    "best_model_1 = random_search_1.best_estimator_"
   ]
  },
  {
   "cell_type": "code",
   "execution_count": 30,
   "metadata": {},
   "outputs": [
    {
     "name": "stdout",
     "output_type": "stream",
     "text": [
      "Время обучения модели: 0.7787051677703858\n",
      "Время предсказания модели: 0.09259352684020997\n"
     ]
    }
   ],
   "source": [
    "print('Время обучения модели:', random_search_1.cv_results_['mean_fit_time'][random_search_1.best_index_])\n",
    "print('Время предсказания модели:', random_search_1.cv_results_['mean_score_time'][random_search_1.best_index_])"
   ]
  },
  {
   "cell_type": "code",
   "execution_count": 31,
   "metadata": {},
   "outputs": [
    {
     "data": {
      "text/plain": [
       "2766.5246152866584"
      ]
     },
     "execution_count": 31,
     "metadata": {},
     "output_type": "execute_result"
    }
   ],
   "source": [
    "-random_search_1.best_score_"
   ]
  },
  {
   "cell_type": "markdown",
   "metadata": {},
   "source": [
    "Ridge показал результаты хуже - RMSE = 2766, это значение слишком большое."
   ]
  },
  {
   "cell_type": "code",
   "execution_count": 32,
   "metadata": {},
   "outputs": [],
   "source": [
    "random_search_2 = RandomizedSearchCV(\n",
    "    lgb_pipe,\n",
    "    param_distributions=param_grid_2,\n",
    "    n_iter=5,        \n",
    "    scoring='neg_root_mean_squared_error',\n",
    "    cv=5,\n",
    "    n_jobs=-1,\n",
    "    random_state=42,\n",
    "    verbose=1\n",
    ")"
   ]
  },
  {
   "cell_type": "code",
   "execution_count": 33,
   "metadata": {},
   "outputs": [
    {
     "name": "stdout",
     "output_type": "stream",
     "text": [
      "Fitting 5 folds for each of 5 candidates, totalling 25 fits\n"
     ]
    }
   ],
   "source": [
    "random_search_2.fit(X_train, y_train)\n",
    "best_model_2 = random_search_2.best_estimator_"
   ]
  },
  {
   "cell_type": "code",
   "execution_count": 34,
   "metadata": {},
   "outputs": [
    {
     "name": "stdout",
     "output_type": "stream",
     "text": [
      "Время обучения модели: 6.725093650817871\n",
      "Время предсказания модели: 0.4353339195251465\n"
     ]
    }
   ],
   "source": [
    "print('Время обучения модели:', random_search_2.cv_results_['mean_fit_time'][random_search_2.best_index_])\n",
    "print('Время предсказания модели:', random_search_2.cv_results_['mean_score_time'][random_search_2.best_index_])"
   ]
  },
  {
   "cell_type": "code",
   "execution_count": 35,
   "metadata": {},
   "outputs": [
    {
     "data": {
      "text/plain": [
       "1605.7338476786658"
      ]
     },
     "execution_count": 35,
     "metadata": {},
     "output_type": "execute_result"
    }
   ],
   "source": [
    "-random_search_2.best_score_"
   ]
  },
  {
   "cell_type": "markdown",
   "metadata": {},
   "source": [
    "Градиентный бустинг показал лучший из всех моделей RMSE - 1605."
   ]
  },
  {
   "cell_type": "markdown",
   "metadata": {},
   "source": [
    "***Вывод***\n",
    "\n",
    "Данные были разделены на выборки, обработаны в пайплайне, после чего были обучены три модели: DecisionTreeRegressor, Ridge, LightGBM. Для каждой из них были подобраны гиперпараметры и проведена кросс-валидация, на следующем этапе я проанализирую время обучения и предсказания модели, а также RMSE."
   ]
  },
  {
   "cell_type": "markdown",
   "metadata": {},
   "source": [
    "## Анализ моделей"
   ]
  },
  {
   "cell_type": "markdown",
   "metadata": {},
   "source": [
    "Время обучения моделей и их RMSE на кросс-валидации:\n",
    "\n",
    "***DecisionTreeRegressor:*** \n",
    "\n",
    "RMSE: 1750\n",
    "\n",
    "Время: Обучение ~ 12.7 s, предсказание ~ 0.1 s\n",
    "\n",
    "***Ridge:***\n",
    "\n",
    "RMSE: 2766\n",
    "\n",
    "Время: Обучение ~ 0.8 s, предсказание ~ 0.1 s\n",
    "\n",
    "\n",
    "***LightGBM:***\n",
    "\n",
    "RMSE: 1605\n",
    "\n",
    "Время: Обучение ~ 4.7 s, предсказание ~ 0.4 s"
   ]
  },
  {
   "cell_type": "markdown",
   "metadata": {},
   "source": [
    "Лучший результат RMSE показал градиентный бустинг с большим отрывом от Ridge, также градиентный бустинг обучался почти в три раза меньше времени чем дерево решений. Лучшей моделью несомненно будет градиентный бустинг, проверю её качество на тестовой выборке."
   ]
  },
  {
   "cell_type": "code",
   "execution_count": 36,
   "metadata": {},
   "outputs": [],
   "source": [
    "y_predict_2 = best_model_2.predict(X_test)"
   ]
  },
  {
   "cell_type": "code",
   "execution_count": 37,
   "metadata": {},
   "outputs": [
    {
     "data": {
      "text/plain": [
       "1592.0754858210526"
      ]
     },
     "execution_count": 37,
     "metadata": {},
     "output_type": "execute_result"
    }
   ],
   "source": [
    "mean_squared_error(y_test, y_predict_2) ** 0.5"
   ]
  },
  {
   "cell_type": "markdown",
   "metadata": {},
   "source": [
    "RMSE = 1592 - этот результат лучший из всех моделей."
   ]
  },
  {
   "cell_type": "markdown",
   "metadata": {},
   "source": [
    "Построю график реальных vs предсказанных значений, график остатков, а также посмотрю на корреляцию остатков и признаков."
   ]
  },
  {
   "cell_type": "code",
   "execution_count": 38,
   "metadata": {},
   "outputs": [
    {
     "data": {
      "image/png": "[encoded data removed]",
      "text/plain": [
       "<Figure size 432x432 with 1 Axes>"
      ]
     },
     "metadata": {
      "needs_background": "light"
     },
     "output_type": "display_data"
    },
    {
     "data": {
      "image/png": "[encoded data removed]",
      "text/plain": [
       "<Figure size 432x432 with 1 Axes>"
      ]
     },
     "metadata": {
      "needs_background": "light"
     },
     "output_type": "display_data"
    }
   ],
   "source": [
    "plt.figure(figsize=(6,6))\n",
    "sns.scatterplot(x=y_test, y=y_predict_2, alpha=0.5)\n",
    "plt.plot([y_test.min(), y_test.max()], [y_test.min(), y_test.max()], 'r--')\n",
    "plt.xlabel('Реальные')\n",
    "plt.ylabel('Предсказанные')\n",
    "plt.title('Реальные vs предсказанные')\n",
    "plt.show()\n",
    "\n",
    "residuals = y_test - y_predict_2\n",
    "plt.figure(figsize=(6,6))\n",
    "sns.histplot(residuals, bins=30, kde=True)\n",
    "plt.xlabel(\"Остатки\")\n",
    "plt.ylabel(\"Количество\")\n",
    "plt.title(\"График остатков\")\n",
    "plt.show()\n"
   ]
  },
  {
   "cell_type": "code",
   "execution_count": 39,
   "metadata": {},
   "outputs": [
    {
     "data": {
      "image/png": "[encoded data removed]",
      "text/plain": [
       "<Figure size 576x288 with 1 Axes>"
      ]
     },
     "metadata": {
      "needs_background": "light"
     },
     "output_type": "display_data"
    }
   ],
   "source": [
    "residuals = y_test - y_predict_2\n",
    "\n",
    "df_res = X_test.copy()\n",
    "df_res['residuals'] = residuals\n",
    "\n",
    "correlations = df_res.corr()['residuals'].drop('residuals').sort_values(ascending=False)\n",
    "\n",
    "plt.figure(figsize=(8, 4))\n",
    "sns.barplot(x=correlations.index, y=correlations.values)\n",
    "plt.xticks(rotation=45, ha='right')\n",
    "plt.ylabel('Корреляция')\n",
    "plt.title('Корреляция числовых признаков с остатками')\n",
    "plt.tight_layout()\n",
    "plt.show()\n"
   ]
  },
  {
   "cell_type": "markdown",
   "metadata": {},
   "source": [
    "***Реальные vs предсказанные***\n",
    "\n",
    "Точки расположены вдоль диагонали - это значит, что модель предсказывает близко к реальным значениям. Чем выше реальное значение - тем больше разброс предсказаний. Модель недооценивает дорогие автомобили и переоценивает дешевые - это иллюстрируется большим значением ниже и выше красной диагонали.\n",
    "\n",
    "***Остатки***\n",
    "\n",
    "Распределение остатков куполообразное, оно близко к нормальному, нет больших хвостов или смещений - все это говорит о хорошем качестве предсказаний.\n",
    "\n",
    "***Корреляция числовых признаков с остатками***\n",
    "\n",
    "Построив график корреляции числовых признаков с остатками можно сказать, что у ошибок модели нет выраженной зависимости с каким-то из признаков - значит, что все эти признаки модель не упустила из виду. "
   ]
  },
  {
   "cell_type": "code",
   "execution_count": 40,
   "metadata": {},
   "outputs": [
    {
     "data": {
      "text/plain": [
       "0.8808636683365096"
      ]
     },
     "execution_count": 40,
     "metadata": {},
     "output_type": "execute_result"
    }
   ],
   "source": [
    "r2_score(y_test, y_predict_2)"
   ]
  },
  {
   "cell_type": "markdown",
   "metadata": {},
   "source": [
    "R2 показал, что модель объясняет большую часть разброса целевой переменной."
   ]
  },
  {
   "cell_type": "markdown",
   "metadata": {},
   "source": [
    "***Общий вывод***\n",
    "\n",
    "Данные были обработаны, после чего обучены три модели: DecisionTreeRegressor, Ridge, LightGBM.\n",
    "\n",
    "Модели дали такие показатели:\n",
    "\n",
    "***DecisionTreeRegressor:*** \n",
    "\n",
    "RMSE: 1750\n",
    "\n",
    "Время: Обучение ~ 12.7 s, предсказание ~ 0.1 s\n",
    "\n",
    "***Ridge:***\n",
    "\n",
    "RMSE: 2766\n",
    "\n",
    "Время: Обучение ~ 0.8 s, предсказание ~ 0.1 s\n",
    "\n",
    "\n",
    "***LightGBM:***\n",
    "\n",
    "RMSE: 1605\n",
    "\n",
    "Время: Обучение ~ 4.7 s, предсказание ~ 0.4 s\n",
    "\n",
    "Лучший результат RMSE показал градиентный бустинг с большим отрывом от Ridge, также градиентный бустинг обучался почти в три раза меньше времени чем дерево решений, время предсказания всех моделей меньше одной секунды. Лучшей моделью несомненно будет градиентный бустинг, проверю её качество на тестовой выборке.\n",
    "\n",
    "Качество модели оценивалось с помощью RMSE, R2, а также графиках реальных vs предсказанных зачений, распределения остатков, а также корреляции числовых признаков с остатками.\n",
    "\n",
    "***Реальные vs предсказанные***\n",
    "\n",
    "Точки расположены вдоль диагонали - это значит, что модель предсказывает близко к реальным значениям. Чем выше реальное значение - тем больше разброс предсказаний. Модель недооценивает дорогие автомобили и переоценивает дешевые - это иллюстрируется большим значением ниже и выше красной диагонали.\n",
    "\n",
    "***Остатки***\n",
    "\n",
    "Распределение остатков куполообразное, оно близко к нормальному, нет больших хвостов или смещений - все это говорит о хорошем качестве предсказаний.\n",
    "\n",
    "***Корреляция числовых признаков с остатками***\n",
    "\n",
    "Построив график корреляции числовых признаков с остатками можно сказать, что у ошибок модели нет выраженной зависимости с каким-то из признаков - значит, что все эти признаки модель не упустила из виду. \n",
    "\n",
    "\n",
    "Модель хорошо справилась с задачей, показав на тестовой выборке RMSE = 1592, она подходит под критерии заказчика - она объединяет в себе хорошую точность и скорость.\n",
    "\n",
    "Лучшая модель хранится в переменной best_model_2, а ее предсказания в переменной y_predict_2."
   ]
  },
  {
   "cell_type": "code",
   "execution_count": null,
   "metadata": {},
   "outputs": [],
   "source": []
  }
 ],
 "metadata": {
  "ExecuteTimeLog": [
   {
    "duration": 383,
    "start_time": "2025-03-20T18:33:28.352Z"
   },
   {
    "duration": 907,
    "start_time": "2025-03-20T18:33:28.759Z"
   },
   {
    "duration": 19,
    "start_time": "2025-03-20T18:33:29.668Z"
   },
   {
    "duration": 131,
    "start_time": "2025-03-20T18:34:20.388Z"
   },
   {
    "duration": 141,
    "start_time": "2025-03-20T18:34:33.696Z"
   },
   {
    "duration": 395,
    "start_time": "2025-03-21T13:32:25.935Z"
   },
   {
    "duration": 901,
    "start_time": "2025-03-21T13:32:26.332Z"
   },
   {
    "duration": 19,
    "start_time": "2025-03-21T13:32:27.235Z"
   },
   {
    "duration": 162,
    "start_time": "2025-03-21T13:32:27.256Z"
   },
   {
    "duration": 154,
    "start_time": "2025-03-21T13:32:27.420Z"
   },
   {
    "duration": 445,
    "start_time": "2025-03-21T14:42:03.391Z"
   },
   {
    "duration": 894,
    "start_time": "2025-03-21T14:42:03.837Z"
   },
   {
    "duration": 20,
    "start_time": "2025-03-21T14:42:04.733Z"
   },
   {
    "duration": 172,
    "start_time": "2025-03-21T14:42:04.755Z"
   },
   {
    "duration": 69,
    "start_time": "2025-03-21T14:42:04.929Z"
   },
   {
    "duration": 141,
    "start_time": "2025-03-21T14:42:05.000Z"
   },
   {
    "duration": 1457,
    "start_time": "2025-03-21T14:53:48.843Z"
   },
   {
    "duration": 7,
    "start_time": "2025-03-21T14:54:22.283Z"
   },
   {
    "duration": 704,
    "start_time": "2025-03-21T14:54:46.074Z"
   },
   {
    "duration": 766,
    "start_time": "2025-03-21T14:55:03.161Z"
   },
   {
    "duration": 22,
    "start_time": "2025-03-21T14:56:36.305Z"
   },
   {
    "duration": 25,
    "start_time": "2025-03-21T14:58:38.065Z"
   },
   {
    "duration": 17,
    "start_time": "2025-03-21T14:58:52.523Z"
   },
   {
    "duration": 37,
    "start_time": "2025-03-21T15:02:02.408Z"
   },
   {
    "duration": 16,
    "start_time": "2025-03-21T15:02:07.309Z"
   },
   {
    "duration": 198,
    "start_time": "2025-03-21T15:02:53.365Z"
   },
   {
    "duration": 24,
    "start_time": "2025-03-21T15:03:04.976Z"
   },
   {
    "duration": 215,
    "start_time": "2025-03-21T15:03:20.088Z"
   },
   {
    "duration": 215,
    "start_time": "2025-03-21T15:03:38.826Z"
   },
   {
    "duration": 92,
    "start_time": "2025-03-21T15:21:18.483Z"
   },
   {
    "duration": 23,
    "start_time": "2025-03-21T15:23:36.158Z"
   },
   {
    "duration": 17,
    "start_time": "2025-03-21T15:23:45.238Z"
   },
   {
    "duration": 18,
    "start_time": "2025-03-21T15:23:59.671Z"
   },
   {
    "duration": 18,
    "start_time": "2025-03-21T15:24:00.100Z"
   },
   {
    "duration": 15,
    "start_time": "2025-03-21T15:24:05.342Z"
   },
   {
    "duration": 18,
    "start_time": "2025-03-21T15:24:06.907Z"
   },
   {
    "duration": 412,
    "start_time": "2025-03-21T15:24:13.637Z"
   },
   {
    "duration": 892,
    "start_time": "2025-03-21T15:24:14.051Z"
   },
   {
    "duration": 59,
    "start_time": "2025-03-21T15:24:14.944Z"
   },
   {
    "duration": 156,
    "start_time": "2025-03-21T15:24:15.006Z"
   },
   {
    "duration": 66,
    "start_time": "2025-03-21T15:24:15.165Z"
   },
   {
    "duration": 48,
    "start_time": "2025-03-21T15:24:15.233Z"
   },
   {
    "duration": 49,
    "start_time": "2025-03-21T15:24:15.283Z"
   },
   {
    "duration": 25,
    "start_time": "2025-03-21T15:24:15.334Z"
   },
   {
    "duration": 118,
    "start_time": "2025-03-21T15:24:15.360Z"
   },
   {
    "duration": 22,
    "start_time": "2025-03-21T15:24:15.480Z"
   },
   {
    "duration": 21,
    "start_time": "2025-03-21T15:24:15.503Z"
   },
   {
    "duration": 110,
    "start_time": "2025-03-21T15:25:42.749Z"
   },
   {
    "duration": 4,
    "start_time": "2025-03-21T15:25:44.906Z"
   },
   {
    "duration": 380,
    "start_time": "2025-03-21T15:25:52.903Z"
   },
   {
    "duration": 891,
    "start_time": "2025-03-21T15:25:53.285Z"
   },
   {
    "duration": 29,
    "start_time": "2025-03-21T15:25:54.177Z"
   },
   {
    "duration": 165,
    "start_time": "2025-03-21T15:25:54.208Z"
   },
   {
    "duration": 58,
    "start_time": "2025-03-21T15:25:54.375Z"
   },
   {
    "duration": 51,
    "start_time": "2025-03-21T15:25:54.434Z"
   },
   {
    "duration": 43,
    "start_time": "2025-03-21T15:25:54.487Z"
   },
   {
    "duration": 17,
    "start_time": "2025-03-21T15:25:54.531Z"
   },
   {
    "duration": 102,
    "start_time": "2025-03-21T15:25:54.550Z"
   },
   {
    "duration": 32,
    "start_time": "2025-03-21T15:25:54.653Z"
   },
   {
    "duration": 127,
    "start_time": "2025-03-21T15:25:54.688Z"
   },
   {
    "duration": 18,
    "start_time": "2025-03-21T15:25:54.817Z"
   },
   {
    "duration": 116,
    "start_time": "2025-03-21T15:26:20.148Z"
   },
   {
    "duration": 17,
    "start_time": "2025-03-21T15:26:26.240Z"
   },
   {
    "duration": 101,
    "start_time": "2025-03-21T15:32:51.153Z"
   },
   {
    "duration": 14,
    "start_time": "2025-03-21T15:57:09.561Z"
   },
   {
    "duration": 14,
    "start_time": "2025-03-21T15:57:37.365Z"
   },
   {
    "duration": 581,
    "start_time": "2025-03-21T18:24:17.145Z"
   },
   {
    "duration": 71,
    "start_time": "2025-03-21T18:24:39.533Z"
   },
   {
    "duration": 23,
    "start_time": "2025-03-21T18:24:48.618Z"
   },
   {
    "duration": 14,
    "start_time": "2025-03-21T18:24:54.009Z"
   },
   {
    "duration": 21,
    "start_time": "2025-03-21T18:25:01.571Z"
   },
   {
    "duration": 22,
    "start_time": "2025-03-21T18:25:08.010Z"
   },
   {
    "duration": 40,
    "start_time": "2025-03-21T18:25:35.443Z"
   },
   {
    "duration": 17,
    "start_time": "2025-03-21T18:25:41.651Z"
   },
   {
    "duration": 38,
    "start_time": "2025-03-21T18:25:47.212Z"
   },
   {
    "duration": 16,
    "start_time": "2025-03-21T18:25:53.563Z"
   },
   {
    "duration": 18,
    "start_time": "2025-03-21T18:26:01.786Z"
   },
   {
    "duration": 20,
    "start_time": "2025-03-21T18:26:05.908Z"
   },
   {
    "duration": 44,
    "start_time": "2025-03-21T18:43:17.818Z"
   },
   {
    "duration": 113,
    "start_time": "2025-03-21T18:43:26.423Z"
   },
   {
    "duration": 72,
    "start_time": "2025-03-21T18:43:38.383Z"
   },
   {
    "duration": 751,
    "start_time": "2025-03-21T18:57:20.173Z"
   },
   {
    "duration": 79,
    "start_time": "2025-03-21T18:57:32.999Z"
   },
   {
    "duration": 2,
    "start_time": "2025-03-21T18:57:33.423Z"
   },
   {
    "duration": 90,
    "start_time": "2025-03-21T18:57:33.870Z"
   },
   {
    "duration": 80,
    "start_time": "2025-03-21T18:57:48.776Z"
   },
   {
    "duration": 3,
    "start_time": "2025-03-21T18:57:51.896Z"
   },
   {
    "duration": 79,
    "start_time": "2025-03-21T18:58:01.594Z"
   },
   {
    "duration": 12,
    "start_time": "2025-03-21T18:58:29.425Z"
   },
   {
    "duration": 3,
    "start_time": "2025-03-21T18:59:31.875Z"
   },
   {
    "duration": 4,
    "start_time": "2025-03-21T19:00:18.275Z"
   },
   {
    "duration": 3,
    "start_time": "2025-03-21T19:01:50.015Z"
   },
   {
    "duration": 3,
    "start_time": "2025-03-21T19:02:11.594Z"
   },
   {
    "duration": 10,
    "start_time": "2025-03-21T19:03:51.972Z"
   },
   {
    "duration": 4,
    "start_time": "2025-03-21T19:04:14.857Z"
   },
   {
    "duration": 11,
    "start_time": "2025-03-21T19:04:19.414Z"
   },
   {
    "duration": 4,
    "start_time": "2025-03-21T19:04:28.141Z"
   },
   {
    "duration": 8,
    "start_time": "2025-03-21T19:04:31.207Z"
   },
   {
    "duration": 46232,
    "start_time": "2025-03-21T19:05:59.348Z"
   },
   {
    "duration": 0,
    "start_time": "2025-03-21T19:06:45.582Z"
   },
   {
    "duration": 1145,
    "start_time": "2025-03-21T19:06:54.529Z"
   },
   {
    "duration": 3,
    "start_time": "2025-03-21T19:06:55.675Z"
   },
   {
    "duration": 843,
    "start_time": "2025-03-21T19:06:55.679Z"
   },
   {
    "duration": 29,
    "start_time": "2025-03-21T19:06:56.524Z"
   },
   {
    "duration": 154,
    "start_time": "2025-03-21T19:06:56.555Z"
   },
   {
    "duration": 73,
    "start_time": "2025-03-21T19:06:56.711Z"
   },
   {
    "duration": 35,
    "start_time": "2025-03-21T19:06:56.786Z"
   },
   {
    "duration": 40,
    "start_time": "2025-03-21T19:06:56.823Z"
   },
   {
    "duration": 22,
    "start_time": "2025-03-21T19:06:56.865Z"
   },
   {
    "duration": 102,
    "start_time": "2025-03-21T19:06:56.888Z"
   },
   {
    "duration": 20,
    "start_time": "2025-03-21T19:06:56.992Z"
   },
   {
    "duration": 100,
    "start_time": "2025-03-21T19:06:57.014Z"
   },
   {
    "duration": 47,
    "start_time": "2025-03-21T19:06:57.116Z"
   },
   {
    "duration": 99,
    "start_time": "2025-03-21T19:06:57.166Z"
   },
   {
    "duration": 104,
    "start_time": "2025-03-21T19:06:57.273Z"
   },
   {
    "duration": 19,
    "start_time": "2025-03-21T19:06:57.379Z"
   },
   {
    "duration": 105,
    "start_time": "2025-03-21T19:06:57.400Z"
   },
   {
    "duration": 10,
    "start_time": "2025-03-21T19:06:57.507Z"
   },
   {
    "duration": 81,
    "start_time": "2025-03-21T19:06:57.518Z"
   },
   {
    "duration": 3,
    "start_time": "2025-03-21T19:06:57.600Z"
   },
   {
    "duration": 6,
    "start_time": "2025-03-21T19:06:57.605Z"
   },
   {
    "duration": 4,
    "start_time": "2025-03-21T19:06:57.612Z"
   },
   {
    "duration": 6,
    "start_time": "2025-03-21T19:06:57.618Z"
   },
   {
    "duration": 45721,
    "start_time": "2025-03-21T19:07:01.675Z"
   },
   {
    "duration": 16,
    "start_time": "2025-03-21T19:09:40.514Z"
   },
   {
    "duration": 5,
    "start_time": "2025-03-21T19:09:50.621Z"
   },
   {
    "duration": 4,
    "start_time": "2025-03-21T19:10:11.992Z"
   },
   {
    "duration": 16,
    "start_time": "2025-03-21T19:11:07.286Z"
   },
   {
    "duration": 16,
    "start_time": "2025-03-21T19:11:08.625Z"
   },
   {
    "duration": 5680,
    "start_time": "2025-03-21T19:12:01.891Z"
   },
   {
    "duration": 1233,
    "start_time": "2025-03-21T19:15:26.541Z"
   },
   {
    "duration": 3,
    "start_time": "2025-03-21T19:15:27.776Z"
   },
   {
    "duration": 862,
    "start_time": "2025-03-21T19:15:27.780Z"
   },
   {
    "duration": 32,
    "start_time": "2025-03-21T19:15:28.644Z"
   },
   {
    "duration": 148,
    "start_time": "2025-03-21T19:15:28.678Z"
   },
   {
    "duration": 72,
    "start_time": "2025-03-21T19:15:28.827Z"
   },
   {
    "duration": 39,
    "start_time": "2025-03-21T19:15:28.901Z"
   },
   {
    "duration": 52,
    "start_time": "2025-03-21T19:15:28.941Z"
   },
   {
    "duration": 16,
    "start_time": "2025-03-21T19:15:28.995Z"
   },
   {
    "duration": 102,
    "start_time": "2025-03-21T19:15:29.013Z"
   },
   {
    "duration": 21,
    "start_time": "2025-03-21T19:15:29.117Z"
   },
   {
    "duration": 113,
    "start_time": "2025-03-21T19:15:29.140Z"
   },
   {
    "duration": 21,
    "start_time": "2025-03-21T19:15:29.255Z"
   },
   {
    "duration": 104,
    "start_time": "2025-03-21T19:15:29.278Z"
   },
   {
    "duration": 104,
    "start_time": "2025-03-21T19:15:29.384Z"
   },
   {
    "duration": 15,
    "start_time": "2025-03-21T19:15:29.489Z"
   },
   {
    "duration": 96,
    "start_time": "2025-03-21T19:15:29.505Z"
   },
   {
    "duration": 11,
    "start_time": "2025-03-21T19:15:29.602Z"
   },
   {
    "duration": 68,
    "start_time": "2025-03-21T19:15:29.614Z"
   },
   {
    "duration": 0,
    "start_time": "2025-03-21T19:15:29.683Z"
   },
   {
    "duration": 0,
    "start_time": "2025-03-21T19:15:29.684Z"
   },
   {
    "duration": 0,
    "start_time": "2025-03-21T19:15:29.685Z"
   },
   {
    "duration": 0,
    "start_time": "2025-03-21T19:15:29.686Z"
   },
   {
    "duration": 0,
    "start_time": "2025-03-21T19:15:29.687Z"
   },
   {
    "duration": 73,
    "start_time": "2025-03-21T19:15:51.146Z"
   },
   {
    "duration": 3,
    "start_time": "2025-03-21T19:15:51.323Z"
   },
   {
    "duration": 4,
    "start_time": "2025-03-21T19:15:51.633Z"
   },
   {
    "duration": 3,
    "start_time": "2025-03-21T19:15:51.773Z"
   },
   {
    "duration": 6,
    "start_time": "2025-03-21T19:15:51.934Z"
   },
   {
    "duration": 5799,
    "start_time": "2025-03-21T19:15:52.080Z"
   },
   {
    "duration": 16,
    "start_time": "2025-03-21T19:16:01.708Z"
   },
   {
    "duration": 5,
    "start_time": "2025-03-21T19:16:07.118Z"
   },
   {
    "duration": 5,
    "start_time": "2025-03-21T19:16:17.249Z"
   },
   {
    "duration": 4,
    "start_time": "2025-03-21T19:16:26.572Z"
   },
   {
    "duration": 1178,
    "start_time": "2025-03-21T19:21:34.499Z"
   },
   {
    "duration": 2,
    "start_time": "2025-03-21T19:21:35.679Z"
   },
   {
    "duration": 881,
    "start_time": "2025-03-21T19:21:35.682Z"
   },
   {
    "duration": 26,
    "start_time": "2025-03-21T19:21:36.565Z"
   },
   {
    "duration": 150,
    "start_time": "2025-03-21T19:21:36.593Z"
   },
   {
    "duration": 72,
    "start_time": "2025-03-21T19:21:36.745Z"
   },
   {
    "duration": 39,
    "start_time": "2025-03-21T19:21:36.819Z"
   },
   {
    "duration": 42,
    "start_time": "2025-03-21T19:21:36.859Z"
   },
   {
    "duration": 17,
    "start_time": "2025-03-21T19:21:36.903Z"
   },
   {
    "duration": 108,
    "start_time": "2025-03-21T19:21:36.922Z"
   },
   {
    "duration": 22,
    "start_time": "2025-03-21T19:21:37.031Z"
   },
   {
    "duration": 103,
    "start_time": "2025-03-21T19:21:37.054Z"
   },
   {
    "duration": 22,
    "start_time": "2025-03-21T19:21:37.158Z"
   },
   {
    "duration": 134,
    "start_time": "2025-03-21T19:21:37.182Z"
   },
   {
    "duration": 101,
    "start_time": "2025-03-21T19:21:37.318Z"
   },
   {
    "duration": 14,
    "start_time": "2025-03-21T19:21:37.421Z"
   },
   {
    "duration": 101,
    "start_time": "2025-03-21T19:21:37.436Z"
   },
   {
    "duration": 10,
    "start_time": "2025-03-21T19:21:37.539Z"
   },
   {
    "duration": 81,
    "start_time": "2025-03-21T19:21:37.550Z"
   },
   {
    "duration": 73,
    "start_time": "2025-03-21T19:21:37.633Z"
   },
   {
    "duration": 0,
    "start_time": "2025-03-21T19:21:37.707Z"
   },
   {
    "duration": 0,
    "start_time": "2025-03-21T19:21:37.708Z"
   },
   {
    "duration": 0,
    "start_time": "2025-03-21T19:21:37.709Z"
   },
   {
    "duration": 0,
    "start_time": "2025-03-21T19:21:37.710Z"
   },
   {
    "duration": 3,
    "start_time": "2025-03-21T19:22:02.322Z"
   },
   {
    "duration": 4,
    "start_time": "2025-03-21T19:22:02.509Z"
   },
   {
    "duration": 3,
    "start_time": "2025-03-21T19:22:02.863Z"
   },
   {
    "duration": 7,
    "start_time": "2025-03-21T19:22:03.221Z"
   },
   {
    "duration": 257145,
    "start_time": "2025-03-21T19:22:03.671Z"
   },
   {
    "duration": 111,
    "start_time": "2025-03-21T19:26:20.818Z"
   },
   {
    "duration": 0,
    "start_time": "2025-03-21T19:26:20.931Z"
   },
   {
    "duration": 8,
    "start_time": "2025-03-21T19:28:32.288Z"
   },
   {
    "duration": 4,
    "start_time": "2025-03-21T19:28:59.400Z"
   },
   {
    "duration": 9,
    "start_time": "2025-03-21T19:29:10.063Z"
   },
   {
    "duration": 5,
    "start_time": "2025-03-21T19:29:27.426Z"
   },
   {
    "duration": 5,
    "start_time": "2025-03-21T19:30:15.606Z"
   },
   {
    "duration": 15,
    "start_time": "2025-03-21T19:30:23.227Z"
   },
   {
    "duration": 4,
    "start_time": "2025-03-21T19:31:08.006Z"
   },
   {
    "duration": 5,
    "start_time": "2025-03-21T19:31:13.638Z"
   },
   {
    "duration": 1194,
    "start_time": "2025-03-22T08:38:15.083Z"
   },
   {
    "duration": 3,
    "start_time": "2025-03-22T08:38:16.279Z"
   },
   {
    "duration": 807,
    "start_time": "2025-03-22T08:38:16.283Z"
   },
   {
    "duration": 30,
    "start_time": "2025-03-22T08:38:17.091Z"
   },
   {
    "duration": 137,
    "start_time": "2025-03-22T08:38:17.123Z"
   },
   {
    "duration": 60,
    "start_time": "2025-03-22T08:38:17.262Z"
   },
   {
    "duration": 33,
    "start_time": "2025-03-22T08:38:17.323Z"
   },
   {
    "duration": 43,
    "start_time": "2025-03-22T08:38:17.357Z"
   },
   {
    "duration": 17,
    "start_time": "2025-03-22T08:38:17.402Z"
   },
   {
    "duration": 93,
    "start_time": "2025-03-22T08:38:17.420Z"
   },
   {
    "duration": 23,
    "start_time": "2025-03-22T08:38:17.515Z"
   },
   {
    "duration": 89,
    "start_time": "2025-03-22T08:38:17.539Z"
   },
   {
    "duration": 15,
    "start_time": "2025-03-22T08:38:17.630Z"
   },
   {
    "duration": 103,
    "start_time": "2025-03-22T08:38:17.647Z"
   },
   {
    "duration": 96,
    "start_time": "2025-03-22T08:38:17.752Z"
   },
   {
    "duration": 14,
    "start_time": "2025-03-22T08:38:17.850Z"
   },
   {
    "duration": 93,
    "start_time": "2025-03-22T08:38:17.865Z"
   },
   {
    "duration": 10,
    "start_time": "2025-03-22T08:38:17.960Z"
   },
   {
    "duration": 81,
    "start_time": "2025-03-22T08:38:17.972Z"
   },
   {
    "duration": 3,
    "start_time": "2025-03-22T08:38:18.055Z"
   },
   {
    "duration": 7,
    "start_time": "2025-03-22T08:38:18.060Z"
   },
   {
    "duration": 4,
    "start_time": "2025-03-22T08:38:18.068Z"
   },
   {
    "duration": 7,
    "start_time": "2025-03-22T08:38:18.073Z"
   },
   {
    "duration": 250936,
    "start_time": "2025-03-22T08:38:18.081Z"
   },
   {
    "duration": 5,
    "start_time": "2025-03-22T08:42:29.018Z"
   },
   {
    "duration": 4,
    "start_time": "2025-03-22T08:46:37.284Z"
   },
   {
    "duration": 4,
    "start_time": "2025-03-22T08:50:59.738Z"
   },
   {
    "duration": 6,
    "start_time": "2025-03-22T08:52:09.100Z"
   },
   {
    "duration": 97,
    "start_time": "2025-03-22T08:53:37.176Z"
   },
   {
    "duration": 6,
    "start_time": "2025-03-22T08:53:41.294Z"
   },
   {
    "duration": 21955,
    "start_time": "2025-03-22T08:53:43.858Z"
   },
   {
    "duration": 5,
    "start_time": "2025-03-22T08:54:05.814Z"
   },
   {
    "duration": 22317,
    "start_time": "2025-03-22T08:54:37.436Z"
   },
   {
    "duration": 4,
    "start_time": "2025-03-22T08:54:59.757Z"
   },
   {
    "duration": 1137,
    "start_time": "2025-03-22T09:12:25.133Z"
   },
   {
    "duration": 3,
    "start_time": "2025-03-22T09:12:26.273Z"
   },
   {
    "duration": 781,
    "start_time": "2025-03-22T09:12:26.277Z"
   },
   {
    "duration": 26,
    "start_time": "2025-03-22T09:12:27.060Z"
   },
   {
    "duration": 137,
    "start_time": "2025-03-22T09:12:27.088Z"
   },
   {
    "duration": 53,
    "start_time": "2025-03-22T09:12:27.226Z"
   },
   {
    "duration": 43,
    "start_time": "2025-03-22T09:12:27.281Z"
   },
   {
    "duration": 41,
    "start_time": "2025-03-22T09:12:27.326Z"
   },
   {
    "duration": 18,
    "start_time": "2025-03-22T09:12:27.369Z"
   },
   {
    "duration": 103,
    "start_time": "2025-03-22T09:12:27.389Z"
   },
   {
    "duration": 39,
    "start_time": "2025-03-22T09:12:27.493Z"
   },
   {
    "duration": 85,
    "start_time": "2025-03-22T09:12:27.533Z"
   },
   {
    "duration": 16,
    "start_time": "2025-03-22T09:12:27.619Z"
   },
   {
    "duration": 103,
    "start_time": "2025-03-22T09:12:27.638Z"
   },
   {
    "duration": 99,
    "start_time": "2025-03-22T09:12:27.743Z"
   },
   {
    "duration": 13,
    "start_time": "2025-03-22T09:12:27.844Z"
   },
   {
    "duration": 88,
    "start_time": "2025-03-22T09:12:27.858Z"
   },
   {
    "duration": 9,
    "start_time": "2025-03-22T09:12:27.948Z"
   },
   {
    "duration": 79,
    "start_time": "2025-03-22T09:12:27.959Z"
   },
   {
    "duration": 3,
    "start_time": "2025-03-22T09:12:28.039Z"
   },
   {
    "duration": 4,
    "start_time": "2025-03-22T09:12:28.044Z"
   },
   {
    "duration": 4,
    "start_time": "2025-03-22T09:12:28.049Z"
   },
   {
    "duration": 7,
    "start_time": "2025-03-22T09:12:28.054Z"
   },
   {
    "duration": 5,
    "start_time": "2025-03-22T09:12:28.062Z"
   },
   {
    "duration": 245140,
    "start_time": "2025-03-22T09:12:28.068Z"
   },
   {
    "duration": 5,
    "start_time": "2025-03-22T09:16:33.209Z"
   },
   {
    "duration": 24,
    "start_time": "2025-03-22T09:16:33.215Z"
   },
   {
    "duration": 22151,
    "start_time": "2025-03-22T09:16:33.241Z"
   },
   {
    "duration": 14,
    "start_time": "2025-03-22T09:16:55.393Z"
   },
   {
    "duration": 471,
    "start_time": "2025-03-22T09:18:24.554Z"
   },
   {
    "duration": 5,
    "start_time": "2025-03-22T09:18:25.154Z"
   },
   {
    "duration": 97,
    "start_time": "2025-03-22T09:19:12.654Z"
   },
   {
    "duration": 1148,
    "start_time": "2025-03-22T09:19:28.230Z"
   },
   {
    "duration": 2,
    "start_time": "2025-03-22T09:19:29.383Z"
   },
   {
    "duration": 808,
    "start_time": "2025-03-22T09:19:29.387Z"
   },
   {
    "duration": 30,
    "start_time": "2025-03-22T09:19:30.197Z"
   },
   {
    "duration": 151,
    "start_time": "2025-03-22T09:19:30.228Z"
   },
   {
    "duration": 145,
    "start_time": "2025-03-22T09:19:30.381Z"
   },
   {
    "duration": 33,
    "start_time": "2025-03-22T09:19:30.528Z"
   },
   {
    "duration": 54,
    "start_time": "2025-03-22T09:19:30.563Z"
   },
   {
    "duration": 15,
    "start_time": "2025-03-22T09:19:30.619Z"
   },
   {
    "duration": 153,
    "start_time": "2025-03-22T09:19:30.636Z"
   },
   {
    "duration": 24,
    "start_time": "2025-03-22T09:19:30.791Z"
   },
   {
    "duration": 125,
    "start_time": "2025-03-22T09:19:30.816Z"
   },
   {
    "duration": 71,
    "start_time": "2025-03-22T09:19:30.943Z"
   },
   {
    "duration": 103,
    "start_time": "2025-03-22T09:19:31.016Z"
   },
   {
    "duration": 94,
    "start_time": "2025-03-22T09:19:31.121Z"
   },
   {
    "duration": 13,
    "start_time": "2025-03-22T09:19:31.217Z"
   },
   {
    "duration": 96,
    "start_time": "2025-03-22T09:19:31.232Z"
   },
   {
    "duration": 10,
    "start_time": "2025-03-22T09:19:31.329Z"
   },
   {
    "duration": 86,
    "start_time": "2025-03-22T09:19:31.340Z"
   },
   {
    "duration": 3,
    "start_time": "2025-03-22T09:19:31.427Z"
   },
   {
    "duration": 22,
    "start_time": "2025-03-22T09:19:31.431Z"
   },
   {
    "duration": 4,
    "start_time": "2025-03-22T09:19:31.455Z"
   },
   {
    "duration": 60,
    "start_time": "2025-03-22T09:19:31.460Z"
   },
   {
    "duration": 11,
    "start_time": "2025-03-22T09:19:31.521Z"
   },
   {
    "duration": 1219,
    "start_time": "2025-03-22T09:21:54.937Z"
   },
   {
    "duration": 2,
    "start_time": "2025-03-22T09:21:56.158Z"
   },
   {
    "duration": 856,
    "start_time": "2025-03-22T09:21:56.162Z"
   },
   {
    "duration": 29,
    "start_time": "2025-03-22T09:21:57.019Z"
   },
   {
    "duration": 140,
    "start_time": "2025-03-22T09:21:57.050Z"
   },
   {
    "duration": 60,
    "start_time": "2025-03-22T09:21:57.192Z"
   },
   {
    "duration": 32,
    "start_time": "2025-03-22T09:21:57.254Z"
   },
   {
    "duration": 52,
    "start_time": "2025-03-22T09:21:57.287Z"
   },
   {
    "duration": 27,
    "start_time": "2025-03-22T09:21:57.340Z"
   },
   {
    "duration": 109,
    "start_time": "2025-03-22T09:21:57.369Z"
   },
   {
    "duration": 31,
    "start_time": "2025-03-22T09:21:57.480Z"
   },
   {
    "duration": 119,
    "start_time": "2025-03-22T09:21:57.513Z"
   },
   {
    "duration": 17,
    "start_time": "2025-03-22T09:21:57.634Z"
   },
   {
    "duration": 109,
    "start_time": "2025-03-22T09:21:57.654Z"
   },
   {
    "duration": 99,
    "start_time": "2025-03-22T09:21:57.765Z"
   },
   {
    "duration": 12,
    "start_time": "2025-03-22T09:21:57.866Z"
   },
   {
    "duration": 94,
    "start_time": "2025-03-22T09:21:57.880Z"
   },
   {
    "duration": 10,
    "start_time": "2025-03-22T09:21:57.975Z"
   },
   {
    "duration": 85,
    "start_time": "2025-03-22T09:21:57.987Z"
   },
   {
    "duration": 2,
    "start_time": "2025-03-22T09:21:58.074Z"
   },
   {
    "duration": 6,
    "start_time": "2025-03-22T09:21:58.078Z"
   },
   {
    "duration": 5,
    "start_time": "2025-03-22T09:21:58.085Z"
   },
   {
    "duration": 6,
    "start_time": "2025-03-22T09:21:58.107Z"
   },
   {
    "duration": 3,
    "start_time": "2025-03-22T09:21:58.115Z"
   },
   {
    "duration": 243330,
    "start_time": "2025-03-22T09:21:58.120Z"
   },
   {
    "duration": 5,
    "start_time": "2025-03-22T09:26:01.451Z"
   },
   {
    "duration": 2,
    "start_time": "2025-03-22T09:26:01.458Z"
   },
   {
    "duration": 22926,
    "start_time": "2025-03-22T09:26:01.462Z"
   },
   {
    "duration": 5,
    "start_time": "2025-03-22T09:26:24.390Z"
   },
   {
    "duration": 98,
    "start_time": "2025-03-22T10:17:19.779Z"
   },
   {
    "duration": 10,
    "start_time": "2025-03-22T10:17:44.103Z"
   },
   {
    "duration": 10,
    "start_time": "2025-03-22T10:19:04.335Z"
   },
   {
    "duration": 5,
    "start_time": "2025-03-22T10:19:08.060Z"
   },
   {
    "duration": 8,
    "start_time": "2025-03-22T10:19:12.411Z"
   },
   {
    "duration": 3,
    "start_time": "2025-03-22T10:19:47.690Z"
   },
   {
    "duration": 124107,
    "start_time": "2025-03-22T10:19:48.506Z"
   },
   {
    "duration": 5,
    "start_time": "2025-03-22T10:22:04.944Z"
   },
   {
    "duration": 1110,
    "start_time": "2025-03-22T10:22:21.867Z"
   },
   {
    "duration": 2,
    "start_time": "2025-03-22T10:22:22.980Z"
   },
   {
    "duration": 810,
    "start_time": "2025-03-22T10:22:22.983Z"
   },
   {
    "duration": 30,
    "start_time": "2025-03-22T10:22:23.794Z"
   },
   {
    "duration": 141,
    "start_time": "2025-03-22T10:22:23.826Z"
   },
   {
    "duration": 66,
    "start_time": "2025-03-22T10:22:23.968Z"
   },
   {
    "duration": 36,
    "start_time": "2025-03-22T10:22:24.036Z"
   },
   {
    "duration": 46,
    "start_time": "2025-03-22T10:22:24.074Z"
   },
   {
    "duration": 15,
    "start_time": "2025-03-22T10:22:24.122Z"
   },
   {
    "duration": 91,
    "start_time": "2025-03-22T10:22:24.139Z"
   },
   {
    "duration": 20,
    "start_time": "2025-03-22T10:22:24.231Z"
   },
   {
    "duration": 95,
    "start_time": "2025-03-22T10:22:24.252Z"
   },
   {
    "duration": 17,
    "start_time": "2025-03-22T10:22:24.348Z"
   },
   {
    "duration": 100,
    "start_time": "2025-03-22T10:22:24.368Z"
   },
   {
    "duration": 101,
    "start_time": "2025-03-22T10:22:24.469Z"
   },
   {
    "duration": 13,
    "start_time": "2025-03-22T10:22:24.572Z"
   },
   {
    "duration": 98,
    "start_time": "2025-03-22T10:22:24.587Z"
   },
   {
    "duration": 10,
    "start_time": "2025-03-22T10:22:24.686Z"
   },
   {
    "duration": 78,
    "start_time": "2025-03-22T10:22:24.697Z"
   },
   {
    "duration": 3,
    "start_time": "2025-03-22T10:22:24.777Z"
   },
   {
    "duration": 15,
    "start_time": "2025-03-22T10:22:24.781Z"
   },
   {
    "duration": 4,
    "start_time": "2025-03-22T10:22:24.797Z"
   },
   {
    "duration": 74,
    "start_time": "2025-03-22T10:22:24.806Z"
   },
   {
    "duration": 89,
    "start_time": "2025-03-22T10:22:24.881Z"
   },
   {
    "duration": 238536,
    "start_time": "2025-03-22T10:22:24.972Z"
   },
   {
    "duration": 5,
    "start_time": "2025-03-22T10:26:23.509Z"
   },
   {
    "duration": 7,
    "start_time": "2025-03-22T10:26:23.515Z"
   },
   {
    "duration": 22206,
    "start_time": "2025-03-22T10:26:23.524Z"
   },
   {
    "duration": 5,
    "start_time": "2025-03-22T10:26:45.732Z"
   },
   {
    "duration": 3,
    "start_time": "2025-03-22T10:26:45.739Z"
   },
   {
    "duration": 126577,
    "start_time": "2025-03-22T10:26:45.743Z"
   },
   {
    "duration": 6,
    "start_time": "2025-03-22T10:28:52.321Z"
   },
   {
    "duration": 3570,
    "start_time": "2025-03-22T11:12:47.621Z"
   },
   {
    "duration": 85,
    "start_time": "2025-03-22T11:12:59.229Z"
   },
   {
    "duration": 2926,
    "start_time": "2025-03-22T11:13:08.206Z"
   },
   {
    "duration": 437,
    "start_time": "2025-03-22T11:13:35.108Z"
   },
   {
    "duration": 3746,
    "start_time": "2025-03-22T11:13:41.457Z"
   },
   {
    "duration": 2203,
    "start_time": "2025-03-22T11:15:24.164Z"
   },
   {
    "duration": 1360,
    "start_time": "2025-03-22T11:15:26.369Z"
   },
   {
    "duration": 3,
    "start_time": "2025-03-22T11:15:27.732Z"
   },
   {
    "duration": 823,
    "start_time": "2025-03-22T11:15:27.737Z"
   },
   {
    "duration": 33,
    "start_time": "2025-03-22T11:15:28.562Z"
   },
   {
    "duration": 151,
    "start_time": "2025-03-22T11:15:28.596Z"
   },
   {
    "duration": 64,
    "start_time": "2025-03-22T11:15:28.749Z"
   },
   {
    "duration": 2233,
    "start_time": "2025-03-22T11:18:14.281Z"
   },
   {
    "duration": 1449,
    "start_time": "2025-03-22T11:18:16.516Z"
   },
   {
    "duration": 2,
    "start_time": "2025-03-22T11:18:17.966Z"
   },
   {
    "duration": 823,
    "start_time": "2025-03-22T11:18:17.970Z"
   },
   {
    "duration": 28,
    "start_time": "2025-03-22T11:18:18.796Z"
   },
   {
    "duration": 143,
    "start_time": "2025-03-22T11:18:18.826Z"
   },
   {
    "duration": 61,
    "start_time": "2025-03-22T11:18:18.970Z"
   },
   {
    "duration": 2287,
    "start_time": "2025-03-22T11:22:46.027Z"
   },
   {
    "duration": 1478,
    "start_time": "2025-03-22T11:22:48.317Z"
   },
   {
    "duration": 2,
    "start_time": "2025-03-22T11:22:49.796Z"
   },
   {
    "duration": 837,
    "start_time": "2025-03-22T11:22:49.806Z"
   },
   {
    "duration": 24,
    "start_time": "2025-03-22T11:22:50.645Z"
   },
   {
    "duration": 151,
    "start_time": "2025-03-22T11:22:50.671Z"
   },
   {
    "duration": 55,
    "start_time": "2025-03-22T11:22:50.824Z"
   },
   {
    "duration": 2291,
    "start_time": "2025-03-22T11:24:40.246Z"
   },
   {
    "duration": 1461,
    "start_time": "2025-03-22T11:24:42.539Z"
   },
   {
    "duration": 4,
    "start_time": "2025-03-22T11:24:44.002Z"
   },
   {
    "duration": 819,
    "start_time": "2025-03-22T11:24:44.008Z"
   },
   {
    "duration": 24,
    "start_time": "2025-03-22T11:24:44.830Z"
   },
   {
    "duration": 152,
    "start_time": "2025-03-22T11:24:44.855Z"
   },
   {
    "duration": 51,
    "start_time": "2025-03-22T11:24:45.009Z"
   },
   {
    "duration": 2258,
    "start_time": "2025-03-22T11:25:26.085Z"
   },
   {
    "duration": 1445,
    "start_time": "2025-03-22T11:25:28.346Z"
   },
   {
    "duration": 2,
    "start_time": "2025-03-22T11:25:29.793Z"
   },
   {
    "duration": 846,
    "start_time": "2025-03-22T11:25:29.797Z"
   },
   {
    "duration": 25,
    "start_time": "2025-03-22T11:25:30.645Z"
   },
   {
    "duration": 145,
    "start_time": "2025-03-22T11:25:30.671Z"
   },
   {
    "duration": 63,
    "start_time": "2025-03-22T11:25:30.817Z"
   },
   {
    "duration": 96,
    "start_time": "2025-03-22T11:25:30.882Z"
   },
   {
    "duration": 2234,
    "start_time": "2025-03-22T11:27:06.058Z"
   },
   {
    "duration": 1496,
    "start_time": "2025-03-22T11:27:08.294Z"
   },
   {
    "duration": 2,
    "start_time": "2025-03-22T11:27:09.792Z"
   },
   {
    "duration": 835,
    "start_time": "2025-03-22T11:27:09.796Z"
   },
   {
    "duration": 23,
    "start_time": "2025-03-22T11:27:10.633Z"
   },
   {
    "duration": 141,
    "start_time": "2025-03-22T11:27:10.658Z"
   },
   {
    "duration": 53,
    "start_time": "2025-03-22T11:27:10.807Z"
   },
   {
    "duration": 2228,
    "start_time": "2025-03-22T11:28:15.311Z"
   },
   {
    "duration": 1381,
    "start_time": "2025-03-22T11:28:17.541Z"
   },
   {
    "duration": 3,
    "start_time": "2025-03-22T11:28:18.923Z"
   },
   {
    "duration": 899,
    "start_time": "2025-03-22T11:28:18.927Z"
   },
   {
    "duration": 25,
    "start_time": "2025-03-22T11:28:19.828Z"
   },
   {
    "duration": 153,
    "start_time": "2025-03-22T11:28:19.854Z"
   },
   {
    "duration": 54,
    "start_time": "2025-03-22T11:28:20.008Z"
   },
   {
    "duration": 44,
    "start_time": "2025-03-22T11:28:20.063Z"
   },
   {
    "duration": 4150,
    "start_time": "2025-03-22T11:28:20.109Z"
   },
   {
    "duration": 7,
    "start_time": "2025-03-22T11:28:24.261Z"
   },
   {
    "duration": 26,
    "start_time": "2025-03-22T11:28:24.269Z"
   },
   {
    "duration": 17,
    "start_time": "2025-03-22T11:28:24.296Z"
   },
   {
    "duration": 5,
    "start_time": "2025-03-22T11:28:24.314Z"
   },
   {
    "duration": 123,
    "start_time": "2025-03-22T11:28:24.322Z"
   },
   {
    "duration": 0,
    "start_time": "2025-03-22T11:28:24.446Z"
   },
   {
    "duration": 0,
    "start_time": "2025-03-22T11:28:24.448Z"
   },
   {
    "duration": 0,
    "start_time": "2025-03-22T11:28:24.449Z"
   },
   {
    "duration": 0,
    "start_time": "2025-03-22T11:28:24.449Z"
   },
   {
    "duration": 0,
    "start_time": "2025-03-22T11:28:24.451Z"
   },
   {
    "duration": 0,
    "start_time": "2025-03-22T11:28:24.452Z"
   },
   {
    "duration": 0,
    "start_time": "2025-03-22T11:28:24.453Z"
   },
   {
    "duration": 0,
    "start_time": "2025-03-22T11:28:24.454Z"
   },
   {
    "duration": 0,
    "start_time": "2025-03-22T11:28:24.455Z"
   },
   {
    "duration": 0,
    "start_time": "2025-03-22T11:28:24.456Z"
   },
   {
    "duration": 0,
    "start_time": "2025-03-22T11:28:24.457Z"
   },
   {
    "duration": 0,
    "start_time": "2025-03-22T11:28:24.458Z"
   },
   {
    "duration": 0,
    "start_time": "2025-03-22T11:28:24.459Z"
   },
   {
    "duration": 0,
    "start_time": "2025-03-22T11:28:24.460Z"
   },
   {
    "duration": 0,
    "start_time": "2025-03-22T11:28:24.461Z"
   },
   {
    "duration": 0,
    "start_time": "2025-03-22T11:28:24.461Z"
   },
   {
    "duration": 0,
    "start_time": "2025-03-22T11:28:24.462Z"
   },
   {
    "duration": 0,
    "start_time": "2025-03-22T11:28:24.463Z"
   },
   {
    "duration": 0,
    "start_time": "2025-03-22T11:28:24.464Z"
   },
   {
    "duration": 0,
    "start_time": "2025-03-22T11:28:24.465Z"
   },
   {
    "duration": 0,
    "start_time": "2025-03-22T11:28:24.466Z"
   },
   {
    "duration": 0,
    "start_time": "2025-03-22T11:28:24.467Z"
   },
   {
    "duration": 0,
    "start_time": "2025-03-22T11:28:24.468Z"
   },
   {
    "duration": 2217,
    "start_time": "2025-03-22T11:34:34.948Z"
   },
   {
    "duration": 1401,
    "start_time": "2025-03-22T11:34:37.168Z"
   },
   {
    "duration": 2,
    "start_time": "2025-03-22T11:34:38.570Z"
   },
   {
    "duration": 893,
    "start_time": "2025-03-22T11:34:38.574Z"
   },
   {
    "duration": 24,
    "start_time": "2025-03-22T11:34:39.469Z"
   },
   {
    "duration": 168,
    "start_time": "2025-03-22T11:34:39.495Z"
   },
   {
    "duration": 66,
    "start_time": "2025-03-22T11:34:39.664Z"
   },
   {
    "duration": 38,
    "start_time": "2025-03-22T11:34:39.731Z"
   },
   {
    "duration": 4312,
    "start_time": "2025-03-22T11:34:39.771Z"
   },
   {
    "duration": 22,
    "start_time": "2025-03-22T11:34:44.085Z"
   },
   {
    "duration": 34,
    "start_time": "2025-03-22T11:34:44.108Z"
   },
   {
    "duration": 14,
    "start_time": "2025-03-22T11:34:44.143Z"
   },
   {
    "duration": 89,
    "start_time": "2025-03-22T11:34:44.159Z"
   },
   {
    "duration": 19,
    "start_time": "2025-03-22T11:34:44.251Z"
   },
   {
    "duration": 81,
    "start_time": "2025-03-22T11:34:44.271Z"
   },
   {
    "duration": 16,
    "start_time": "2025-03-22T11:34:44.353Z"
   },
   {
    "duration": 102,
    "start_time": "2025-03-22T11:34:44.370Z"
   },
   {
    "duration": 78,
    "start_time": "2025-03-22T11:34:44.474Z"
   },
   {
    "duration": 1472,
    "start_time": "2025-03-22T11:34:44.554Z"
   },
   {
    "duration": 0,
    "start_time": "2025-03-22T11:34:46.027Z"
   },
   {
    "duration": 0,
    "start_time": "2025-03-22T11:34:46.029Z"
   },
   {
    "duration": 0,
    "start_time": "2025-03-22T11:34:46.030Z"
   },
   {
    "duration": 0,
    "start_time": "2025-03-22T11:34:46.032Z"
   },
   {
    "duration": 0,
    "start_time": "2025-03-22T11:34:46.033Z"
   },
   {
    "duration": 0,
    "start_time": "2025-03-22T11:34:46.034Z"
   },
   {
    "duration": 0,
    "start_time": "2025-03-22T11:34:46.036Z"
   },
   {
    "duration": 0,
    "start_time": "2025-03-22T11:34:46.037Z"
   },
   {
    "duration": 0,
    "start_time": "2025-03-22T11:34:46.038Z"
   },
   {
    "duration": 0,
    "start_time": "2025-03-22T11:34:46.040Z"
   },
   {
    "duration": 0,
    "start_time": "2025-03-22T11:34:46.042Z"
   },
   {
    "duration": 0,
    "start_time": "2025-03-22T11:34:46.043Z"
   },
   {
    "duration": 0,
    "start_time": "2025-03-22T11:34:46.044Z"
   },
   {
    "duration": 0,
    "start_time": "2025-03-22T11:34:46.045Z"
   },
   {
    "duration": 0,
    "start_time": "2025-03-22T11:34:46.047Z"
   },
   {
    "duration": 0,
    "start_time": "2025-03-22T11:34:46.048Z"
   },
   {
    "duration": 0,
    "start_time": "2025-03-22T11:34:46.049Z"
   },
   {
    "duration": 0,
    "start_time": "2025-03-22T11:34:46.051Z"
   },
   {
    "duration": 0,
    "start_time": "2025-03-22T11:34:46.052Z"
   },
   {
    "duration": 2235,
    "start_time": "2025-03-22T11:37:05.549Z"
   },
   {
    "duration": 2094,
    "start_time": "2025-03-22T11:37:07.786Z"
   },
   {
    "duration": 2,
    "start_time": "2025-03-22T11:37:09.882Z"
   },
   {
    "duration": 823,
    "start_time": "2025-03-22T11:37:09.886Z"
   },
   {
    "duration": 25,
    "start_time": "2025-03-22T11:37:10.710Z"
   },
   {
    "duration": 154,
    "start_time": "2025-03-22T11:37:10.736Z"
   },
   {
    "duration": 62,
    "start_time": "2025-03-22T11:37:10.892Z"
   },
   {
    "duration": 55,
    "start_time": "2025-03-22T11:37:10.956Z"
   },
   {
    "duration": 4287,
    "start_time": "2025-03-22T11:37:11.012Z"
   },
   {
    "duration": 18,
    "start_time": "2025-03-22T11:37:15.302Z"
   },
   {
    "duration": 94,
    "start_time": "2025-03-22T11:37:15.321Z"
   },
   {
    "duration": 13,
    "start_time": "2025-03-22T11:37:15.416Z"
   },
   {
    "duration": 84,
    "start_time": "2025-03-22T11:37:15.430Z"
   },
   {
    "duration": 18,
    "start_time": "2025-03-22T11:37:15.515Z"
   },
   {
    "duration": 141,
    "start_time": "2025-03-22T11:37:15.535Z"
   },
   {
    "duration": 12,
    "start_time": "2025-03-22T11:37:15.678Z"
   },
   {
    "duration": 84,
    "start_time": "2025-03-22T11:37:15.692Z"
   },
   {
    "duration": 64,
    "start_time": "2025-03-22T11:37:15.778Z"
   },
   {
    "duration": 19,
    "start_time": "2025-03-22T11:37:15.843Z"
   },
   {
    "duration": 9,
    "start_time": "2025-03-22T11:37:15.863Z"
   },
   {
    "duration": 93,
    "start_time": "2025-03-22T11:37:15.873Z"
   },
   {
    "duration": 3,
    "start_time": "2025-03-22T11:37:15.967Z"
   },
   {
    "duration": 15,
    "start_time": "2025-03-22T11:37:15.971Z"
   },
   {
    "duration": 9,
    "start_time": "2025-03-22T11:37:15.988Z"
   },
   {
    "duration": 18,
    "start_time": "2025-03-22T11:37:15.998Z"
   },
   {
    "duration": 4,
    "start_time": "2025-03-22T11:37:16.017Z"
   },
   {
    "duration": 67870,
    "start_time": "2025-03-22T11:37:16.022Z"
   },
   {
    "duration": 265,
    "start_time": "2025-03-22T11:38:23.894Z"
   },
   {
    "duration": 10,
    "start_time": "2025-03-22T11:38:24.160Z"
   },
   {
    "duration": 0,
    "start_time": "2025-03-22T11:38:24.172Z"
   },
   {
    "duration": 0,
    "start_time": "2025-03-22T11:38:24.173Z"
   },
   {
    "duration": 0,
    "start_time": "2025-03-22T11:38:24.174Z"
   },
   {
    "duration": 0,
    "start_time": "2025-03-22T11:38:24.175Z"
   },
   {
    "duration": 0,
    "start_time": "2025-03-22T11:38:24.175Z"
   },
   {
    "duration": 0,
    "start_time": "2025-03-22T11:38:24.176Z"
   },
   {
    "duration": 0,
    "start_time": "2025-03-22T11:38:24.177Z"
   },
   {
    "duration": 0,
    "start_time": "2025-03-22T11:38:24.178Z"
   },
   {
    "duration": 3,
    "start_time": "2025-03-22T11:41:50.605Z"
   },
   {
    "duration": 4,
    "start_time": "2025-03-22T11:41:50.955Z"
   },
   {
    "duration": 3,
    "start_time": "2025-03-22T11:41:51.305Z"
   },
   {
    "duration": 10,
    "start_time": "2025-03-22T11:41:52.273Z"
   },
   {
    "duration": 3,
    "start_time": "2025-03-22T11:41:56.224Z"
   },
   {
    "duration": 3570,
    "start_time": "2025-03-22T11:41:58.529Z"
   },
   {
    "duration": 161,
    "start_time": "2025-03-22T11:42:02.100Z"
   },
   {
    "duration": 9,
    "start_time": "2025-03-22T11:42:03.561Z"
   },
   {
    "duration": 3,
    "start_time": "2025-03-22T11:42:57.378Z"
   },
   {
    "duration": 4,
    "start_time": "2025-03-22T11:42:57.616Z"
   },
   {
    "duration": 3,
    "start_time": "2025-03-22T11:42:57.810Z"
   },
   {
    "duration": 9,
    "start_time": "2025-03-22T11:42:58.211Z"
   },
   {
    "duration": 2,
    "start_time": "2025-03-22T11:42:58.853Z"
   },
   {
    "duration": 72300,
    "start_time": "2025-03-22T11:42:59.214Z"
   },
   {
    "duration": 157,
    "start_time": "2025-03-22T11:44:11.516Z"
   },
   {
    "duration": 5,
    "start_time": "2025-03-22T11:44:11.675Z"
   },
   {
    "duration": 16,
    "start_time": "2025-03-22T11:45:55.869Z"
   },
   {
    "duration": 2203,
    "start_time": "2025-03-22T11:49:16.242Z"
   },
   {
    "duration": 1404,
    "start_time": "2025-03-22T11:49:18.447Z"
   },
   {
    "duration": 3,
    "start_time": "2025-03-22T11:49:19.853Z"
   },
   {
    "duration": 869,
    "start_time": "2025-03-22T11:49:19.858Z"
   },
   {
    "duration": 27,
    "start_time": "2025-03-22T11:49:20.729Z"
   },
   {
    "duration": 162,
    "start_time": "2025-03-22T11:49:20.757Z"
   },
   {
    "duration": 52,
    "start_time": "2025-03-22T11:49:20.922Z"
   },
   {
    "duration": 53,
    "start_time": "2025-03-22T11:49:20.976Z"
   },
   {
    "duration": 74,
    "start_time": "2025-03-22T11:49:21.031Z"
   },
   {
    "duration": 83,
    "start_time": "2025-03-22T11:49:21.107Z"
   },
   {
    "duration": 27,
    "start_time": "2025-03-22T11:49:21.191Z"
   },
   {
    "duration": 93,
    "start_time": "2025-03-22T11:49:21.219Z"
   },
   {
    "duration": 152,
    "start_time": "2025-03-22T11:49:21.313Z"
   },
   {
    "duration": 96,
    "start_time": "2025-03-22T11:49:21.467Z"
   },
   {
    "duration": 13,
    "start_time": "2025-03-22T11:49:21.565Z"
   },
   {
    "duration": 111,
    "start_time": "2025-03-22T11:49:21.580Z"
   },
   {
    "duration": 11,
    "start_time": "2025-03-22T11:49:21.692Z"
   },
   {
    "duration": 78,
    "start_time": "2025-03-22T11:49:21.707Z"
   },
   {
    "duration": 3,
    "start_time": "2025-03-22T11:49:21.786Z"
   },
   {
    "duration": 12,
    "start_time": "2025-03-22T11:49:21.791Z"
   },
   {
    "duration": 10,
    "start_time": "2025-03-22T11:49:21.806Z"
   },
   {
    "duration": 16,
    "start_time": "2025-03-22T11:49:21.817Z"
   },
   {
    "duration": 10,
    "start_time": "2025-03-22T11:49:21.835Z"
   },
   {
    "duration": 236755,
    "start_time": "2025-03-22T11:49:21.846Z"
   },
   {
    "duration": 174,
    "start_time": "2025-03-22T11:53:18.607Z"
   },
   {
    "duration": 6,
    "start_time": "2025-03-22T11:53:18.783Z"
   },
   {
    "duration": 17,
    "start_time": "2025-03-22T11:53:18.790Z"
   },
   {
    "duration": 22101,
    "start_time": "2025-03-22T11:53:18.808Z"
   },
   {
    "duration": 159,
    "start_time": "2025-03-22T11:53:40.911Z"
   },
   {
    "duration": 4,
    "start_time": "2025-03-22T11:53:41.072Z"
   },
   {
    "duration": 4,
    "start_time": "2025-03-22T11:53:41.078Z"
   },
   {
    "duration": 124530,
    "start_time": "2025-03-22T11:53:41.083Z"
   },
   {
    "duration": 693,
    "start_time": "2025-03-22T11:55:45.615Z"
   },
   {
    "duration": 4,
    "start_time": "2025-03-22T11:55:46.310Z"
   },
   {
    "duration": 928,
    "start_time": "2025-03-22T12:11:32.736Z"
   },
   {
    "duration": 933,
    "start_time": "2025-03-22T12:13:38.038Z"
   },
   {
    "duration": 203,
    "start_time": "2025-03-22T12:17:41.928Z"
   },
   {
    "duration": 185,
    "start_time": "2025-03-22T12:21:01.440Z"
   },
   {
    "duration": 6,
    "start_time": "2025-03-22T12:37:41.018Z"
   },
   {
    "duration": 2266,
    "start_time": "2025-03-22T13:29:25.947Z"
   },
   {
    "duration": 1439,
    "start_time": "2025-03-22T13:29:28.216Z"
   },
   {
    "duration": 2,
    "start_time": "2025-03-22T13:29:29.657Z"
   },
   {
    "duration": 829,
    "start_time": "2025-03-22T13:29:29.661Z"
   },
   {
    "duration": 29,
    "start_time": "2025-03-22T13:29:30.492Z"
   },
   {
    "duration": 140,
    "start_time": "2025-03-22T13:29:30.523Z"
   },
   {
    "duration": 57,
    "start_time": "2025-03-22T13:29:30.664Z"
   },
   {
    "duration": 33,
    "start_time": "2025-03-22T13:29:30.723Z"
   },
   {
    "duration": 39,
    "start_time": "2025-03-22T13:29:30.757Z"
   },
   {
    "duration": 111,
    "start_time": "2025-03-22T13:29:30.797Z"
   },
   {
    "duration": 22,
    "start_time": "2025-03-22T13:29:30.909Z"
   },
   {
    "duration": 96,
    "start_time": "2025-03-22T13:29:30.932Z"
   },
   {
    "duration": 97,
    "start_time": "2025-03-22T13:29:31.030Z"
   },
   {
    "duration": 89,
    "start_time": "2025-03-22T13:29:31.130Z"
   },
   {
    "duration": 12,
    "start_time": "2025-03-22T13:29:31.221Z"
   },
   {
    "duration": 88,
    "start_time": "2025-03-22T13:29:31.234Z"
   },
   {
    "duration": 11,
    "start_time": "2025-03-22T13:29:31.324Z"
   },
   {
    "duration": 84,
    "start_time": "2025-03-22T13:29:31.336Z"
   },
   {
    "duration": 3,
    "start_time": "2025-03-22T13:29:31.421Z"
   },
   {
    "duration": 4,
    "start_time": "2025-03-22T13:29:31.425Z"
   },
   {
    "duration": 3,
    "start_time": "2025-03-22T13:29:31.430Z"
   },
   {
    "duration": 10,
    "start_time": "2025-03-22T13:29:31.434Z"
   },
   {
    "duration": 30,
    "start_time": "2025-03-22T13:29:31.445Z"
   },
   {
    "duration": 233674,
    "start_time": "2025-03-22T13:29:31.477Z"
   },
   {
    "duration": 175,
    "start_time": "2025-03-22T13:33:25.153Z"
   },
   {
    "duration": 4,
    "start_time": "2025-03-22T13:33:25.330Z"
   },
   {
    "duration": 6,
    "start_time": "2025-03-22T13:33:25.336Z"
   },
   {
    "duration": 22651,
    "start_time": "2025-03-22T13:33:25.343Z"
   },
   {
    "duration": 148,
    "start_time": "2025-03-22T13:33:47.996Z"
   },
   {
    "duration": 6,
    "start_time": "2025-03-22T13:33:48.145Z"
   },
   {
    "duration": 3,
    "start_time": "2025-03-22T13:33:48.152Z"
   },
   {
    "duration": 120160,
    "start_time": "2025-03-22T13:33:48.157Z"
   },
   {
    "duration": 697,
    "start_time": "2025-03-22T13:35:48.319Z"
   },
   {
    "duration": 4,
    "start_time": "2025-03-22T13:35:49.018Z"
   },
   {
    "duration": 969,
    "start_time": "2025-03-22T13:35:49.023Z"
   },
   {
    "duration": 328,
    "start_time": "2025-03-22T13:35:49.993Z"
   },
   {
    "duration": 5,
    "start_time": "2025-03-22T13:35:50.323Z"
   },
   {
    "duration": 2493,
    "start_time": "2025-03-22T14:18:38.134Z"
   },
   {
    "duration": 1477,
    "start_time": "2025-03-22T14:18:40.630Z"
   },
   {
    "duration": 2,
    "start_time": "2025-03-22T14:18:42.109Z"
   },
   {
    "duration": 863,
    "start_time": "2025-03-22T14:18:42.114Z"
   },
   {
    "duration": 33,
    "start_time": "2025-03-22T14:18:42.978Z"
   },
   {
    "duration": 143,
    "start_time": "2025-03-22T14:18:43.013Z"
   },
   {
    "duration": 66,
    "start_time": "2025-03-22T14:18:43.158Z"
   },
   {
    "duration": 37,
    "start_time": "2025-03-22T14:18:43.226Z"
   },
   {
    "duration": 48,
    "start_time": "2025-03-22T14:18:43.265Z"
   },
   {
    "duration": 98,
    "start_time": "2025-03-22T14:18:43.316Z"
   },
   {
    "duration": 19,
    "start_time": "2025-03-22T14:18:43.416Z"
   },
   {
    "duration": 102,
    "start_time": "2025-03-22T14:18:43.437Z"
   },
   {
    "duration": 100,
    "start_time": "2025-03-22T14:18:43.541Z"
   },
   {
    "duration": 93,
    "start_time": "2025-03-22T14:18:43.642Z"
   },
   {
    "duration": 15,
    "start_time": "2025-03-22T14:18:43.736Z"
   },
   {
    "duration": 95,
    "start_time": "2025-03-22T14:18:43.752Z"
   },
   {
    "duration": 11,
    "start_time": "2025-03-22T14:18:43.849Z"
   },
   {
    "duration": 81,
    "start_time": "2025-03-22T14:18:43.861Z"
   },
   {
    "duration": 5,
    "start_time": "2025-03-22T14:18:43.943Z"
   },
   {
    "duration": 36,
    "start_time": "2025-03-22T14:18:43.949Z"
   },
   {
    "duration": 5,
    "start_time": "2025-03-22T14:18:43.986Z"
   },
   {
    "duration": 9,
    "start_time": "2025-03-22T14:18:43.992Z"
   },
   {
    "duration": 5,
    "start_time": "2025-03-22T14:18:44.003Z"
   },
   {
    "duration": 239853,
    "start_time": "2025-03-22T14:18:44.009Z"
   },
   {
    "duration": 169,
    "start_time": "2025-03-22T14:22:43.863Z"
   },
   {
    "duration": 4,
    "start_time": "2025-03-22T14:22:44.034Z"
   },
   {
    "duration": 6,
    "start_time": "2025-03-22T14:22:44.039Z"
   },
   {
    "duration": 22059,
    "start_time": "2025-03-22T14:22:44.048Z"
   },
   {
    "duration": 145,
    "start_time": "2025-03-22T14:23:06.108Z"
   },
   {
    "duration": 5,
    "start_time": "2025-03-22T14:23:06.255Z"
   },
   {
    "duration": 43,
    "start_time": "2025-03-22T14:23:06.261Z"
   },
   {
    "duration": 200521,
    "start_time": "2025-03-22T14:23:06.306Z"
   },
   {
    "duration": 697,
    "start_time": "2025-03-22T14:26:26.828Z"
   },
   {
    "duration": 83,
    "start_time": "2025-03-22T14:26:27.527Z"
   },
   {
    "duration": 951,
    "start_time": "2025-03-22T14:26:27.612Z"
   },
   {
    "duration": 268,
    "start_time": "2025-03-22T14:26:28.565Z"
   },
   {
    "duration": 6,
    "start_time": "2025-03-22T14:26:28.835Z"
   },
   {
    "duration": 49,
    "start_time": "2025-03-22T19:06:45.191Z"
   },
   {
    "duration": 3662,
    "start_time": "2025-03-22T19:06:58.163Z"
   },
   {
    "duration": 1710,
    "start_time": "2025-03-22T19:07:01.827Z"
   },
   {
    "duration": 4,
    "start_time": "2025-03-22T19:07:03.539Z"
   },
   {
    "duration": 986,
    "start_time": "2025-03-22T19:07:03.545Z"
   },
   {
    "duration": 28,
    "start_time": "2025-03-22T19:07:04.532Z"
   },
   {
    "duration": 201,
    "start_time": "2025-03-22T19:07:04.561Z"
   },
   {
    "duration": 53,
    "start_time": "2025-03-22T19:07:04.764Z"
   },
   {
    "duration": 45,
    "start_time": "2025-03-22T19:07:04.819Z"
   },
   {
    "duration": 77,
    "start_time": "2025-03-22T19:07:04.866Z"
   },
   {
    "duration": 108,
    "start_time": "2025-03-22T19:07:04.945Z"
   },
   {
    "duration": 21,
    "start_time": "2025-03-22T19:07:05.055Z"
   },
   {
    "duration": 126,
    "start_time": "2025-03-22T19:07:05.078Z"
   },
   {
    "duration": 212,
    "start_time": "2025-03-22T19:07:05.206Z"
   },
   {
    "duration": 137,
    "start_time": "2025-03-22T19:07:05.420Z"
   },
   {
    "duration": 15,
    "start_time": "2025-03-22T19:07:05.559Z"
   },
   {
    "duration": 94,
    "start_time": "2025-03-22T19:07:05.576Z"
   },
   {
    "duration": 10,
    "start_time": "2025-03-22T19:07:05.672Z"
   },
   {
    "duration": 126,
    "start_time": "2025-03-22T19:07:05.683Z"
   },
   {
    "duration": 2,
    "start_time": "2025-03-22T19:07:05.811Z"
   },
   {
    "duration": 15,
    "start_time": "2025-03-22T19:07:05.815Z"
   },
   {
    "duration": 21,
    "start_time": "2025-03-22T19:07:05.832Z"
   },
   {
    "duration": 15,
    "start_time": "2025-03-22T19:07:05.854Z"
   },
   {
    "duration": 61,
    "start_time": "2025-03-22T19:07:05.871Z"
   },
   {
    "duration": 251046,
    "start_time": "2025-03-22T19:07:05.933Z"
   },
   {
    "duration": 4,
    "start_time": "2025-03-22T19:11:16.981Z"
   },
   {
    "duration": 202,
    "start_time": "2025-03-22T19:11:16.987Z"
   },
   {
    "duration": 5,
    "start_time": "2025-03-22T19:11:17.190Z"
   },
   {
    "duration": 2,
    "start_time": "2025-03-22T19:11:17.199Z"
   },
   {
    "duration": 23297,
    "start_time": "2025-03-22T19:11:17.203Z"
   },
   {
    "duration": 156,
    "start_time": "2025-03-22T19:11:40.501Z"
   },
   {
    "duration": 4,
    "start_time": "2025-03-22T19:11:40.663Z"
   },
   {
    "duration": 17,
    "start_time": "2025-03-22T19:11:40.668Z"
   },
   {
    "duration": 131887,
    "start_time": "2025-03-22T19:11:40.687Z"
   },
   {
    "duration": 704,
    "start_time": "2025-03-22T19:13:52.576Z"
   },
   {
    "duration": 83,
    "start_time": "2025-03-22T19:13:53.281Z"
   },
   {
    "duration": 970,
    "start_time": "2025-03-22T19:13:53.366Z"
   },
   {
    "duration": 335,
    "start_time": "2025-03-22T19:13:54.337Z"
   },
   {
    "duration": 5,
    "start_time": "2025-03-22T19:13:54.674Z"
   },
   {
    "duration": 44,
    "start_time": "2025-03-22T19:13:54.681Z"
   },
   {
    "duration": 4,
    "start_time": "2025-03-22T19:13:56.359Z"
   },
   {
    "duration": 2362,
    "start_time": "2025-03-22T19:20:17.569Z"
   },
   {
    "duration": 1492,
    "start_time": "2025-03-22T19:20:19.934Z"
   },
   {
    "duration": 2,
    "start_time": "2025-03-22T19:20:21.428Z"
   },
   {
    "duration": 936,
    "start_time": "2025-03-22T19:20:21.433Z"
   },
   {
    "duration": 24,
    "start_time": "2025-03-22T19:20:22.371Z"
   },
   {
    "duration": 155,
    "start_time": "2025-03-22T19:20:22.397Z"
   },
   {
    "duration": 121,
    "start_time": "2025-03-22T19:20:22.553Z"
   },
   {
    "duration": 39,
    "start_time": "2025-03-22T19:20:22.676Z"
   },
   {
    "duration": 46,
    "start_time": "2025-03-22T19:20:22.716Z"
   },
   {
    "duration": 88,
    "start_time": "2025-03-22T19:20:22.765Z"
   },
   {
    "duration": 24,
    "start_time": "2025-03-22T19:20:22.854Z"
   },
   {
    "duration": 110,
    "start_time": "2025-03-22T19:20:22.879Z"
   },
   {
    "duration": 99,
    "start_time": "2025-03-22T19:20:22.991Z"
   },
   {
    "duration": 113,
    "start_time": "2025-03-22T19:20:23.092Z"
   },
   {
    "duration": 14,
    "start_time": "2025-03-22T19:20:23.207Z"
   },
   {
    "duration": 74,
    "start_time": "2025-03-22T19:20:23.222Z"
   },
   {
    "duration": 10,
    "start_time": "2025-03-22T19:20:23.298Z"
   },
   {
    "duration": 34,
    "start_time": "2025-03-22T19:20:23.310Z"
   },
   {
    "duration": 3,
    "start_time": "2025-03-22T19:20:23.345Z"
   },
   {
    "duration": 14,
    "start_time": "2025-03-22T19:20:23.349Z"
   },
   {
    "duration": 8,
    "start_time": "2025-03-22T19:20:23.365Z"
   },
   {
    "duration": 119,
    "start_time": "2025-03-22T19:20:23.375Z"
   },
   {
    "duration": 35,
    "start_time": "2025-03-22T19:20:23.495Z"
   },
   {
    "duration": 67408,
    "start_time": "2025-03-22T19:20:23.532Z"
   },
   {
    "duration": 4,
    "start_time": "2025-03-22T19:21:30.941Z"
   },
   {
    "duration": 114,
    "start_time": "2025-03-22T19:21:30.947Z"
   },
   {
    "duration": 4,
    "start_time": "2025-03-22T19:21:31.063Z"
   },
   {
    "duration": 52,
    "start_time": "2025-03-22T19:21:31.070Z"
   },
   {
    "duration": 9538,
    "start_time": "2025-03-22T19:21:31.124Z"
   },
   {
    "duration": 4,
    "start_time": "2025-03-22T19:21:40.664Z"
   },
   {
    "duration": 80,
    "start_time": "2025-03-22T19:21:40.669Z"
   },
   {
    "duration": 11,
    "start_time": "2025-03-22T19:21:40.751Z"
   },
   {
    "duration": 16,
    "start_time": "2025-03-22T19:21:40.763Z"
   },
   {
    "duration": 63184,
    "start_time": "2025-03-22T19:21:40.780Z"
   },
   {
    "duration": 4,
    "start_time": "2025-03-22T19:22:43.966Z"
   },
   {
    "duration": 300,
    "start_time": "2025-03-22T19:22:43.971Z"
   },
   {
    "duration": 6,
    "start_time": "2025-03-22T19:22:44.272Z"
   },
   {
    "duration": 831,
    "start_time": "2025-03-22T19:22:44.279Z"
   },
   {
    "duration": 353,
    "start_time": "2025-03-22T19:22:45.112Z"
   },
   {
    "duration": 6,
    "start_time": "2025-03-22T19:22:45.467Z"
   },
   {
    "duration": 4,
    "start_time": "2025-03-22T19:23:41.760Z"
   },
   {
    "duration": 34,
    "start_time": "2025-03-22T19:23:54.746Z"
   },
   {
    "duration": 4,
    "start_time": "2025-03-22T19:24:09.863Z"
   },
   {
    "duration": 6,
    "start_time": "2025-03-22T19:25:14.405Z"
   },
   {
    "duration": 2321,
    "start_time": "2025-03-22T19:27:21.718Z"
   },
   {
    "duration": 1486,
    "start_time": "2025-03-22T19:27:24.042Z"
   },
   {
    "duration": 3,
    "start_time": "2025-03-22T19:27:25.529Z"
   },
   {
    "duration": 879,
    "start_time": "2025-03-22T19:27:25.534Z"
   },
   {
    "duration": 24,
    "start_time": "2025-03-22T19:27:26.415Z"
   },
   {
    "duration": 151,
    "start_time": "2025-03-22T19:27:26.441Z"
   },
   {
    "duration": 72,
    "start_time": "2025-03-22T19:27:26.593Z"
   },
   {
    "duration": 39,
    "start_time": "2025-03-22T19:27:26.667Z"
   },
   {
    "duration": 40,
    "start_time": "2025-03-22T19:27:26.708Z"
   },
   {
    "duration": 95,
    "start_time": "2025-03-22T19:27:26.749Z"
   },
   {
    "duration": 42,
    "start_time": "2025-03-22T19:27:26.845Z"
   },
   {
    "duration": 138,
    "start_time": "2025-03-22T19:27:26.888Z"
   },
   {
    "duration": 176,
    "start_time": "2025-03-22T19:27:27.027Z"
   },
   {
    "duration": 140,
    "start_time": "2025-03-22T19:27:27.207Z"
   },
   {
    "duration": 25,
    "start_time": "2025-03-22T19:27:27.349Z"
   },
   {
    "duration": 62,
    "start_time": "2025-03-22T19:27:27.376Z"
   },
   {
    "duration": 171,
    "start_time": "2025-03-22T19:27:27.440Z"
   },
   {
    "duration": 0,
    "start_time": "2025-03-22T19:27:27.612Z"
   },
   {
    "duration": 0,
    "start_time": "2025-03-22T19:27:27.613Z"
   },
   {
    "duration": 0,
    "start_time": "2025-03-22T19:27:27.615Z"
   },
   {
    "duration": 0,
    "start_time": "2025-03-22T19:27:27.615Z"
   },
   {
    "duration": 0,
    "start_time": "2025-03-22T19:27:27.616Z"
   },
   {
    "duration": 0,
    "start_time": "2025-03-22T19:27:27.617Z"
   },
   {
    "duration": 0,
    "start_time": "2025-03-22T19:27:27.618Z"
   },
   {
    "duration": 0,
    "start_time": "2025-03-22T19:27:27.619Z"
   },
   {
    "duration": 0,
    "start_time": "2025-03-22T19:27:27.619Z"
   },
   {
    "duration": 0,
    "start_time": "2025-03-22T19:27:27.620Z"
   },
   {
    "duration": 0,
    "start_time": "2025-03-22T19:27:27.621Z"
   },
   {
    "duration": 0,
    "start_time": "2025-03-22T19:27:27.623Z"
   },
   {
    "duration": 0,
    "start_time": "2025-03-22T19:27:27.624Z"
   },
   {
    "duration": 0,
    "start_time": "2025-03-22T19:27:27.625Z"
   },
   {
    "duration": 0,
    "start_time": "2025-03-22T19:27:27.626Z"
   },
   {
    "duration": 0,
    "start_time": "2025-03-22T19:27:27.627Z"
   },
   {
    "duration": 0,
    "start_time": "2025-03-22T19:27:27.628Z"
   },
   {
    "duration": 0,
    "start_time": "2025-03-22T19:27:27.628Z"
   },
   {
    "duration": 0,
    "start_time": "2025-03-22T19:27:27.629Z"
   },
   {
    "duration": 0,
    "start_time": "2025-03-22T19:27:27.631Z"
   },
   {
    "duration": 0,
    "start_time": "2025-03-22T19:27:27.663Z"
   },
   {
    "duration": 0,
    "start_time": "2025-03-22T19:27:27.663Z"
   },
   {
    "duration": 0,
    "start_time": "2025-03-22T19:27:27.664Z"
   },
   {
    "duration": 0,
    "start_time": "2025-03-22T19:27:27.665Z"
   },
   {
    "duration": 8,
    "start_time": "2025-03-22T19:27:42.482Z"
   },
   {
    "duration": 2346,
    "start_time": "2025-03-22T19:27:47.643Z"
   },
   {
    "duration": 1459,
    "start_time": "2025-03-22T19:27:49.992Z"
   },
   {
    "duration": 3,
    "start_time": "2025-03-22T19:27:51.453Z"
   },
   {
    "duration": 930,
    "start_time": "2025-03-22T19:27:51.462Z"
   },
   {
    "duration": 28,
    "start_time": "2025-03-22T19:27:52.395Z"
   },
   {
    "duration": 166,
    "start_time": "2025-03-22T19:27:52.425Z"
   },
   {
    "duration": 54,
    "start_time": "2025-03-22T19:27:52.593Z"
   },
   {
    "duration": 46,
    "start_time": "2025-03-22T19:27:52.661Z"
   },
   {
    "duration": 42,
    "start_time": "2025-03-22T19:27:52.709Z"
   },
   {
    "duration": 90,
    "start_time": "2025-03-22T19:27:52.753Z"
   },
   {
    "duration": 29,
    "start_time": "2025-03-22T19:27:52.845Z"
   },
   {
    "duration": 100,
    "start_time": "2025-03-22T19:27:52.876Z"
   },
   {
    "duration": 104,
    "start_time": "2025-03-22T19:27:52.978Z"
   },
   {
    "duration": 115,
    "start_time": "2025-03-22T19:27:53.086Z"
   },
   {
    "duration": 15,
    "start_time": "2025-03-22T19:27:53.203Z"
   },
   {
    "duration": 84,
    "start_time": "2025-03-22T19:27:53.220Z"
   },
   {
    "duration": 10,
    "start_time": "2025-03-22T19:27:53.305Z"
   },
   {
    "duration": 11,
    "start_time": "2025-03-22T19:27:53.317Z"
   },
   {
    "duration": 47,
    "start_time": "2025-03-22T19:27:53.329Z"
   },
   {
    "duration": 4,
    "start_time": "2025-03-22T19:27:53.378Z"
   },
   {
    "duration": 11,
    "start_time": "2025-03-22T19:27:53.383Z"
   },
   {
    "duration": 20,
    "start_time": "2025-03-22T19:27:53.395Z"
   },
   {
    "duration": 21,
    "start_time": "2025-03-22T19:27:53.416Z"
   },
   {
    "duration": 85,
    "start_time": "2025-03-22T19:27:53.439Z"
   },
   {
    "duration": 5756,
    "start_time": "2025-03-22T19:27:53.526Z"
   },
   {
    "duration": 4,
    "start_time": "2025-03-22T19:27:59.283Z"
   },
   {
    "duration": 102,
    "start_time": "2025-03-22T19:27:59.288Z"
   },
   {
    "duration": 9,
    "start_time": "2025-03-22T19:27:59.391Z"
   },
   {
    "duration": 0,
    "start_time": "2025-03-22T19:27:59.402Z"
   },
   {
    "duration": 0,
    "start_time": "2025-03-22T19:27:59.403Z"
   },
   {
    "duration": 0,
    "start_time": "2025-03-22T19:27:59.404Z"
   },
   {
    "duration": 0,
    "start_time": "2025-03-22T19:27:59.405Z"
   },
   {
    "duration": 0,
    "start_time": "2025-03-22T19:27:59.406Z"
   },
   {
    "duration": 0,
    "start_time": "2025-03-22T19:27:59.407Z"
   },
   {
    "duration": 0,
    "start_time": "2025-03-22T19:27:59.408Z"
   },
   {
    "duration": 0,
    "start_time": "2025-03-22T19:27:59.409Z"
   },
   {
    "duration": 0,
    "start_time": "2025-03-22T19:27:59.410Z"
   },
   {
    "duration": 0,
    "start_time": "2025-03-22T19:27:59.412Z"
   },
   {
    "duration": 0,
    "start_time": "2025-03-22T19:27:59.412Z"
   },
   {
    "duration": 0,
    "start_time": "2025-03-22T19:27:59.414Z"
   },
   {
    "duration": 0,
    "start_time": "2025-03-22T19:27:59.415Z"
   },
   {
    "duration": 2356,
    "start_time": "2025-03-22T19:29:24.227Z"
   },
   {
    "duration": 1452,
    "start_time": "2025-03-22T19:29:26.585Z"
   },
   {
    "duration": 3,
    "start_time": "2025-03-22T19:29:28.039Z"
   },
   {
    "duration": 837,
    "start_time": "2025-03-22T19:29:28.044Z"
   },
   {
    "duration": 25,
    "start_time": "2025-03-22T19:29:28.883Z"
   },
   {
    "duration": 153,
    "start_time": "2025-03-22T19:29:28.909Z"
   },
   {
    "duration": 61,
    "start_time": "2025-03-22T19:29:29.063Z"
   },
   {
    "duration": 43,
    "start_time": "2025-03-22T19:29:29.126Z"
   },
   {
    "duration": 43,
    "start_time": "2025-03-22T19:29:29.171Z"
   },
   {
    "duration": 87,
    "start_time": "2025-03-22T19:29:29.217Z"
   },
   {
    "duration": 20,
    "start_time": "2025-03-22T19:29:29.306Z"
   },
   {
    "duration": 114,
    "start_time": "2025-03-22T19:29:29.328Z"
   },
   {
    "duration": 185,
    "start_time": "2025-03-22T19:29:29.443Z"
   },
   {
    "duration": 121,
    "start_time": "2025-03-22T19:29:29.629Z"
   },
   {
    "duration": 23,
    "start_time": "2025-03-22T19:29:29.752Z"
   },
   {
    "duration": 63,
    "start_time": "2025-03-22T19:29:29.776Z"
   },
   {
    "duration": 24,
    "start_time": "2025-03-22T19:29:29.841Z"
   },
   {
    "duration": 10,
    "start_time": "2025-03-22T19:29:29.867Z"
   },
   {
    "duration": 32,
    "start_time": "2025-03-22T19:29:29.879Z"
   },
   {
    "duration": 3,
    "start_time": "2025-03-22T19:29:29.912Z"
   },
   {
    "duration": 13,
    "start_time": "2025-03-22T19:29:29.916Z"
   },
   {
    "duration": 16,
    "start_time": "2025-03-22T19:29:29.931Z"
   },
   {
    "duration": 31,
    "start_time": "2025-03-22T19:29:29.948Z"
   },
   {
    "duration": 18,
    "start_time": "2025-03-22T19:29:29.980Z"
   },
   {
    "duration": 2368,
    "start_time": "2025-03-22T19:30:09.527Z"
   },
   {
    "duration": 1454,
    "start_time": "2025-03-22T19:30:11.897Z"
   },
   {
    "duration": 10,
    "start_time": "2025-03-22T19:30:13.352Z"
   },
   {
    "duration": 844,
    "start_time": "2025-03-22T19:30:13.364Z"
   },
   {
    "duration": 25,
    "start_time": "2025-03-22T19:30:14.209Z"
   },
   {
    "duration": 196,
    "start_time": "2025-03-22T19:30:14.235Z"
   },
   {
    "duration": 62,
    "start_time": "2025-03-22T19:30:14.433Z"
   },
   {
    "duration": 39,
    "start_time": "2025-03-22T19:30:14.496Z"
   },
   {
    "duration": 152,
    "start_time": "2025-03-22T19:30:14.536Z"
   },
   {
    "duration": 87,
    "start_time": "2025-03-22T19:30:14.691Z"
   },
   {
    "duration": 19,
    "start_time": "2025-03-22T19:30:14.780Z"
   },
   {
    "duration": 108,
    "start_time": "2025-03-22T19:30:14.801Z"
   },
   {
    "duration": 101,
    "start_time": "2025-03-22T19:30:14.910Z"
   },
   {
    "duration": 118,
    "start_time": "2025-03-22T19:30:15.014Z"
   },
   {
    "duration": 13,
    "start_time": "2025-03-22T19:30:15.134Z"
   },
   {
    "duration": 81,
    "start_time": "2025-03-22T19:30:15.149Z"
   },
   {
    "duration": 11,
    "start_time": "2025-03-22T19:30:15.232Z"
   },
   {
    "duration": 17,
    "start_time": "2025-03-22T19:30:15.245Z"
   },
   {
    "duration": 10,
    "start_time": "2025-03-22T19:30:15.264Z"
   },
   {
    "duration": 52,
    "start_time": "2025-03-22T19:30:15.275Z"
   },
   {
    "duration": 4,
    "start_time": "2025-03-22T19:30:15.328Z"
   },
   {
    "duration": 40,
    "start_time": "2025-03-22T19:30:15.334Z"
   },
   {
    "duration": 19,
    "start_time": "2025-03-22T19:30:15.375Z"
   },
   {
    "duration": 31,
    "start_time": "2025-03-22T19:30:15.396Z"
   },
   {
    "duration": 12,
    "start_time": "2025-03-22T19:30:15.429Z"
   },
   {
    "duration": 2343,
    "start_time": "2025-03-22T19:31:11.627Z"
   },
   {
    "duration": 1480,
    "start_time": "2025-03-22T19:31:13.973Z"
   },
   {
    "duration": 3,
    "start_time": "2025-03-22T19:31:15.455Z"
   },
   {
    "duration": 895,
    "start_time": "2025-03-22T19:31:15.463Z"
   },
   {
    "duration": 29,
    "start_time": "2025-03-22T19:31:16.362Z"
   },
   {
    "duration": 146,
    "start_time": "2025-03-22T19:31:16.392Z"
   },
   {
    "duration": 144,
    "start_time": "2025-03-22T19:31:16.539Z"
   },
   {
    "duration": 66,
    "start_time": "2025-03-22T19:31:16.685Z"
   },
   {
    "duration": 36,
    "start_time": "2025-03-22T19:31:16.752Z"
   },
   {
    "duration": 90,
    "start_time": "2025-03-22T19:31:16.791Z"
   },
   {
    "duration": 21,
    "start_time": "2025-03-22T19:31:16.882Z"
   },
   {
    "duration": 107,
    "start_time": "2025-03-22T19:31:16.904Z"
   },
   {
    "duration": 104,
    "start_time": "2025-03-22T19:31:17.013Z"
   },
   {
    "duration": 112,
    "start_time": "2025-03-22T19:31:17.119Z"
   },
   {
    "duration": 15,
    "start_time": "2025-03-22T19:31:17.232Z"
   },
   {
    "duration": 61,
    "start_time": "2025-03-22T19:31:17.262Z"
   },
   {
    "duration": 9,
    "start_time": "2025-03-22T19:31:17.325Z"
   },
   {
    "duration": 11,
    "start_time": "2025-03-22T19:31:17.335Z"
   },
   {
    "duration": 10,
    "start_time": "2025-03-22T19:31:17.362Z"
   },
   {
    "duration": 33,
    "start_time": "2025-03-22T19:31:17.373Z"
   },
   {
    "duration": 3,
    "start_time": "2025-03-22T19:31:17.407Z"
   },
   {
    "duration": 21,
    "start_time": "2025-03-22T19:31:17.412Z"
   },
   {
    "duration": 9,
    "start_time": "2025-03-22T19:31:17.435Z"
   },
   {
    "duration": 83,
    "start_time": "2025-03-22T19:31:17.445Z"
   },
   {
    "duration": 39,
    "start_time": "2025-03-22T19:31:17.530Z"
   },
   {
    "duration": 62112,
    "start_time": "2025-03-22T19:31:17.570Z"
   },
   {
    "duration": 4,
    "start_time": "2025-03-22T19:32:19.683Z"
   },
   {
    "duration": 92,
    "start_time": "2025-03-22T19:32:19.690Z"
   },
   {
    "duration": 5,
    "start_time": "2025-03-22T19:32:19.783Z"
   },
   {
    "duration": 6,
    "start_time": "2025-03-22T19:32:19.789Z"
   },
   {
    "duration": 8822,
    "start_time": "2025-03-22T19:32:19.796Z"
   },
   {
    "duration": 4,
    "start_time": "2025-03-22T19:32:28.619Z"
   },
   {
    "duration": 92,
    "start_time": "2025-03-22T19:32:28.624Z"
   },
   {
    "duration": 5,
    "start_time": "2025-03-22T19:32:28.718Z"
   },
   {
    "duration": 3,
    "start_time": "2025-03-22T19:32:28.724Z"
   },
   {
    "duration": 60337,
    "start_time": "2025-03-22T19:32:28.729Z"
   },
   {
    "duration": 7,
    "start_time": "2025-03-22T19:33:29.068Z"
   },
   {
    "duration": 294,
    "start_time": "2025-03-22T19:33:29.077Z"
   },
   {
    "duration": 5,
    "start_time": "2025-03-22T19:33:29.373Z"
   },
   {
    "duration": 833,
    "start_time": "2025-03-22T19:33:29.380Z"
   },
   {
    "duration": 281,
    "start_time": "2025-03-22T19:33:30.215Z"
   },
   {
    "duration": 5,
    "start_time": "2025-03-22T19:33:30.498Z"
   },
   {
    "duration": 4,
    "start_time": "2025-03-22T19:34:05.380Z"
   },
   {
    "duration": 8,
    "start_time": "2025-03-22T19:34:10.155Z"
   },
   {
    "duration": 39,
    "start_time": "2025-03-22T19:34:25.748Z"
   },
   {
    "duration": 4,
    "start_time": "2025-03-22T19:34:29.886Z"
   },
   {
    "duration": 2413,
    "start_time": "2025-03-22T19:38:29.307Z"
   },
   {
    "duration": 1415,
    "start_time": "2025-03-22T19:38:31.724Z"
   },
   {
    "duration": 3,
    "start_time": "2025-03-22T19:38:33.143Z"
   },
   {
    "duration": 881,
    "start_time": "2025-03-22T19:38:33.148Z"
   },
   {
    "duration": 32,
    "start_time": "2025-03-22T19:38:34.031Z"
   },
   {
    "duration": 143,
    "start_time": "2025-03-22T19:38:34.064Z"
   },
   {
    "duration": 126,
    "start_time": "2025-03-22T19:38:34.208Z"
   },
   {
    "duration": 39,
    "start_time": "2025-03-22T19:38:34.336Z"
   },
   {
    "duration": 73,
    "start_time": "2025-03-22T19:38:34.377Z"
   },
   {
    "duration": 89,
    "start_time": "2025-03-22T19:38:34.451Z"
   },
   {
    "duration": 28,
    "start_time": "2025-03-22T19:38:34.542Z"
   },
   {
    "duration": 266,
    "start_time": "2025-03-22T19:38:34.571Z"
   },
   {
    "duration": 104,
    "start_time": "2025-03-22T19:38:34.840Z"
   },
   {
    "duration": 117,
    "start_time": "2025-03-22T19:38:34.946Z"
   },
   {
    "duration": 14,
    "start_time": "2025-03-22T19:38:35.065Z"
   },
   {
    "duration": 87,
    "start_time": "2025-03-22T19:38:35.080Z"
   },
   {
    "duration": 17,
    "start_time": "2025-03-22T19:38:35.169Z"
   },
   {
    "duration": 38,
    "start_time": "2025-03-22T19:38:35.187Z"
   },
   {
    "duration": 42,
    "start_time": "2025-03-22T19:38:35.227Z"
   },
   {
    "duration": 17,
    "start_time": "2025-03-22T19:38:35.271Z"
   },
   {
    "duration": 14,
    "start_time": "2025-03-22T19:38:35.290Z"
   },
   {
    "duration": 17,
    "start_time": "2025-03-22T19:38:35.306Z"
   },
   {
    "duration": 118,
    "start_time": "2025-03-22T19:38:35.324Z"
   },
   {
    "duration": 0,
    "start_time": "2025-03-22T19:38:35.444Z"
   },
   {
    "duration": 0,
    "start_time": "2025-03-22T19:38:35.446Z"
   },
   {
    "duration": 0,
    "start_time": "2025-03-22T19:38:35.447Z"
   },
   {
    "duration": 0,
    "start_time": "2025-03-22T19:38:35.448Z"
   },
   {
    "duration": 0,
    "start_time": "2025-03-22T19:38:35.449Z"
   },
   {
    "duration": 0,
    "start_time": "2025-03-22T19:38:35.450Z"
   },
   {
    "duration": 0,
    "start_time": "2025-03-22T19:38:35.451Z"
   },
   {
    "duration": 0,
    "start_time": "2025-03-22T19:38:35.452Z"
   },
   {
    "duration": 0,
    "start_time": "2025-03-22T19:38:35.462Z"
   },
   {
    "duration": 0,
    "start_time": "2025-03-22T19:38:35.463Z"
   },
   {
    "duration": 0,
    "start_time": "2025-03-22T19:38:35.464Z"
   },
   {
    "duration": 0,
    "start_time": "2025-03-22T19:38:35.465Z"
   },
   {
    "duration": 0,
    "start_time": "2025-03-22T19:38:35.466Z"
   },
   {
    "duration": 0,
    "start_time": "2025-03-22T19:38:35.467Z"
   },
   {
    "duration": 0,
    "start_time": "2025-03-22T19:38:35.468Z"
   },
   {
    "duration": 0,
    "start_time": "2025-03-22T19:38:35.468Z"
   },
   {
    "duration": 0,
    "start_time": "2025-03-22T19:38:35.470Z"
   },
   {
    "duration": 0,
    "start_time": "2025-03-22T19:38:35.471Z"
   },
   {
    "duration": 0,
    "start_time": "2025-03-22T19:38:35.472Z"
   },
   {
    "duration": 2353,
    "start_time": "2025-03-22T19:39:11.476Z"
   },
   {
    "duration": 1488,
    "start_time": "2025-03-22T19:39:13.832Z"
   },
   {
    "duration": 3,
    "start_time": "2025-03-22T19:39:15.322Z"
   },
   {
    "duration": 892,
    "start_time": "2025-03-22T19:39:15.327Z"
   },
   {
    "duration": 25,
    "start_time": "2025-03-22T19:39:16.221Z"
   },
   {
    "duration": 165,
    "start_time": "2025-03-22T19:39:16.248Z"
   },
   {
    "duration": 69,
    "start_time": "2025-03-22T19:39:16.414Z"
   },
   {
    "duration": 40,
    "start_time": "2025-03-22T19:39:16.485Z"
   },
   {
    "duration": 52,
    "start_time": "2025-03-22T19:39:16.526Z"
   },
   {
    "duration": 132,
    "start_time": "2025-03-22T19:39:16.581Z"
   },
   {
    "duration": 36,
    "start_time": "2025-03-22T19:39:16.714Z"
   },
   {
    "duration": 92,
    "start_time": "2025-03-22T19:39:16.752Z"
   },
   {
    "duration": 101,
    "start_time": "2025-03-22T19:39:16.846Z"
   },
   {
    "duration": 116,
    "start_time": "2025-03-22T19:39:16.948Z"
   },
   {
    "duration": 14,
    "start_time": "2025-03-22T19:39:17.066Z"
   },
   {
    "duration": 76,
    "start_time": "2025-03-22T19:39:17.081Z"
   },
   {
    "duration": 20,
    "start_time": "2025-03-22T19:39:17.158Z"
   },
   {
    "duration": 4,
    "start_time": "2025-03-22T19:39:17.179Z"
   },
   {
    "duration": 34,
    "start_time": "2025-03-22T19:39:17.185Z"
   },
   {
    "duration": 9,
    "start_time": "2025-03-22T19:39:17.221Z"
   },
   {
    "duration": 9,
    "start_time": "2025-03-22T19:39:17.232Z"
   },
   {
    "duration": 4,
    "start_time": "2025-03-22T19:39:17.243Z"
   },
   {
    "duration": 4,
    "start_time": "2025-03-22T19:39:17.248Z"
   },
   {
    "duration": 10,
    "start_time": "2025-03-22T19:39:17.253Z"
   },
   {
    "duration": 6,
    "start_time": "2025-03-22T19:39:17.264Z"
   },
   {
    "duration": 230,
    "start_time": "2025-03-22T19:39:17.272Z"
   },
   {
    "duration": 12,
    "start_time": "2025-03-22T19:39:17.505Z"
   },
   {
    "duration": 0,
    "start_time": "2025-03-22T19:39:17.520Z"
   },
   {
    "duration": 0,
    "start_time": "2025-03-22T19:39:17.525Z"
   },
   {
    "duration": 0,
    "start_time": "2025-03-22T19:39:17.527Z"
   },
   {
    "duration": 0,
    "start_time": "2025-03-22T19:39:17.528Z"
   },
   {
    "duration": 0,
    "start_time": "2025-03-22T19:39:17.530Z"
   },
   {
    "duration": 0,
    "start_time": "2025-03-22T19:39:17.531Z"
   },
   {
    "duration": 0,
    "start_time": "2025-03-22T19:39:17.533Z"
   },
   {
    "duration": 0,
    "start_time": "2025-03-22T19:39:17.562Z"
   },
   {
    "duration": 0,
    "start_time": "2025-03-22T19:39:17.563Z"
   },
   {
    "duration": 0,
    "start_time": "2025-03-22T19:39:17.564Z"
   },
   {
    "duration": 0,
    "start_time": "2025-03-22T19:39:17.565Z"
   },
   {
    "duration": 0,
    "start_time": "2025-03-22T19:39:17.566Z"
   },
   {
    "duration": 0,
    "start_time": "2025-03-22T19:39:17.567Z"
   },
   {
    "duration": 0,
    "start_time": "2025-03-22T19:39:17.568Z"
   },
   {
    "duration": 0,
    "start_time": "2025-03-22T19:39:17.569Z"
   },
   {
    "duration": 2430,
    "start_time": "2025-03-22T19:41:36.775Z"
   },
   {
    "duration": 1407,
    "start_time": "2025-03-22T19:41:39.208Z"
   },
   {
    "duration": 3,
    "start_time": "2025-03-22T19:41:40.616Z"
   },
   {
    "duration": 944,
    "start_time": "2025-03-22T19:41:40.621Z"
   },
   {
    "duration": 25,
    "start_time": "2025-03-22T19:41:41.566Z"
   },
   {
    "duration": 152,
    "start_time": "2025-03-22T19:41:41.593Z"
   },
   {
    "duration": 68,
    "start_time": "2025-03-22T19:41:41.747Z"
   },
   {
    "duration": 45,
    "start_time": "2025-03-22T19:41:41.817Z"
   },
   {
    "duration": 36,
    "start_time": "2025-03-22T19:41:41.864Z"
   },
   {
    "duration": 102,
    "start_time": "2025-03-22T19:41:41.902Z"
   },
   {
    "duration": 28,
    "start_time": "2025-03-22T19:41:42.005Z"
   },
   {
    "duration": 117,
    "start_time": "2025-03-22T19:41:42.035Z"
   },
   {
    "duration": 99,
    "start_time": "2025-03-22T19:41:42.154Z"
   },
   {
    "duration": 115,
    "start_time": "2025-03-22T19:41:42.263Z"
   },
   {
    "duration": 14,
    "start_time": "2025-03-22T19:41:42.380Z"
   },
   {
    "duration": 67,
    "start_time": "2025-03-22T19:41:42.396Z"
   },
   {
    "duration": 20,
    "start_time": "2025-03-22T19:41:42.465Z"
   },
   {
    "duration": 5,
    "start_time": "2025-03-22T19:41:42.486Z"
   },
   {
    "duration": 11,
    "start_time": "2025-03-22T19:41:42.492Z"
   },
   {
    "duration": 8,
    "start_time": "2025-03-22T19:41:42.505Z"
   },
   {
    "duration": 6,
    "start_time": "2025-03-22T19:41:42.515Z"
   },
   {
    "duration": 6,
    "start_time": "2025-03-22T19:41:42.522Z"
   },
   {
    "duration": 32,
    "start_time": "2025-03-22T19:41:42.530Z"
   },
   {
    "duration": 16,
    "start_time": "2025-03-22T19:41:42.564Z"
   },
   {
    "duration": 7,
    "start_time": "2025-03-22T19:41:42.582Z"
   },
   {
    "duration": 3664,
    "start_time": "2025-03-22T19:41:42.590Z"
   },
   {
    "duration": 8,
    "start_time": "2025-03-22T19:41:46.255Z"
   },
   {
    "duration": 266,
    "start_time": "2025-03-22T19:41:46.267Z"
   },
   {
    "duration": 10,
    "start_time": "2025-03-22T19:41:46.535Z"
   },
   {
    "duration": 0,
    "start_time": "2025-03-22T19:41:46.547Z"
   },
   {
    "duration": 0,
    "start_time": "2025-03-22T19:41:46.548Z"
   },
   {
    "duration": 0,
    "start_time": "2025-03-22T19:41:46.550Z"
   },
   {
    "duration": 0,
    "start_time": "2025-03-22T19:41:46.551Z"
   },
   {
    "duration": 0,
    "start_time": "2025-03-22T19:41:46.553Z"
   },
   {
    "duration": 1,
    "start_time": "2025-03-22T19:41:46.554Z"
   },
   {
    "duration": 0,
    "start_time": "2025-03-22T19:41:46.556Z"
   },
   {
    "duration": 0,
    "start_time": "2025-03-22T19:41:46.557Z"
   },
   {
    "duration": 0,
    "start_time": "2025-03-22T19:41:46.559Z"
   },
   {
    "duration": 0,
    "start_time": "2025-03-22T19:41:46.560Z"
   },
   {
    "duration": 0,
    "start_time": "2025-03-22T19:41:46.562Z"
   },
   {
    "duration": 0,
    "start_time": "2025-03-22T19:41:46.563Z"
   },
   {
    "duration": 0,
    "start_time": "2025-03-22T19:41:46.565Z"
   },
   {
    "duration": 2421,
    "start_time": "2025-03-22T19:42:33.378Z"
   },
   {
    "duration": 1479,
    "start_time": "2025-03-22T19:42:35.801Z"
   },
   {
    "duration": 3,
    "start_time": "2025-03-22T19:42:37.281Z"
   },
   {
    "duration": 973,
    "start_time": "2025-03-22T19:42:37.286Z"
   },
   {
    "duration": 25,
    "start_time": "2025-03-22T19:42:38.262Z"
   },
   {
    "duration": 152,
    "start_time": "2025-03-22T19:42:38.289Z"
   },
   {
    "duration": 64,
    "start_time": "2025-03-22T19:42:38.442Z"
   },
   {
    "duration": 40,
    "start_time": "2025-03-22T19:42:38.507Z"
   },
   {
    "duration": 62,
    "start_time": "2025-03-22T19:42:38.548Z"
   },
   {
    "duration": 176,
    "start_time": "2025-03-22T19:42:38.612Z"
   },
   {
    "duration": 20,
    "start_time": "2025-03-22T19:42:38.790Z"
   },
   {
    "duration": 106,
    "start_time": "2025-03-22T19:42:38.812Z"
   },
   {
    "duration": 107,
    "start_time": "2025-03-22T19:42:38.919Z"
   },
   {
    "duration": 111,
    "start_time": "2025-03-22T19:42:39.028Z"
   },
   {
    "duration": 24,
    "start_time": "2025-03-22T19:42:39.141Z"
   },
   {
    "duration": 55,
    "start_time": "2025-03-22T19:42:39.167Z"
   },
   {
    "duration": 19,
    "start_time": "2025-03-22T19:42:39.224Z"
   },
   {
    "duration": 20,
    "start_time": "2025-03-22T19:42:39.244Z"
   },
   {
    "duration": 15,
    "start_time": "2025-03-22T19:42:39.266Z"
   },
   {
    "duration": 15,
    "start_time": "2025-03-22T19:42:39.283Z"
   },
   {
    "duration": 4,
    "start_time": "2025-03-22T19:42:39.300Z"
   },
   {
    "duration": 5,
    "start_time": "2025-03-22T19:42:39.306Z"
   },
   {
    "duration": 6,
    "start_time": "2025-03-22T19:42:39.312Z"
   },
   {
    "duration": 12,
    "start_time": "2025-03-22T19:42:39.319Z"
   },
   {
    "duration": 39,
    "start_time": "2025-03-22T19:42:39.333Z"
   },
   {
    "duration": 1143,
    "start_time": "2025-03-22T19:42:39.374Z"
   },
   {
    "duration": 5,
    "start_time": "2025-03-22T19:42:40.519Z"
   },
   {
    "duration": 90,
    "start_time": "2025-03-22T19:42:40.528Z"
   },
   {
    "duration": 10,
    "start_time": "2025-03-22T19:42:40.620Z"
   },
   {
    "duration": 0,
    "start_time": "2025-03-22T19:42:40.632Z"
   },
   {
    "duration": 1,
    "start_time": "2025-03-22T19:42:40.633Z"
   },
   {
    "duration": 0,
    "start_time": "2025-03-22T19:42:40.635Z"
   },
   {
    "duration": 0,
    "start_time": "2025-03-22T19:42:40.636Z"
   },
   {
    "duration": 0,
    "start_time": "2025-03-22T19:42:40.638Z"
   },
   {
    "duration": 0,
    "start_time": "2025-03-22T19:42:40.639Z"
   },
   {
    "duration": 0,
    "start_time": "2025-03-22T19:42:40.640Z"
   },
   {
    "duration": 0,
    "start_time": "2025-03-22T19:42:40.642Z"
   },
   {
    "duration": 0,
    "start_time": "2025-03-22T19:42:40.643Z"
   },
   {
    "duration": 0,
    "start_time": "2025-03-22T19:42:40.645Z"
   },
   {
    "duration": 0,
    "start_time": "2025-03-22T19:42:40.646Z"
   },
   {
    "duration": 0,
    "start_time": "2025-03-22T19:42:40.648Z"
   },
   {
    "duration": 0,
    "start_time": "2025-03-22T19:42:40.649Z"
   },
   {
    "duration": 2373,
    "start_time": "2025-03-22T19:43:50.923Z"
   },
   {
    "duration": 1434,
    "start_time": "2025-03-22T19:43:53.300Z"
   },
   {
    "duration": 3,
    "start_time": "2025-03-22T19:43:54.735Z"
   },
   {
    "duration": 899,
    "start_time": "2025-03-22T19:43:54.740Z"
   },
   {
    "duration": 33,
    "start_time": "2025-03-22T19:43:55.641Z"
   },
   {
    "duration": 170,
    "start_time": "2025-03-22T19:43:55.676Z"
   },
   {
    "duration": 64,
    "start_time": "2025-03-22T19:43:55.847Z"
   },
   {
    "duration": 52,
    "start_time": "2025-03-22T19:43:55.913Z"
   },
   {
    "duration": 48,
    "start_time": "2025-03-22T19:43:55.966Z"
   },
   {
    "duration": 92,
    "start_time": "2025-03-22T19:43:56.017Z"
   },
   {
    "duration": 19,
    "start_time": "2025-03-22T19:43:56.111Z"
   },
   {
    "duration": 102,
    "start_time": "2025-03-22T19:43:56.131Z"
   },
   {
    "duration": 169,
    "start_time": "2025-03-22T19:43:56.235Z"
   },
   {
    "duration": 112,
    "start_time": "2025-03-22T19:43:56.406Z"
   },
   {
    "duration": 14,
    "start_time": "2025-03-22T19:43:56.519Z"
   },
   {
    "duration": 64,
    "start_time": "2025-03-22T19:43:56.535Z"
   },
   {
    "duration": 19,
    "start_time": "2025-03-22T19:43:56.600Z"
   },
   {
    "duration": 138,
    "start_time": "2025-03-22T19:43:56.620Z"
   },
   {
    "duration": 15,
    "start_time": "2025-03-22T19:43:56.760Z"
   },
   {
    "duration": 9,
    "start_time": "2025-03-22T19:43:56.776Z"
   },
   {
    "duration": 5,
    "start_time": "2025-03-22T19:43:56.787Z"
   },
   {
    "duration": 10,
    "start_time": "2025-03-22T19:43:56.793Z"
   },
   {
    "duration": 8,
    "start_time": "2025-03-22T19:43:56.804Z"
   },
   {
    "duration": 9,
    "start_time": "2025-03-22T19:43:56.813Z"
   },
   {
    "duration": 9,
    "start_time": "2025-03-22T19:43:56.823Z"
   },
   {
    "duration": 1157,
    "start_time": "2025-03-22T19:43:56.833Z"
   },
   {
    "duration": 4,
    "start_time": "2025-03-22T19:43:57.991Z"
   },
   {
    "duration": 98,
    "start_time": "2025-03-22T19:43:57.998Z"
   },
   {
    "duration": 8,
    "start_time": "2025-03-22T19:43:58.098Z"
   },
   {
    "duration": 0,
    "start_time": "2025-03-22T19:43:58.108Z"
   },
   {
    "duration": 0,
    "start_time": "2025-03-22T19:43:58.109Z"
   },
   {
    "duration": 0,
    "start_time": "2025-03-22T19:43:58.110Z"
   },
   {
    "duration": 0,
    "start_time": "2025-03-22T19:43:58.111Z"
   },
   {
    "duration": 0,
    "start_time": "2025-03-22T19:43:58.112Z"
   },
   {
    "duration": 0,
    "start_time": "2025-03-22T19:43:58.113Z"
   },
   {
    "duration": 0,
    "start_time": "2025-03-22T19:43:58.114Z"
   },
   {
    "duration": 0,
    "start_time": "2025-03-22T19:43:58.115Z"
   },
   {
    "duration": 0,
    "start_time": "2025-03-22T19:43:58.116Z"
   },
   {
    "duration": 0,
    "start_time": "2025-03-22T19:43:58.117Z"
   },
   {
    "duration": 0,
    "start_time": "2025-03-22T19:43:58.118Z"
   },
   {
    "duration": 0,
    "start_time": "2025-03-22T19:43:58.119Z"
   },
   {
    "duration": 0,
    "start_time": "2025-03-22T19:43:58.120Z"
   },
   {
    "duration": 4,
    "start_time": "2025-03-22T19:44:44.074Z"
   },
   {
    "duration": 2477,
    "start_time": "2025-03-22T19:44:57.818Z"
   },
   {
    "duration": 1482,
    "start_time": "2025-03-22T19:45:00.297Z"
   },
   {
    "duration": 2,
    "start_time": "2025-03-22T19:45:01.781Z"
   },
   {
    "duration": 1022,
    "start_time": "2025-03-22T19:45:01.785Z"
   },
   {
    "duration": 25,
    "start_time": "2025-03-22T19:45:02.809Z"
   },
   {
    "duration": 178,
    "start_time": "2025-03-22T19:45:02.836Z"
   },
   {
    "duration": 59,
    "start_time": "2025-03-22T19:45:03.015Z"
   },
   {
    "duration": 36,
    "start_time": "2025-03-22T19:45:03.076Z"
   },
   {
    "duration": 69,
    "start_time": "2025-03-22T19:45:03.114Z"
   },
   {
    "duration": 97,
    "start_time": "2025-03-22T19:45:03.185Z"
   },
   {
    "duration": 45,
    "start_time": "2025-03-22T19:45:03.283Z"
   },
   {
    "duration": 102,
    "start_time": "2025-03-22T19:45:03.329Z"
   },
   {
    "duration": 141,
    "start_time": "2025-03-22T19:45:03.433Z"
   },
   {
    "duration": 136,
    "start_time": "2025-03-22T19:45:03.579Z"
   },
   {
    "duration": 16,
    "start_time": "2025-03-22T19:45:03.716Z"
   },
   {
    "duration": 63,
    "start_time": "2025-03-22T19:45:03.733Z"
   },
   {
    "duration": 18,
    "start_time": "2025-03-22T19:45:03.797Z"
   },
   {
    "duration": 21,
    "start_time": "2025-03-22T19:45:03.817Z"
   },
   {
    "duration": 14,
    "start_time": "2025-03-22T19:45:03.839Z"
   },
   {
    "duration": 26,
    "start_time": "2025-03-22T19:45:03.854Z"
   },
   {
    "duration": 33,
    "start_time": "2025-03-22T19:45:03.882Z"
   },
   {
    "duration": 12,
    "start_time": "2025-03-22T19:45:03.917Z"
   },
   {
    "duration": 9,
    "start_time": "2025-03-22T19:45:03.930Z"
   },
   {
    "duration": 9,
    "start_time": "2025-03-22T19:45:03.940Z"
   },
   {
    "duration": 24,
    "start_time": "2025-03-22T19:45:03.951Z"
   },
   {
    "duration": 3898,
    "start_time": "2025-03-22T19:45:03.977Z"
   },
   {
    "duration": 4,
    "start_time": "2025-03-22T19:45:07.876Z"
   },
   {
    "duration": 261,
    "start_time": "2025-03-22T19:45:07.882Z"
   },
   {
    "duration": 9,
    "start_time": "2025-03-22T19:45:08.144Z"
   },
   {
    "duration": 0,
    "start_time": "2025-03-22T19:45:08.155Z"
   },
   {
    "duration": 0,
    "start_time": "2025-03-22T19:45:08.156Z"
   },
   {
    "duration": 0,
    "start_time": "2025-03-22T19:45:08.157Z"
   },
   {
    "duration": 0,
    "start_time": "2025-03-22T19:45:08.158Z"
   },
   {
    "duration": 0,
    "start_time": "2025-03-22T19:45:08.159Z"
   },
   {
    "duration": 0,
    "start_time": "2025-03-22T19:45:08.160Z"
   },
   {
    "duration": 0,
    "start_time": "2025-03-22T19:45:08.161Z"
   },
   {
    "duration": 0,
    "start_time": "2025-03-22T19:45:08.161Z"
   },
   {
    "duration": 0,
    "start_time": "2025-03-22T19:45:08.162Z"
   },
   {
    "duration": 0,
    "start_time": "2025-03-22T19:45:08.163Z"
   },
   {
    "duration": 0,
    "start_time": "2025-03-22T19:45:08.164Z"
   },
   {
    "duration": 0,
    "start_time": "2025-03-22T19:45:08.165Z"
   },
   {
    "duration": 0,
    "start_time": "2025-03-22T19:45:08.179Z"
   },
   {
    "duration": 2395,
    "start_time": "2025-03-22T19:46:25.654Z"
   },
   {
    "duration": 1450,
    "start_time": "2025-03-22T19:46:28.051Z"
   },
   {
    "duration": 3,
    "start_time": "2025-03-22T19:46:29.503Z"
   },
   {
    "duration": 874,
    "start_time": "2025-03-22T19:46:29.507Z"
   },
   {
    "duration": 25,
    "start_time": "2025-03-22T19:46:30.383Z"
   },
   {
    "duration": 153,
    "start_time": "2025-03-22T19:46:30.410Z"
   },
   {
    "duration": 56,
    "start_time": "2025-03-22T19:46:30.564Z"
   },
   {
    "duration": 66,
    "start_time": "2025-03-22T19:46:30.622Z"
   },
   {
    "duration": 140,
    "start_time": "2025-03-22T19:46:30.690Z"
   },
   {
    "duration": 88,
    "start_time": "2025-03-22T19:46:30.832Z"
   },
   {
    "duration": 30,
    "start_time": "2025-03-22T19:46:30.921Z"
   },
   {
    "duration": 95,
    "start_time": "2025-03-22T19:46:30.952Z"
   },
   {
    "duration": 100,
    "start_time": "2025-03-22T19:46:31.048Z"
   },
   {
    "duration": 114,
    "start_time": "2025-03-22T19:46:31.151Z"
   },
   {
    "duration": 13,
    "start_time": "2025-03-22T19:46:31.267Z"
   },
   {
    "duration": 65,
    "start_time": "2025-03-22T19:46:31.282Z"
   },
   {
    "duration": 21,
    "start_time": "2025-03-22T19:46:31.349Z"
   },
   {
    "duration": 4,
    "start_time": "2025-03-22T19:46:31.372Z"
   },
   {
    "duration": 29,
    "start_time": "2025-03-22T19:46:31.377Z"
   },
   {
    "duration": 17,
    "start_time": "2025-03-22T19:46:31.407Z"
   },
   {
    "duration": 5,
    "start_time": "2025-03-22T19:46:31.426Z"
   },
   {
    "duration": 5,
    "start_time": "2025-03-22T19:46:31.432Z"
   },
   {
    "duration": 7,
    "start_time": "2025-03-22T19:46:31.438Z"
   },
   {
    "duration": 13,
    "start_time": "2025-03-22T19:46:31.446Z"
   },
   {
    "duration": 31,
    "start_time": "2025-03-22T19:46:31.460Z"
   },
   {
    "duration": 3777,
    "start_time": "2025-03-22T19:46:31.493Z"
   },
   {
    "duration": 3,
    "start_time": "2025-03-22T19:46:35.272Z"
   },
   {
    "duration": 229,
    "start_time": "2025-03-22T19:46:35.277Z"
   },
   {
    "duration": 9,
    "start_time": "2025-03-22T19:46:35.508Z"
   },
   {
    "duration": 0,
    "start_time": "2025-03-22T19:46:35.519Z"
   },
   {
    "duration": 0,
    "start_time": "2025-03-22T19:46:35.520Z"
   },
   {
    "duration": 0,
    "start_time": "2025-03-22T19:46:35.521Z"
   },
   {
    "duration": 0,
    "start_time": "2025-03-22T19:46:35.522Z"
   },
   {
    "duration": 0,
    "start_time": "2025-03-22T19:46:35.523Z"
   },
   {
    "duration": 0,
    "start_time": "2025-03-22T19:46:35.524Z"
   },
   {
    "duration": 0,
    "start_time": "2025-03-22T19:46:35.526Z"
   },
   {
    "duration": 0,
    "start_time": "2025-03-22T19:46:35.527Z"
   },
   {
    "duration": 0,
    "start_time": "2025-03-22T19:46:35.528Z"
   },
   {
    "duration": 0,
    "start_time": "2025-03-22T19:46:35.529Z"
   },
   {
    "duration": 0,
    "start_time": "2025-03-22T19:46:35.530Z"
   },
   {
    "duration": 0,
    "start_time": "2025-03-22T19:46:35.531Z"
   },
   {
    "duration": 0,
    "start_time": "2025-03-22T19:46:35.532Z"
   },
   {
    "duration": 2322,
    "start_time": "2025-03-22T19:49:20.395Z"
   },
   {
    "duration": 1398,
    "start_time": "2025-03-22T19:49:22.719Z"
   },
   {
    "duration": 3,
    "start_time": "2025-03-22T19:49:24.119Z"
   },
   {
    "duration": 848,
    "start_time": "2025-03-22T19:49:24.124Z"
   },
   {
    "duration": 25,
    "start_time": "2025-03-22T19:49:24.973Z"
   },
   {
    "duration": 162,
    "start_time": "2025-03-22T19:49:25.000Z"
   },
   {
    "duration": 65,
    "start_time": "2025-03-22T19:49:25.164Z"
   },
   {
    "duration": 45,
    "start_time": "2025-03-22T19:49:25.230Z"
   },
   {
    "duration": 35,
    "start_time": "2025-03-22T19:49:25.276Z"
   },
   {
    "duration": 98,
    "start_time": "2025-03-22T19:49:25.314Z"
   },
   {
    "duration": 20,
    "start_time": "2025-03-22T19:49:25.413Z"
   },
   {
    "duration": 107,
    "start_time": "2025-03-22T19:49:25.434Z"
   },
   {
    "duration": 202,
    "start_time": "2025-03-22T19:49:25.542Z"
   },
   {
    "duration": 117,
    "start_time": "2025-03-22T19:49:25.746Z"
   },
   {
    "duration": 13,
    "start_time": "2025-03-22T19:49:25.865Z"
   },
   {
    "duration": 61,
    "start_time": "2025-03-22T19:49:25.880Z"
   },
   {
    "duration": 4,
    "start_time": "2025-03-22T19:49:25.942Z"
   },
   {
    "duration": 20,
    "start_time": "2025-03-22T19:49:25.948Z"
   },
   {
    "duration": 32,
    "start_time": "2025-03-22T19:49:25.970Z"
   },
   {
    "duration": 3,
    "start_time": "2025-03-22T19:49:26.004Z"
   },
   {
    "duration": 5,
    "start_time": "2025-03-22T19:49:26.008Z"
   },
   {
    "duration": 5,
    "start_time": "2025-03-22T19:49:26.014Z"
   },
   {
    "duration": 9,
    "start_time": "2025-03-22T19:49:26.021Z"
   },
   {
    "duration": 31,
    "start_time": "2025-03-22T19:49:26.031Z"
   },
   {
    "duration": 699,
    "start_time": "2025-03-22T19:49:26.063Z"
   },
   {
    "duration": 3,
    "start_time": "2025-03-22T19:49:26.764Z"
   },
   {
    "duration": 207,
    "start_time": "2025-03-22T19:49:26.769Z"
   },
   {
    "duration": 9,
    "start_time": "2025-03-22T19:49:26.979Z"
   },
   {
    "duration": 0,
    "start_time": "2025-03-22T19:49:26.990Z"
   },
   {
    "duration": 0,
    "start_time": "2025-03-22T19:49:26.991Z"
   },
   {
    "duration": 0,
    "start_time": "2025-03-22T19:49:26.992Z"
   },
   {
    "duration": 0,
    "start_time": "2025-03-22T19:49:26.993Z"
   },
   {
    "duration": 0,
    "start_time": "2025-03-22T19:49:26.994Z"
   },
   {
    "duration": 0,
    "start_time": "2025-03-22T19:49:26.996Z"
   },
   {
    "duration": 0,
    "start_time": "2025-03-22T19:49:26.996Z"
   },
   {
    "duration": 0,
    "start_time": "2025-03-22T19:49:26.998Z"
   },
   {
    "duration": 0,
    "start_time": "2025-03-22T19:49:26.999Z"
   },
   {
    "duration": 0,
    "start_time": "2025-03-22T19:49:27.000Z"
   },
   {
    "duration": 0,
    "start_time": "2025-03-22T19:49:27.001Z"
   },
   {
    "duration": 0,
    "start_time": "2025-03-22T19:49:27.002Z"
   },
   {
    "duration": 0,
    "start_time": "2025-03-22T19:49:27.003Z"
   },
   {
    "duration": 2376,
    "start_time": "2025-03-22T19:52:59.626Z"
   },
   {
    "duration": 1650,
    "start_time": "2025-03-22T19:53:02.005Z"
   },
   {
    "duration": 5,
    "start_time": "2025-03-22T19:53:03.657Z"
   },
   {
    "duration": 874,
    "start_time": "2025-03-22T19:53:03.663Z"
   },
   {
    "duration": 33,
    "start_time": "2025-03-22T19:53:04.539Z"
   },
   {
    "duration": 148,
    "start_time": "2025-03-22T19:53:04.574Z"
   },
   {
    "duration": 61,
    "start_time": "2025-03-22T19:53:04.724Z"
   },
   {
    "duration": 42,
    "start_time": "2025-03-22T19:53:04.787Z"
   },
   {
    "duration": 50,
    "start_time": "2025-03-22T19:53:04.831Z"
   },
   {
    "duration": 92,
    "start_time": "2025-03-22T19:53:04.883Z"
   },
   {
    "duration": 29,
    "start_time": "2025-03-22T19:53:04.976Z"
   },
   {
    "duration": 110,
    "start_time": "2025-03-22T19:53:05.007Z"
   },
   {
    "duration": 99,
    "start_time": "2025-03-22T19:53:05.119Z"
   },
   {
    "duration": 116,
    "start_time": "2025-03-22T19:53:05.221Z"
   },
   {
    "duration": 14,
    "start_time": "2025-03-22T19:53:05.338Z"
   },
   {
    "duration": 88,
    "start_time": "2025-03-22T19:53:05.363Z"
   },
   {
    "duration": 25,
    "start_time": "2025-03-22T19:53:05.452Z"
   },
   {
    "duration": 21,
    "start_time": "2025-03-22T19:53:05.479Z"
   },
   {
    "duration": 92,
    "start_time": "2025-03-22T19:53:05.501Z"
   },
   {
    "duration": 2,
    "start_time": "2025-03-22T19:53:05.595Z"
   },
   {
    "duration": 73,
    "start_time": "2025-03-22T19:53:05.599Z"
   },
   {
    "duration": 38,
    "start_time": "2025-03-22T19:53:05.674Z"
   },
   {
    "duration": 19,
    "start_time": "2025-03-22T19:53:05.714Z"
   },
   {
    "duration": 18,
    "start_time": "2025-03-22T19:53:05.735Z"
   },
   {
    "duration": 225605,
    "start_time": "2025-03-22T19:53:05.755Z"
   },
   {
    "duration": 3,
    "start_time": "2025-03-22T19:56:51.362Z"
   },
   {
    "duration": 179,
    "start_time": "2025-03-22T19:56:51.367Z"
   },
   {
    "duration": 5,
    "start_time": "2025-03-22T19:56:51.547Z"
   },
   {
    "duration": 10,
    "start_time": "2025-03-22T19:56:51.553Z"
   },
   {
    "duration": 21980,
    "start_time": "2025-03-22T19:56:51.564Z"
   },
   {
    "duration": 4,
    "start_time": "2025-03-22T19:57:13.546Z"
   },
   {
    "duration": 206,
    "start_time": "2025-03-22T19:57:13.562Z"
   },
   {
    "duration": 5,
    "start_time": "2025-03-22T19:57:13.769Z"
   },
   {
    "duration": 6,
    "start_time": "2025-03-22T19:57:13.775Z"
   },
   {
    "duration": 121190,
    "start_time": "2025-03-22T19:57:13.783Z"
   },
   {
    "duration": 7,
    "start_time": "2025-03-22T19:59:14.975Z"
   },
   {
    "duration": 687,
    "start_time": "2025-03-22T19:59:14.984Z"
   },
   {
    "duration": 5,
    "start_time": "2025-03-22T19:59:15.673Z"
   },
   {
    "duration": 961,
    "start_time": "2025-03-22T19:59:15.679Z"
   },
   {
    "duration": 335,
    "start_time": "2025-03-22T19:59:16.641Z"
   },
   {
    "duration": 6,
    "start_time": "2025-03-22T19:59:16.980Z"
   },
   {
    "duration": 3,
    "start_time": "2025-03-22T20:02:25.123Z"
   },
   {
    "duration": 4,
    "start_time": "2025-03-22T20:02:31.179Z"
   },
   {
    "duration": 3545,
    "start_time": "2025-03-23T11:30:22.172Z"
   },
   {
    "duration": 1626,
    "start_time": "2025-03-23T11:30:25.719Z"
   },
   {
    "duration": 3,
    "start_time": "2025-03-23T11:30:27.347Z"
   },
   {
    "duration": 844,
    "start_time": "2025-03-23T11:30:27.352Z"
   },
   {
    "duration": 25,
    "start_time": "2025-03-23T11:30:28.197Z"
   },
   {
    "duration": 153,
    "start_time": "2025-03-23T11:30:28.224Z"
   },
   {
    "duration": 55,
    "start_time": "2025-03-23T11:30:28.379Z"
   },
   {
    "duration": 44,
    "start_time": "2025-03-23T11:30:28.436Z"
   },
   {
    "duration": 35,
    "start_time": "2025-03-23T11:30:28.481Z"
   },
   {
    "duration": 94,
    "start_time": "2025-03-23T11:30:28.518Z"
   },
   {
    "duration": 20,
    "start_time": "2025-03-23T11:30:28.613Z"
   },
   {
    "duration": 105,
    "start_time": "2025-03-23T11:30:28.634Z"
   },
   {
    "duration": 141,
    "start_time": "2025-03-23T11:30:28.740Z"
   },
   {
    "duration": 126,
    "start_time": "2025-03-23T11:30:28.883Z"
   },
   {
    "duration": 13,
    "start_time": "2025-03-23T11:30:29.011Z"
   },
   {
    "duration": 107,
    "start_time": "2025-03-23T11:30:29.026Z"
   },
   {
    "duration": 36,
    "start_time": "2025-03-23T11:30:29.134Z"
   },
   {
    "duration": 15,
    "start_time": "2025-03-23T11:30:29.172Z"
   },
   {
    "duration": 20,
    "start_time": "2025-03-23T11:30:29.188Z"
   },
   {
    "duration": 76,
    "start_time": "2025-03-23T11:30:29.209Z"
   },
   {
    "duration": 2,
    "start_time": "2025-03-23T11:30:29.287Z"
   },
   {
    "duration": 4,
    "start_time": "2025-03-23T11:30:29.291Z"
   },
   {
    "duration": 3,
    "start_time": "2025-03-23T11:30:29.296Z"
   },
   {
    "duration": 9,
    "start_time": "2025-03-23T11:30:29.300Z"
   },
   {
    "duration": 6,
    "start_time": "2025-03-23T11:30:29.310Z"
   },
   {
    "duration": 222503,
    "start_time": "2025-03-23T11:30:29.318Z"
   },
   {
    "duration": 4,
    "start_time": "2025-03-23T11:34:11.822Z"
   },
   {
    "duration": 14,
    "start_time": "2025-03-23T11:34:11.829Z"
   },
   {
    "duration": 22785,
    "start_time": "2025-03-23T11:34:11.844Z"
   },
   {
    "duration": 4,
    "start_time": "2025-03-23T11:34:34.630Z"
   },
   {
    "duration": 11,
    "start_time": "2025-03-23T11:34:34.635Z"
   },
   {
    "duration": 164926,
    "start_time": "2025-03-23T11:34:34.647Z"
   },
   {
    "duration": 4,
    "start_time": "2025-03-23T11:37:19.575Z"
   },
   {
    "duration": 601,
    "start_time": "2025-03-23T11:37:19.580Z"
   },
   {
    "duration": 88,
    "start_time": "2025-03-23T11:37:20.183Z"
   },
   {
    "duration": 1037,
    "start_time": "2025-03-23T11:37:20.273Z"
   },
   {
    "duration": 281,
    "start_time": "2025-03-23T11:37:21.311Z"
   },
   {
    "duration": 5,
    "start_time": "2025-03-23T11:37:21.594Z"
   },
   {
    "duration": 3456,
    "start_time": "2025-03-24T09:15:12.715Z"
   },
   {
    "duration": 1663,
    "start_time": "2025-03-24T09:15:16.174Z"
   },
   {
    "duration": 3,
    "start_time": "2025-03-24T09:15:17.839Z"
   },
   {
    "duration": 845,
    "start_time": "2025-03-24T09:15:17.844Z"
   },
   {
    "duration": 26,
    "start_time": "2025-03-24T09:15:18.690Z"
   },
   {
    "duration": 155,
    "start_time": "2025-03-24T09:15:18.718Z"
   },
   {
    "duration": 88,
    "start_time": "2025-03-24T09:15:18.875Z"
   },
   {
    "duration": 36,
    "start_time": "2025-03-24T09:15:18.964Z"
   },
   {
    "duration": 43,
    "start_time": "2025-03-24T09:15:19.001Z"
   },
   {
    "duration": 91,
    "start_time": "2025-03-24T09:15:19.046Z"
   },
   {
    "duration": 19,
    "start_time": "2025-03-24T09:15:19.138Z"
   },
   {
    "duration": 97,
    "start_time": "2025-03-24T09:15:19.158Z"
   },
   {
    "duration": 100,
    "start_time": "2025-03-24T09:15:19.257Z"
   },
   {
    "duration": 131,
    "start_time": "2025-03-24T09:15:19.359Z"
   },
   {
    "duration": 13,
    "start_time": "2025-03-24T09:15:19.492Z"
   },
   {
    "duration": 94,
    "start_time": "2025-03-24T09:15:19.507Z"
   },
   {
    "duration": 16,
    "start_time": "2025-03-24T09:15:19.603Z"
   },
   {
    "duration": 23,
    "start_time": "2025-03-24T09:15:19.620Z"
   },
   {
    "duration": 63,
    "start_time": "2025-03-24T09:15:19.645Z"
   },
   {
    "duration": 84,
    "start_time": "2025-03-24T09:15:19.710Z"
   },
   {
    "duration": 68,
    "start_time": "2025-03-24T09:15:19.795Z"
   },
   {
    "duration": 7,
    "start_time": "2025-03-24T09:15:19.864Z"
   },
   {
    "duration": 12,
    "start_time": "2025-03-24T09:15:19.873Z"
   },
   {
    "duration": 4,
    "start_time": "2025-03-24T09:15:19.886Z"
   },
   {
    "duration": 222911,
    "start_time": "2025-03-24T09:15:19.892Z"
   },
   {
    "duration": 120,
    "start_time": "2025-03-24T09:19:02.804Z"
   },
   {
    "duration": 0,
    "start_time": "2025-03-24T09:19:02.925Z"
   },
   {
    "duration": 0,
    "start_time": "2025-03-24T09:19:02.927Z"
   },
   {
    "duration": 0,
    "start_time": "2025-03-24T09:19:02.935Z"
   },
   {
    "duration": 0,
    "start_time": "2025-03-24T09:19:02.936Z"
   },
   {
    "duration": 0,
    "start_time": "2025-03-24T09:19:02.937Z"
   },
   {
    "duration": 0,
    "start_time": "2025-03-24T09:19:02.939Z"
   },
   {
    "duration": 0,
    "start_time": "2025-03-24T09:19:02.940Z"
   },
   {
    "duration": 0,
    "start_time": "2025-03-24T09:19:02.941Z"
   },
   {
    "duration": 0,
    "start_time": "2025-03-24T09:19:02.942Z"
   },
   {
    "duration": 0,
    "start_time": "2025-03-24T09:19:02.944Z"
   },
   {
    "duration": 0,
    "start_time": "2025-03-24T09:19:02.945Z"
   },
   {
    "duration": 0,
    "start_time": "2025-03-24T09:19:02.946Z"
   },
   {
    "duration": 0,
    "start_time": "2025-03-24T09:19:02.948Z"
   },
   {
    "duration": 0,
    "start_time": "2025-03-24T09:19:02.949Z"
   },
   {
    "duration": 4,
    "start_time": "2025-03-24T09:19:42.604Z"
   },
   {
    "duration": 3,
    "start_time": "2025-03-24T09:19:46.795Z"
   },
   {
    "duration": 3,
    "start_time": "2025-03-24T09:19:47.599Z"
   },
   {
    "duration": 23040,
    "start_time": "2025-03-24T09:19:48.205Z"
   },
   {
    "duration": 3,
    "start_time": "2025-03-24T09:20:11.248Z"
   },
   {
    "duration": 27,
    "start_time": "2025-03-24T09:20:11.253Z"
   },
   {
    "duration": 3,
    "start_time": "2025-03-24T09:20:11.283Z"
   },
   {
    "duration": 125762,
    "start_time": "2025-03-24T09:20:11.287Z"
   },
   {
    "duration": 3,
    "start_time": "2025-03-24T09:22:17.051Z"
   },
   {
    "duration": 82,
    "start_time": "2025-03-24T09:22:17.056Z"
   },
   {
    "duration": 603,
    "start_time": "2025-03-24T09:22:17.140Z"
   },
   {
    "duration": 6,
    "start_time": "2025-03-24T09:22:17.745Z"
   },
   {
    "duration": 954,
    "start_time": "2025-03-24T09:22:17.753Z"
   },
   {
    "duration": 329,
    "start_time": "2025-03-24T09:22:18.708Z"
   },
   {
    "duration": 5,
    "start_time": "2025-03-24T09:22:19.039Z"
   },
   {
    "duration": 2396,
    "start_time": "2025-03-24T09:47:35.080Z"
   },
   {
    "duration": 1423,
    "start_time": "2025-03-24T09:47:37.478Z"
   },
   {
    "duration": 3,
    "start_time": "2025-03-24T09:47:38.902Z"
   },
   {
    "duration": 907,
    "start_time": "2025-03-24T09:47:38.907Z"
   },
   {
    "duration": 32,
    "start_time": "2025-03-24T09:47:39.815Z"
   },
   {
    "duration": 179,
    "start_time": "2025-03-24T09:47:39.849Z"
   },
   {
    "duration": 52,
    "start_time": "2025-03-24T09:47:40.030Z"
   },
   {
    "duration": 52,
    "start_time": "2025-03-24T09:47:40.084Z"
   },
   {
    "duration": 42,
    "start_time": "2025-03-24T09:47:40.138Z"
   },
   {
    "duration": 86,
    "start_time": "2025-03-24T09:47:40.183Z"
   },
   {
    "duration": 42,
    "start_time": "2025-03-24T09:47:40.271Z"
   },
   {
    "duration": 91,
    "start_time": "2025-03-24T09:47:40.315Z"
   },
   {
    "duration": 101,
    "start_time": "2025-03-24T09:47:40.408Z"
   },
   {
    "duration": 106,
    "start_time": "2025-03-24T09:47:40.511Z"
   },
   {
    "duration": 26,
    "start_time": "2025-03-24T09:47:40.619Z"
   },
   {
    "duration": 94,
    "start_time": "2025-03-24T09:47:40.647Z"
   },
   {
    "duration": 15,
    "start_time": "2025-03-24T09:47:40.743Z"
   },
   {
    "duration": 15,
    "start_time": "2025-03-24T09:47:40.760Z"
   },
   {
    "duration": 85,
    "start_time": "2025-03-24T09:47:40.777Z"
   },
   {
    "duration": 3,
    "start_time": "2025-03-24T09:47:40.863Z"
   },
   {
    "duration": 6,
    "start_time": "2025-03-24T09:47:40.868Z"
   },
   {
    "duration": 5,
    "start_time": "2025-03-24T09:47:40.875Z"
   },
   {
    "duration": 10,
    "start_time": "2025-03-24T09:47:40.881Z"
   },
   {
    "duration": 5,
    "start_time": "2025-03-24T09:47:40.892Z"
   },
   {
    "duration": 227489,
    "start_time": "2025-03-24T09:47:40.898Z"
   },
   {
    "duration": 4,
    "start_time": "2025-03-24T09:51:28.389Z"
   },
   {
    "duration": 5,
    "start_time": "2025-03-24T09:51:28.395Z"
   },
   {
    "duration": 3,
    "start_time": "2025-03-24T09:51:28.403Z"
   },
   {
    "duration": 22586,
    "start_time": "2025-03-24T09:51:28.407Z"
   },
   {
    "duration": 4,
    "start_time": "2025-03-24T09:51:50.995Z"
   },
   {
    "duration": 13,
    "start_time": "2025-03-24T09:51:51.001Z"
   },
   {
    "duration": 4,
    "start_time": "2025-03-24T09:51:51.015Z"
   },
   {
    "duration": 149621,
    "start_time": "2025-03-24T09:51:51.020Z"
   },
   {
    "duration": 4,
    "start_time": "2025-03-24T09:54:20.643Z"
   },
   {
    "duration": 13,
    "start_time": "2025-03-24T09:54:20.648Z"
   },
   {
    "duration": 678,
    "start_time": "2025-03-24T09:54:20.662Z"
   },
   {
    "duration": 5,
    "start_time": "2025-03-24T09:54:21.342Z"
   },
   {
    "duration": 960,
    "start_time": "2025-03-24T09:54:21.349Z"
   },
   {
    "duration": 257,
    "start_time": "2025-03-24T09:54:22.311Z"
   },
   {
    "duration": 7,
    "start_time": "2025-03-24T09:54:22.636Z"
   },
   {
    "duration": 4,
    "start_time": "2025-03-24T09:58:16.825Z"
   },
   {
    "duration": 4,
    "start_time": "2025-03-24T09:58:24.411Z"
   },
   {
    "duration": 4,
    "start_time": "2025-03-24T09:58:26.461Z"
   },
   {
    "duration": 589,
    "start_time": "2025-03-24T10:02:25.457Z"
   },
   {
    "duration": 5,
    "start_time": "2025-03-24T10:02:27.916Z"
   },
   {
    "duration": 900,
    "start_time": "2025-03-24T10:08:59.115Z"
   },
   {
    "duration": 235,
    "start_time": "2025-03-24T10:09:01.503Z"
   },
   {
    "duration": 11,
    "start_time": "2025-03-24T10:09:05.343Z"
   },
   {
    "duration": 2400,
    "start_time": "2025-03-24T10:11:40.131Z"
   },
   {
    "duration": 1465,
    "start_time": "2025-03-24T10:11:42.534Z"
   },
   {
    "duration": 2,
    "start_time": "2025-03-24T10:11:44.001Z"
   },
   {
    "duration": 866,
    "start_time": "2025-03-24T10:11:44.005Z"
   },
   {
    "duration": 26,
    "start_time": "2025-03-24T10:11:44.872Z"
   },
   {
    "duration": 147,
    "start_time": "2025-03-24T10:11:44.900Z"
   },
   {
    "duration": 107,
    "start_time": "2025-03-24T10:11:45.048Z"
   },
   {
    "duration": 40,
    "start_time": "2025-03-24T10:11:45.156Z"
   },
   {
    "duration": 48,
    "start_time": "2025-03-24T10:11:45.197Z"
   },
   {
    "duration": 91,
    "start_time": "2025-03-24T10:11:45.247Z"
   },
   {
    "duration": 26,
    "start_time": "2025-03-24T10:11:45.340Z"
   },
   {
    "duration": 103,
    "start_time": "2025-03-24T10:11:45.368Z"
   },
   {
    "duration": 95,
    "start_time": "2025-03-24T10:11:45.472Z"
   },
   {
    "duration": 114,
    "start_time": "2025-03-24T10:11:45.568Z"
   },
   {
    "duration": 14,
    "start_time": "2025-03-24T10:11:45.684Z"
   },
   {
    "duration": 104,
    "start_time": "2025-03-24T10:11:45.699Z"
   },
   {
    "duration": 17,
    "start_time": "2025-03-24T10:11:45.804Z"
   },
   {
    "duration": 18,
    "start_time": "2025-03-24T10:11:45.823Z"
   },
   {
    "duration": 195,
    "start_time": "2025-03-24T10:11:45.843Z"
   },
   {
    "duration": 3,
    "start_time": "2025-03-24T10:11:46.040Z"
   },
   {
    "duration": 4,
    "start_time": "2025-03-24T10:11:46.044Z"
   },
   {
    "duration": 4,
    "start_time": "2025-03-24T10:11:46.050Z"
   },
   {
    "duration": 10,
    "start_time": "2025-03-24T10:11:46.056Z"
   },
   {
    "duration": 5,
    "start_time": "2025-03-24T10:11:46.068Z"
   },
   {
    "duration": 226827,
    "start_time": "2025-03-24T10:11:46.074Z"
   },
   {
    "duration": 3,
    "start_time": "2025-03-24T10:15:32.903Z"
   },
   {
    "duration": 4,
    "start_time": "2025-03-24T10:15:32.907Z"
   },
   {
    "duration": 12,
    "start_time": "2025-03-24T10:15:32.914Z"
   },
   {
    "duration": 22600,
    "start_time": "2025-03-24T10:15:32.927Z"
   },
   {
    "duration": 8,
    "start_time": "2025-03-24T10:15:55.528Z"
   },
   {
    "duration": 8,
    "start_time": "2025-03-24T10:15:55.537Z"
   },
   {
    "duration": 3,
    "start_time": "2025-03-24T10:15:55.546Z"
   },
   {
    "duration": 138398,
    "start_time": "2025-03-24T10:15:55.551Z"
   },
   {
    "duration": 4,
    "start_time": "2025-03-24T10:18:13.951Z"
   },
   {
    "duration": 4,
    "start_time": "2025-03-24T10:18:14.036Z"
   },
   {
    "duration": 695,
    "start_time": "2025-03-24T10:18:14.042Z"
   },
   {
    "duration": 5,
    "start_time": "2025-03-24T10:18:14.739Z"
   },
   {
    "duration": 967,
    "start_time": "2025-03-24T10:18:14.746Z"
   },
   {
    "duration": 336,
    "start_time": "2025-03-24T10:18:15.714Z"
   },
   {
    "duration": 6,
    "start_time": "2025-03-24T10:18:16.052Z"
   }
  ],
  "kernelspec": {
   "display_name": "Python 3 (ipykernel)",
   "language": "python",
   "name": "python3"
  },
  "language_info": {
   "codemirror_mode": {
    "name": "ipython",
    "version": 3
   },
   "file_extension": ".py",
   "mimetype": "text/x-python",
   "name": "python",
   "nbconvert_exporter": "python",
   "pygments_lexer": "ipython3",
   "version": "3.12.5"
  },
  "toc": {
   "base_numbering": 1,
   "nav_menu": {},
   "number_sections": true,
   "sideBar": true,
   "skip_h1_title": true,
   "title_cell": "Table of Contents",
   "title_sidebar": "Contents",
   "toc_cell": false,
   "toc_position": {},
   "toc_section_display": true,
   "toc_window_display": false
  }
 },
 "nbformat": 4,
 "nbformat_minor": 4
}
